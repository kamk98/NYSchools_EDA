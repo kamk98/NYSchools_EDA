{
 "cells": [
  {
   "cell_type": "markdown",
   "metadata": {},
   "source": [
    "We will first begin with the required imports"
   ]
  },
  {
   "cell_type": "code",
   "execution_count": 88,
   "metadata": {},
   "outputs": [],
   "source": [
    "import pandas as pd\n",
    "import requests\n",
    "import seaborn as sns\n",
    "from plotly.offline import download_plotlyjs,init_notebook_mode,plot,iplot\n",
    "import plotly.graph_objs as go\n",
    "import matplotlib.pyplot as plt"
   ]
  },
  {
   "cell_type": "code",
   "execution_count": 89,
   "metadata": {},
   "outputs": [
    {
     "data": {
      "text/plain": [
       "['DBN',\n",
       " 'Name',\n",
       " 'schoolyear',\n",
       " 'fl_percent',\n",
       " 'frl_percent',\n",
       " 'total_enrollment',\n",
       " 'prek',\n",
       " 'k',\n",
       " 'grade1',\n",
       " 'grade2',\n",
       " 'grade3',\n",
       " 'grade4',\n",
       " 'grade5',\n",
       " 'grade6',\n",
       " 'grade7',\n",
       " 'grade8',\n",
       " 'grade9',\n",
       " 'grade10',\n",
       " 'grade11',\n",
       " 'grade12',\n",
       " 'ell_num',\n",
       " 'ell_percent',\n",
       " 'sped_num',\n",
       " 'sped_percent',\n",
       " 'ctt_num',\n",
       " 'selfcontained_num',\n",
       " 'asian_num',\n",
       " 'asian_per',\n",
       " 'black_num',\n",
       " 'black_per',\n",
       " 'hispanic_num',\n",
       " 'hispanic_per',\n",
       " 'white_num',\n",
       " 'white_per',\n",
       " 'male_num',\n",
       " 'male_per',\n",
       " 'female_num',\n",
       " 'female_per']"
      ]
     },
     "execution_count": 89,
     "metadata": {},
     "output_type": "execute_result"
    }
   ],
   "source": [
    "response=requests.get('https://data.cityofnewyork.us/api/views/ihfw-zy9j/rows.json').json()  #--(1)\n",
    "columns=[]\n",
    "for i in response['meta']['view']['columns']:\n",
    "\tif(i['id']==-1):\n",
    "\t\tcontinue  #--(5)\n",
    "\telse:\n",
    "\t\tcolumns.append(i['name'])\n",
    "columns"
   ]
  },
  {
   "cell_type": "code",
   "execution_count": 90,
   "metadata": {},
   "outputs": [
    {
     "data": {
      "text/plain": [
       "[['01M015'],\n",
       " ['P.S. 015 ROBERTO CLEMENTE'],\n",
       " ['20052006'],\n",
       " ['89.4'],\n",
       " [None],\n",
       " ['281'],\n",
       " ['15'],\n",
       " ['36'],\n",
       " ['40'],\n",
       " ['33'],\n",
       " ['38'],\n",
       " ['52'],\n",
       " ['29'],\n",
       " ['38'],\n",
       " [None],\n",
       " [None],\n",
       " [None],\n",
       " [None],\n",
       " [None],\n",
       " [None],\n",
       " ['36'],\n",
       " ['12.8'],\n",
       " ['57'],\n",
       " ['20.3'],\n",
       " ['25'],\n",
       " ['9'],\n",
       " ['10'],\n",
       " ['3.6'],\n",
       " ['74'],\n",
       " ['26.3'],\n",
       " ['189'],\n",
       " ['67.3'],\n",
       " ['5'],\n",
       " ['1.8'],\n",
       " ['158'],\n",
       " ['56.2'],\n",
       " ['123'],\n",
       " ['43.8']]"
      ]
     },
     "execution_count": 90,
     "metadata": {},
     "output_type": "execute_result"
    }
   ],
   "source": [
    "d = [[] for x in range(len(columns))]\n",
    "count=0\n",
    "for i in response['data'][0][len(response['data'][0])-len(columns):len(response['data'][0])]: #from index 8 to 45\n",
    "    d[count].append(i)\n",
    "    count=count+1\n",
    "d"
   ]
  },
  {
   "cell_type": "code",
   "execution_count": 91,
   "metadata": {},
   "outputs": [
    {
     "name": "stdout",
     "output_type": "stream",
     "text": [
      "['01M015', '01M015', '01M015', '01M015', '01M015']\n",
      "['P.S. 015 ROBERTO CLEMENTE', 'P.S. 015 ROBERTO CLEMENTE', 'P.S. 015 ROBERTO CLEMENTE', 'P.S. 015 ROBERTO CLEMENTE', 'P.S. 015 ROBERTO CLEMENTE']\n",
      "['20052006', '20052006', '20062007', '20072008', '20082009']\n"
     ]
    }
   ],
   "source": [
    "for i in response['data']:\t\t#--(1)\n",
    "    count=0\n",
    "    for j in range(len(response['data'][0])-len(columns),len(response['data'][0])):\n",
    "        d[count].append(i[j])\n",
    "        count+=1\t\t\t\t#--(5)\n",
    "        \n",
    "print(d[0][0:5])\n",
    "print(d[1][0:5])\n",
    "print(d[2][0:5])"
   ]
  },
  {
   "cell_type": "code",
   "execution_count": 92,
   "metadata": {},
   "outputs": [
    {
     "data": {
      "text/plain": [
       "dict_keys(['DBN', 'Name', 'schoolyear', 'fl_percent', 'frl_percent', 'total_enrollment', 'prek', 'k', 'grade1', 'grade2', 'grade3', 'grade4', 'grade5', 'grade6', 'grade7', 'grade8', 'grade9', 'grade10', 'grade11', 'grade12', 'ell_num', 'ell_percent', 'sped_num', 'sped_percent', 'ctt_num', 'selfcontained_num', 'asian_num', 'asian_per', 'black_num', 'black_per', 'hispanic_num', 'hispanic_per', 'white_num', 'white_per', 'male_num', 'male_per', 'female_num', 'female_per'])"
      ]
     },
     "execution_count": 92,
     "metadata": {},
     "output_type": "execute_result"
    }
   ],
   "source": [
    "json_dict={}\n",
    "for i in range(0,len(columns)):\n",
    "\tjson_dict.update({columns[i]:d[i]})\n",
    "    \n",
    "json_dict.keys()"
   ]
  },
  {
   "cell_type": "code",
   "execution_count": 93,
   "metadata": {},
   "outputs": [
    {
     "data": {
      "text/html": [
       "<div>\n",
       "<style scoped>\n",
       "    .dataframe tbody tr th:only-of-type {\n",
       "        vertical-align: middle;\n",
       "    }\n",
       "\n",
       "    .dataframe tbody tr th {\n",
       "        vertical-align: top;\n",
       "    }\n",
       "\n",
       "    .dataframe thead th {\n",
       "        text-align: right;\n",
       "    }\n",
       "</style>\n",
       "<table border=\"1\" class=\"dataframe\">\n",
       "  <thead>\n",
       "    <tr style=\"text-align: right;\">\n",
       "      <th></th>\n",
       "      <th>DBN</th>\n",
       "      <th>Name</th>\n",
       "      <th>schoolyear</th>\n",
       "      <th>fl_percent</th>\n",
       "      <th>frl_percent</th>\n",
       "      <th>total_enrollment</th>\n",
       "      <th>prek</th>\n",
       "      <th>k</th>\n",
       "      <th>grade1</th>\n",
       "      <th>grade2</th>\n",
       "      <th>...</th>\n",
       "      <th>black_num</th>\n",
       "      <th>black_per</th>\n",
       "      <th>hispanic_num</th>\n",
       "      <th>hispanic_per</th>\n",
       "      <th>white_num</th>\n",
       "      <th>white_per</th>\n",
       "      <th>male_num</th>\n",
       "      <th>male_per</th>\n",
       "      <th>female_num</th>\n",
       "      <th>female_per</th>\n",
       "    </tr>\n",
       "  </thead>\n",
       "  <tbody>\n",
       "    <tr>\n",
       "      <th>0</th>\n",
       "      <td>01M015</td>\n",
       "      <td>P.S. 015 ROBERTO CLEMENTE</td>\n",
       "      <td>20052006</td>\n",
       "      <td>89.4</td>\n",
       "      <td>NaN</td>\n",
       "      <td>281</td>\n",
       "      <td>15.0</td>\n",
       "      <td>36.0</td>\n",
       "      <td>40.0</td>\n",
       "      <td>33.0</td>\n",
       "      <td>...</td>\n",
       "      <td>74</td>\n",
       "      <td>26.3</td>\n",
       "      <td>189</td>\n",
       "      <td>67.3</td>\n",
       "      <td>5</td>\n",
       "      <td>1.8</td>\n",
       "      <td>158</td>\n",
       "      <td>56.2</td>\n",
       "      <td>123</td>\n",
       "      <td>43.8</td>\n",
       "    </tr>\n",
       "    <tr>\n",
       "      <th>1</th>\n",
       "      <td>01M015</td>\n",
       "      <td>P.S. 015 ROBERTO CLEMENTE</td>\n",
       "      <td>20052006</td>\n",
       "      <td>89.4</td>\n",
       "      <td>NaN</td>\n",
       "      <td>281</td>\n",
       "      <td>15.0</td>\n",
       "      <td>36.0</td>\n",
       "      <td>40.0</td>\n",
       "      <td>33.0</td>\n",
       "      <td>...</td>\n",
       "      <td>74</td>\n",
       "      <td>26.3</td>\n",
       "      <td>189</td>\n",
       "      <td>67.3</td>\n",
       "      <td>5</td>\n",
       "      <td>1.8</td>\n",
       "      <td>158</td>\n",
       "      <td>56.2</td>\n",
       "      <td>123</td>\n",
       "      <td>43.8</td>\n",
       "    </tr>\n",
       "    <tr>\n",
       "      <th>2</th>\n",
       "      <td>01M015</td>\n",
       "      <td>P.S. 015 ROBERTO CLEMENTE</td>\n",
       "      <td>20062007</td>\n",
       "      <td>89.4</td>\n",
       "      <td>NaN</td>\n",
       "      <td>243</td>\n",
       "      <td>15.0</td>\n",
       "      <td>29.0</td>\n",
       "      <td>39.0</td>\n",
       "      <td>38.0</td>\n",
       "      <td>...</td>\n",
       "      <td>68</td>\n",
       "      <td>28</td>\n",
       "      <td>153</td>\n",
       "      <td>63</td>\n",
       "      <td>4</td>\n",
       "      <td>1.6</td>\n",
       "      <td>140</td>\n",
       "      <td>57.6</td>\n",
       "      <td>103</td>\n",
       "      <td>42.4</td>\n",
       "    </tr>\n",
       "    <tr>\n",
       "      <th>3</th>\n",
       "      <td>01M015</td>\n",
       "      <td>P.S. 015 ROBERTO CLEMENTE</td>\n",
       "      <td>20072008</td>\n",
       "      <td>89.4</td>\n",
       "      <td>NaN</td>\n",
       "      <td>261</td>\n",
       "      <td>18.0</td>\n",
       "      <td>43.0</td>\n",
       "      <td>39.0</td>\n",
       "      <td>36.0</td>\n",
       "      <td>...</td>\n",
       "      <td>77</td>\n",
       "      <td>29.5</td>\n",
       "      <td>157</td>\n",
       "      <td>60.2</td>\n",
       "      <td>7</td>\n",
       "      <td>2.7</td>\n",
       "      <td>143</td>\n",
       "      <td>54.8</td>\n",
       "      <td>118</td>\n",
       "      <td>45.2</td>\n",
       "    </tr>\n",
       "    <tr>\n",
       "      <th>4</th>\n",
       "      <td>01M015</td>\n",
       "      <td>P.S. 015 ROBERTO CLEMENTE</td>\n",
       "      <td>20082009</td>\n",
       "      <td>89.4</td>\n",
       "      <td>NaN</td>\n",
       "      <td>252</td>\n",
       "      <td>17.0</td>\n",
       "      <td>37.0</td>\n",
       "      <td>44.0</td>\n",
       "      <td>32.0</td>\n",
       "      <td>...</td>\n",
       "      <td>75</td>\n",
       "      <td>29.8</td>\n",
       "      <td>149</td>\n",
       "      <td>59.1</td>\n",
       "      <td>7</td>\n",
       "      <td>2.8</td>\n",
       "      <td>149</td>\n",
       "      <td>59.1</td>\n",
       "      <td>103</td>\n",
       "      <td>40.9</td>\n",
       "    </tr>\n",
       "  </tbody>\n",
       "</table>\n",
       "<p>5 rows × 38 columns</p>\n",
       "</div>"
      ],
      "text/plain": [
       "      DBN                       Name schoolyear  fl_percent  frl_percent  \\\n",
       "0  01M015  P.S. 015 ROBERTO CLEMENTE   20052006        89.4          NaN   \n",
       "1  01M015  P.S. 015 ROBERTO CLEMENTE   20052006        89.4          NaN   \n",
       "2  01M015  P.S. 015 ROBERTO CLEMENTE   20062007        89.4          NaN   \n",
       "3  01M015  P.S. 015 ROBERTO CLEMENTE   20072008        89.4          NaN   \n",
       "4  01M015  P.S. 015 ROBERTO CLEMENTE   20082009        89.4          NaN   \n",
       "\n",
       "   total_enrollment  prek     k  grade1  grade2  ...  black_num  black_per  \\\n",
       "0               281  15.0  36.0    40.0    33.0  ...         74       26.3   \n",
       "1               281  15.0  36.0    40.0    33.0  ...         74       26.3   \n",
       "2               243  15.0  29.0    39.0    38.0  ...         68         28   \n",
       "3               261  18.0  43.0    39.0    36.0  ...         77       29.5   \n",
       "4               252  17.0  37.0    44.0    32.0  ...         75       29.8   \n",
       "\n",
       "   hispanic_num  hispanic_per  white_num  white_per  male_num  male_per  \\\n",
       "0           189          67.3          5        1.8       158      56.2   \n",
       "1           189          67.3          5        1.8       158      56.2   \n",
       "2           153            63          4        1.6       140      57.6   \n",
       "3           157          60.2          7        2.7       143      54.8   \n",
       "4           149          59.1          7        2.8       149      59.1   \n",
       "\n",
       "  female_num female_per  \n",
       "0        123       43.8  \n",
       "1        123       43.8  \n",
       "2        103       42.4  \n",
       "3        118       45.2  \n",
       "4        103       40.9  \n",
       "\n",
       "[5 rows x 38 columns]"
      ]
     },
     "execution_count": 93,
     "metadata": {},
     "output_type": "execute_result"
    }
   ],
   "source": [
    "data=pd.DataFrame(json_dict)\n",
    "\n",
    "data['fl_percent'] = pd.to_numeric(data['fl_percent'], errors='coerce')\n",
    "data['frl_percent'] = pd.to_numeric(data['frl_percent'], errors='coerce')\n",
    "data['total_enrollment'] = pd.to_numeric(data['total_enrollment'], errors='coerce')\n",
    "\n",
    "for col in data.columns[6:18]:\n",
    "    data[col] = pd.to_numeric(data[col], errors='coerce')\n",
    "\n",
    "data['ell_num'] = pd.to_numeric(data['ell_num'], errors='coerce')\n",
    "data['ell_percent'] = pd.to_numeric(data['ell_percent'], errors='coerce')\n",
    "data['sped_num'] = pd.to_numeric(data['sped_num'], errors='coerce')\n",
    "data['sped_percent'] = pd.to_numeric(data['sped_percent'], errors='coerce')\n",
    "\n",
    "data['ctt_num'] = pd.to_numeric(data['ctt_num'], errors='coerce')\n",
    "data['selfcontained_num'] = pd.to_numeric(data['selfcontained_num'], errors='coerce')\n",
    "\n",
    "data.head()"
   ]
  },
  {
   "cell_type": "code",
   "execution_count": null,
   "metadata": {},
   "outputs": [],
   "source": []
  },
  {
   "cell_type": "code",
   "execution_count": null,
   "metadata": {},
   "outputs": [],
   "source": []
  },
  {
   "cell_type": "code",
   "execution_count": null,
   "metadata": {},
   "outputs": [],
   "source": []
  },
  {
   "cell_type": "markdown",
   "metadata": {},
   "source": [
    "First, let's check out the distribution of the schools which take admissions for specific sections of the schooling life, such as only pre-primary (pre-k and k), only primary (1-5), only middle (6-8), and so on."
   ]
  },
  {
   "cell_type": "code",
   "execution_count": 94,
   "metadata": {},
   "outputs": [
    {
     "data": {
      "application/vnd.plotly.v1+json": {
       "config": {
        "linkText": "Export to plot.ly",
        "plotlyServerURL": "https://plot.ly",
        "showLink": false
       },
       "data": [
        {
         "name": "Only preprimary",
         "type": "bar",
         "x": [
          "fivesix",
          "sixseven",
          "seveneight",
          "eightnine",
          "nineten",
          "teneleven",
          "eleventwelve"
         ],
         "y": [
          0,
          0,
          0,
          2,
          0,
          2,
          0
         ]
        },
        {
         "name": "Only primary",
         "type": "bar",
         "x": [
          "fivesix",
          "sixseven",
          "seveneight",
          "eightnine",
          "nineten",
          "teneleven",
          "eleventwelve"
         ],
         "y": [
          2,
          2,
          0,
          0,
          0,
          0,
          0
         ]
        },
        {
         "name": "Only middle",
         "type": "bar",
         "x": [
          "fivesix",
          "sixseven",
          "seveneight",
          "eightnine",
          "nineten",
          "teneleven",
          "eleventwelve"
         ],
         "y": [
          154,
          185,
          204,
          219,
          227,
          236,
          0
         ]
        },
        {
         "name": "Only senior",
         "type": "bar",
         "x": [
          "fivesix",
          "sixseven",
          "seveneight",
          "eightnine",
          "nineten",
          "teneleven",
          "eleventwelve"
         ],
         "y": [
          186,
          223,
          261,
          286,
          307,
          318,
          358
         ]
        },
        {
         "name": "Pre primary and primary",
         "type": "bar",
         "x": [
          "fivesix",
          "sixseven",
          "seveneight",
          "eightnine",
          "nineten",
          "teneleven",
          "eleventwelve"
         ],
         "y": [
          303,
          341,
          385,
          385,
          393,
          391,
          0
         ]
        },
        {
         "name": "primary and middle",
         "type": "bar",
         "x": [
          "fivesix",
          "sixseven",
          "seveneight",
          "eightnine",
          "nineten",
          "teneleven",
          "eleventwelve"
         ],
         "y": [
          0,
          0,
          0,
          0,
          0,
          0,
          0
         ]
        },
        {
         "name": "preprimary to middle",
         "type": "bar",
         "x": [
          "fivesix",
          "sixseven",
          "seveneight",
          "eightnine",
          "nineten",
          "teneleven",
          "eleventwelve"
         ],
         "y": [
          47,
          63,
          76,
          86,
          83,
          91,
          0
         ]
        },
        {
         "name": "primary to senior",
         "type": "bar",
         "x": [
          "fivesix",
          "sixseven",
          "seveneight",
          "eightnine",
          "nineten",
          "teneleven",
          "eleventwelve"
         ],
         "y": [
          0,
          0,
          0,
          0,
          0,
          0,
          0
         ]
        },
        {
         "name": "preprimary to senior",
         "type": "bar",
         "x": [
          "fivesix",
          "sixseven",
          "seveneight",
          "eightnine",
          "nineten",
          "teneleven",
          "eleventwelve"
         ],
         "y": [
          0,
          0,
          0,
          0,
          0,
          0,
          0
         ]
        }
       ],
       "layout": {
        "barmode": "group",
        "template": {
         "data": {
          "bar": [
           {
            "error_x": {
             "color": "#2a3f5f"
            },
            "error_y": {
             "color": "#2a3f5f"
            },
            "marker": {
             "line": {
              "color": "#E5ECF6",
              "width": 0.5
             },
             "pattern": {
              "fillmode": "overlay",
              "size": 10,
              "solidity": 0.2
             }
            },
            "type": "bar"
           }
          ],
          "barpolar": [
           {
            "marker": {
             "line": {
              "color": "#E5ECF6",
              "width": 0.5
             },
             "pattern": {
              "fillmode": "overlay",
              "size": 10,
              "solidity": 0.2
             }
            },
            "type": "barpolar"
           }
          ],
          "carpet": [
           {
            "aaxis": {
             "endlinecolor": "#2a3f5f",
             "gridcolor": "white",
             "linecolor": "white",
             "minorgridcolor": "white",
             "startlinecolor": "#2a3f5f"
            },
            "baxis": {
             "endlinecolor": "#2a3f5f",
             "gridcolor": "white",
             "linecolor": "white",
             "minorgridcolor": "white",
             "startlinecolor": "#2a3f5f"
            },
            "type": "carpet"
           }
          ],
          "choropleth": [
           {
            "colorbar": {
             "outlinewidth": 0,
             "ticks": ""
            },
            "type": "choropleth"
           }
          ],
          "contour": [
           {
            "colorbar": {
             "outlinewidth": 0,
             "ticks": ""
            },
            "colorscale": [
             [
              0,
              "#0d0887"
             ],
             [
              0.1111111111111111,
              "#46039f"
             ],
             [
              0.2222222222222222,
              "#7201a8"
             ],
             [
              0.3333333333333333,
              "#9c179e"
             ],
             [
              0.4444444444444444,
              "#bd3786"
             ],
             [
              0.5555555555555556,
              "#d8576b"
             ],
             [
              0.6666666666666666,
              "#ed7953"
             ],
             [
              0.7777777777777778,
              "#fb9f3a"
             ],
             [
              0.8888888888888888,
              "#fdca26"
             ],
             [
              1,
              "#f0f921"
             ]
            ],
            "type": "contour"
           }
          ],
          "contourcarpet": [
           {
            "colorbar": {
             "outlinewidth": 0,
             "ticks": ""
            },
            "type": "contourcarpet"
           }
          ],
          "heatmap": [
           {
            "colorbar": {
             "outlinewidth": 0,
             "ticks": ""
            },
            "colorscale": [
             [
              0,
              "#0d0887"
             ],
             [
              0.1111111111111111,
              "#46039f"
             ],
             [
              0.2222222222222222,
              "#7201a8"
             ],
             [
              0.3333333333333333,
              "#9c179e"
             ],
             [
              0.4444444444444444,
              "#bd3786"
             ],
             [
              0.5555555555555556,
              "#d8576b"
             ],
             [
              0.6666666666666666,
              "#ed7953"
             ],
             [
              0.7777777777777778,
              "#fb9f3a"
             ],
             [
              0.8888888888888888,
              "#fdca26"
             ],
             [
              1,
              "#f0f921"
             ]
            ],
            "type": "heatmap"
           }
          ],
          "heatmapgl": [
           {
            "colorbar": {
             "outlinewidth": 0,
             "ticks": ""
            },
            "colorscale": [
             [
              0,
              "#0d0887"
             ],
             [
              0.1111111111111111,
              "#46039f"
             ],
             [
              0.2222222222222222,
              "#7201a8"
             ],
             [
              0.3333333333333333,
              "#9c179e"
             ],
             [
              0.4444444444444444,
              "#bd3786"
             ],
             [
              0.5555555555555556,
              "#d8576b"
             ],
             [
              0.6666666666666666,
              "#ed7953"
             ],
             [
              0.7777777777777778,
              "#fb9f3a"
             ],
             [
              0.8888888888888888,
              "#fdca26"
             ],
             [
              1,
              "#f0f921"
             ]
            ],
            "type": "heatmapgl"
           }
          ],
          "histogram": [
           {
            "marker": {
             "pattern": {
              "fillmode": "overlay",
              "size": 10,
              "solidity": 0.2
             }
            },
            "type": "histogram"
           }
          ],
          "histogram2d": [
           {
            "colorbar": {
             "outlinewidth": 0,
             "ticks": ""
            },
            "colorscale": [
             [
              0,
              "#0d0887"
             ],
             [
              0.1111111111111111,
              "#46039f"
             ],
             [
              0.2222222222222222,
              "#7201a8"
             ],
             [
              0.3333333333333333,
              "#9c179e"
             ],
             [
              0.4444444444444444,
              "#bd3786"
             ],
             [
              0.5555555555555556,
              "#d8576b"
             ],
             [
              0.6666666666666666,
              "#ed7953"
             ],
             [
              0.7777777777777778,
              "#fb9f3a"
             ],
             [
              0.8888888888888888,
              "#fdca26"
             ],
             [
              1,
              "#f0f921"
             ]
            ],
            "type": "histogram2d"
           }
          ],
          "histogram2dcontour": [
           {
            "colorbar": {
             "outlinewidth": 0,
             "ticks": ""
            },
            "colorscale": [
             [
              0,
              "#0d0887"
             ],
             [
              0.1111111111111111,
              "#46039f"
             ],
             [
              0.2222222222222222,
              "#7201a8"
             ],
             [
              0.3333333333333333,
              "#9c179e"
             ],
             [
              0.4444444444444444,
              "#bd3786"
             ],
             [
              0.5555555555555556,
              "#d8576b"
             ],
             [
              0.6666666666666666,
              "#ed7953"
             ],
             [
              0.7777777777777778,
              "#fb9f3a"
             ],
             [
              0.8888888888888888,
              "#fdca26"
             ],
             [
              1,
              "#f0f921"
             ]
            ],
            "type": "histogram2dcontour"
           }
          ],
          "mesh3d": [
           {
            "colorbar": {
             "outlinewidth": 0,
             "ticks": ""
            },
            "type": "mesh3d"
           }
          ],
          "parcoords": [
           {
            "line": {
             "colorbar": {
              "outlinewidth": 0,
              "ticks": ""
             }
            },
            "type": "parcoords"
           }
          ],
          "pie": [
           {
            "automargin": true,
            "type": "pie"
           }
          ],
          "scatter": [
           {
            "fillpattern": {
             "fillmode": "overlay",
             "size": 10,
             "solidity": 0.2
            },
            "type": "scatter"
           }
          ],
          "scatter3d": [
           {
            "line": {
             "colorbar": {
              "outlinewidth": 0,
              "ticks": ""
             }
            },
            "marker": {
             "colorbar": {
              "outlinewidth": 0,
              "ticks": ""
             }
            },
            "type": "scatter3d"
           }
          ],
          "scattercarpet": [
           {
            "marker": {
             "colorbar": {
              "outlinewidth": 0,
              "ticks": ""
             }
            },
            "type": "scattercarpet"
           }
          ],
          "scattergeo": [
           {
            "marker": {
             "colorbar": {
              "outlinewidth": 0,
              "ticks": ""
             }
            },
            "type": "scattergeo"
           }
          ],
          "scattergl": [
           {
            "marker": {
             "colorbar": {
              "outlinewidth": 0,
              "ticks": ""
             }
            },
            "type": "scattergl"
           }
          ],
          "scattermapbox": [
           {
            "marker": {
             "colorbar": {
              "outlinewidth": 0,
              "ticks": ""
             }
            },
            "type": "scattermapbox"
           }
          ],
          "scatterpolar": [
           {
            "marker": {
             "colorbar": {
              "outlinewidth": 0,
              "ticks": ""
             }
            },
            "type": "scatterpolar"
           }
          ],
          "scatterpolargl": [
           {
            "marker": {
             "colorbar": {
              "outlinewidth": 0,
              "ticks": ""
             }
            },
            "type": "scatterpolargl"
           }
          ],
          "scatterternary": [
           {
            "marker": {
             "colorbar": {
              "outlinewidth": 0,
              "ticks": ""
             }
            },
            "type": "scatterternary"
           }
          ],
          "surface": [
           {
            "colorbar": {
             "outlinewidth": 0,
             "ticks": ""
            },
            "colorscale": [
             [
              0,
              "#0d0887"
             ],
             [
              0.1111111111111111,
              "#46039f"
             ],
             [
              0.2222222222222222,
              "#7201a8"
             ],
             [
              0.3333333333333333,
              "#9c179e"
             ],
             [
              0.4444444444444444,
              "#bd3786"
             ],
             [
              0.5555555555555556,
              "#d8576b"
             ],
             [
              0.6666666666666666,
              "#ed7953"
             ],
             [
              0.7777777777777778,
              "#fb9f3a"
             ],
             [
              0.8888888888888888,
              "#fdca26"
             ],
             [
              1,
              "#f0f921"
             ]
            ],
            "type": "surface"
           }
          ],
          "table": [
           {
            "cells": {
             "fill": {
              "color": "#EBF0F8"
             },
             "line": {
              "color": "white"
             }
            },
            "header": {
             "fill": {
              "color": "#C8D4E3"
             },
             "line": {
              "color": "white"
             }
            },
            "type": "table"
           }
          ]
         },
         "layout": {
          "annotationdefaults": {
           "arrowcolor": "#2a3f5f",
           "arrowhead": 0,
           "arrowwidth": 1
          },
          "autotypenumbers": "strict",
          "coloraxis": {
           "colorbar": {
            "outlinewidth": 0,
            "ticks": ""
           }
          },
          "colorscale": {
           "diverging": [
            [
             0,
             "#8e0152"
            ],
            [
             0.1,
             "#c51b7d"
            ],
            [
             0.2,
             "#de77ae"
            ],
            [
             0.3,
             "#f1b6da"
            ],
            [
             0.4,
             "#fde0ef"
            ],
            [
             0.5,
             "#f7f7f7"
            ],
            [
             0.6,
             "#e6f5d0"
            ],
            [
             0.7,
             "#b8e186"
            ],
            [
             0.8,
             "#7fbc41"
            ],
            [
             0.9,
             "#4d9221"
            ],
            [
             1,
             "#276419"
            ]
           ],
           "sequential": [
            [
             0,
             "#0d0887"
            ],
            [
             0.1111111111111111,
             "#46039f"
            ],
            [
             0.2222222222222222,
             "#7201a8"
            ],
            [
             0.3333333333333333,
             "#9c179e"
            ],
            [
             0.4444444444444444,
             "#bd3786"
            ],
            [
             0.5555555555555556,
             "#d8576b"
            ],
            [
             0.6666666666666666,
             "#ed7953"
            ],
            [
             0.7777777777777778,
             "#fb9f3a"
            ],
            [
             0.8888888888888888,
             "#fdca26"
            ],
            [
             1,
             "#f0f921"
            ]
           ],
           "sequentialminus": [
            [
             0,
             "#0d0887"
            ],
            [
             0.1111111111111111,
             "#46039f"
            ],
            [
             0.2222222222222222,
             "#7201a8"
            ],
            [
             0.3333333333333333,
             "#9c179e"
            ],
            [
             0.4444444444444444,
             "#bd3786"
            ],
            [
             0.5555555555555556,
             "#d8576b"
            ],
            [
             0.6666666666666666,
             "#ed7953"
            ],
            [
             0.7777777777777778,
             "#fb9f3a"
            ],
            [
             0.8888888888888888,
             "#fdca26"
            ],
            [
             1,
             "#f0f921"
            ]
           ]
          },
          "colorway": [
           "#636efa",
           "#EF553B",
           "#00cc96",
           "#ab63fa",
           "#FFA15A",
           "#19d3f3",
           "#FF6692",
           "#B6E880",
           "#FF97FF",
           "#FECB52"
          ],
          "font": {
           "color": "#2a3f5f"
          },
          "geo": {
           "bgcolor": "white",
           "lakecolor": "white",
           "landcolor": "#E5ECF6",
           "showlakes": true,
           "showland": true,
           "subunitcolor": "white"
          },
          "hoverlabel": {
           "align": "left"
          },
          "hovermode": "closest",
          "mapbox": {
           "style": "light"
          },
          "paper_bgcolor": "white",
          "plot_bgcolor": "#E5ECF6",
          "polar": {
           "angularaxis": {
            "gridcolor": "white",
            "linecolor": "white",
            "ticks": ""
           },
           "bgcolor": "#E5ECF6",
           "radialaxis": {
            "gridcolor": "white",
            "linecolor": "white",
            "ticks": ""
           }
          },
          "scene": {
           "xaxis": {
            "backgroundcolor": "#E5ECF6",
            "gridcolor": "white",
            "gridwidth": 2,
            "linecolor": "white",
            "showbackground": true,
            "ticks": "",
            "zerolinecolor": "white"
           },
           "yaxis": {
            "backgroundcolor": "#E5ECF6",
            "gridcolor": "white",
            "gridwidth": 2,
            "linecolor": "white",
            "showbackground": true,
            "ticks": "",
            "zerolinecolor": "white"
           },
           "zaxis": {
            "backgroundcolor": "#E5ECF6",
            "gridcolor": "white",
            "gridwidth": 2,
            "linecolor": "white",
            "showbackground": true,
            "ticks": "",
            "zerolinecolor": "white"
           }
          },
          "shapedefaults": {
           "line": {
            "color": "#2a3f5f"
           }
          },
          "ternary": {
           "aaxis": {
            "gridcolor": "white",
            "linecolor": "white",
            "ticks": ""
           },
           "baxis": {
            "gridcolor": "white",
            "linecolor": "white",
            "ticks": ""
           },
           "bgcolor": "#E5ECF6",
           "caxis": {
            "gridcolor": "white",
            "linecolor": "white",
            "ticks": ""
           }
          },
          "title": {
           "x": 0.05
          },
          "xaxis": {
           "automargin": true,
           "gridcolor": "white",
           "linecolor": "white",
           "ticks": "",
           "title": {
            "standoff": 15
           },
           "zerolinecolor": "white",
           "zerolinewidth": 2
          },
          "yaxis": {
           "automargin": true,
           "gridcolor": "white",
           "linecolor": "white",
           "ticks": "",
           "title": {
            "standoff": 15
           },
           "zerolinecolor": "white",
           "zerolinewidth": 2
          }
         }
        },
        "title": {
         "text": "Different types of schools"
        }
       }
      },
      "text/html": [
       "<div>                            <div id=\"1fe81216-013f-4d27-aaf0-b13df6a3120b\" class=\"plotly-graph-div\" style=\"height:525px; width:100%;\"></div>            <script type=\"text/javascript\">                require([\"plotly\"], function(Plotly) {                    window.PLOTLYENV=window.PLOTLYENV || {};                                    if (document.getElementById(\"1fe81216-013f-4d27-aaf0-b13df6a3120b\")) {                    Plotly.newPlot(                        \"1fe81216-013f-4d27-aaf0-b13df6a3120b\",                        [{\"name\":\"Only preprimary\",\"x\":[\"fivesix\",\"sixseven\",\"seveneight\",\"eightnine\",\"nineten\",\"teneleven\",\"eleventwelve\"],\"y\":[0,0,0,2,0,2,0],\"type\":\"bar\"},{\"name\":\"Only primary\",\"x\":[\"fivesix\",\"sixseven\",\"seveneight\",\"eightnine\",\"nineten\",\"teneleven\",\"eleventwelve\"],\"y\":[2,2,0,0,0,0,0],\"type\":\"bar\"},{\"name\":\"Only middle\",\"x\":[\"fivesix\",\"sixseven\",\"seveneight\",\"eightnine\",\"nineten\",\"teneleven\",\"eleventwelve\"],\"y\":[154,185,204,219,227,236,0],\"type\":\"bar\"},{\"name\":\"Only senior\",\"x\":[\"fivesix\",\"sixseven\",\"seveneight\",\"eightnine\",\"nineten\",\"teneleven\",\"eleventwelve\"],\"y\":[186,223,261,286,307,318,358],\"type\":\"bar\"},{\"name\":\"Pre primary and primary\",\"x\":[\"fivesix\",\"sixseven\",\"seveneight\",\"eightnine\",\"nineten\",\"teneleven\",\"eleventwelve\"],\"y\":[303,341,385,385,393,391,0],\"type\":\"bar\"},{\"name\":\"primary and middle\",\"x\":[\"fivesix\",\"sixseven\",\"seveneight\",\"eightnine\",\"nineten\",\"teneleven\",\"eleventwelve\"],\"y\":[0,0,0,0,0,0,0],\"type\":\"bar\"},{\"name\":\"preprimary to middle\",\"x\":[\"fivesix\",\"sixseven\",\"seveneight\",\"eightnine\",\"nineten\",\"teneleven\",\"eleventwelve\"],\"y\":[47,63,76,86,83,91,0],\"type\":\"bar\"},{\"name\":\"primary to senior\",\"x\":[\"fivesix\",\"sixseven\",\"seveneight\",\"eightnine\",\"nineten\",\"teneleven\",\"eleventwelve\"],\"y\":[0,0,0,0,0,0,0],\"type\":\"bar\"},{\"name\":\"preprimary to senior\",\"x\":[\"fivesix\",\"sixseven\",\"seveneight\",\"eightnine\",\"nineten\",\"teneleven\",\"eleventwelve\"],\"y\":[0,0,0,0,0,0,0],\"type\":\"bar\"}],                        {\"barmode\":\"group\",\"template\":{\"data\":{\"barpolar\":[{\"marker\":{\"line\":{\"color\":\"#E5ECF6\",\"width\":0.5},\"pattern\":{\"fillmode\":\"overlay\",\"size\":10,\"solidity\":0.2}},\"type\":\"barpolar\"}],\"bar\":[{\"error_x\":{\"color\":\"#2a3f5f\"},\"error_y\":{\"color\":\"#2a3f5f\"},\"marker\":{\"line\":{\"color\":\"#E5ECF6\",\"width\":0.5},\"pattern\":{\"fillmode\":\"overlay\",\"size\":10,\"solidity\":0.2}},\"type\":\"bar\"}],\"carpet\":[{\"aaxis\":{\"endlinecolor\":\"#2a3f5f\",\"gridcolor\":\"white\",\"linecolor\":\"white\",\"minorgridcolor\":\"white\",\"startlinecolor\":\"#2a3f5f\"},\"baxis\":{\"endlinecolor\":\"#2a3f5f\",\"gridcolor\":\"white\",\"linecolor\":\"white\",\"minorgridcolor\":\"white\",\"startlinecolor\":\"#2a3f5f\"},\"type\":\"carpet\"}],\"choropleth\":[{\"colorbar\":{\"outlinewidth\":0,\"ticks\":\"\"},\"type\":\"choropleth\"}],\"contourcarpet\":[{\"colorbar\":{\"outlinewidth\":0,\"ticks\":\"\"},\"type\":\"contourcarpet\"}],\"contour\":[{\"colorbar\":{\"outlinewidth\":0,\"ticks\":\"\"},\"colorscale\":[[0.0,\"#0d0887\"],[0.1111111111111111,\"#46039f\"],[0.2222222222222222,\"#7201a8\"],[0.3333333333333333,\"#9c179e\"],[0.4444444444444444,\"#bd3786\"],[0.5555555555555556,\"#d8576b\"],[0.6666666666666666,\"#ed7953\"],[0.7777777777777778,\"#fb9f3a\"],[0.8888888888888888,\"#fdca26\"],[1.0,\"#f0f921\"]],\"type\":\"contour\"}],\"heatmapgl\":[{\"colorbar\":{\"outlinewidth\":0,\"ticks\":\"\"},\"colorscale\":[[0.0,\"#0d0887\"],[0.1111111111111111,\"#46039f\"],[0.2222222222222222,\"#7201a8\"],[0.3333333333333333,\"#9c179e\"],[0.4444444444444444,\"#bd3786\"],[0.5555555555555556,\"#d8576b\"],[0.6666666666666666,\"#ed7953\"],[0.7777777777777778,\"#fb9f3a\"],[0.8888888888888888,\"#fdca26\"],[1.0,\"#f0f921\"]],\"type\":\"heatmapgl\"}],\"heatmap\":[{\"colorbar\":{\"outlinewidth\":0,\"ticks\":\"\"},\"colorscale\":[[0.0,\"#0d0887\"],[0.1111111111111111,\"#46039f\"],[0.2222222222222222,\"#7201a8\"],[0.3333333333333333,\"#9c179e\"],[0.4444444444444444,\"#bd3786\"],[0.5555555555555556,\"#d8576b\"],[0.6666666666666666,\"#ed7953\"],[0.7777777777777778,\"#fb9f3a\"],[0.8888888888888888,\"#fdca26\"],[1.0,\"#f0f921\"]],\"type\":\"heatmap\"}],\"histogram2dcontour\":[{\"colorbar\":{\"outlinewidth\":0,\"ticks\":\"\"},\"colorscale\":[[0.0,\"#0d0887\"],[0.1111111111111111,\"#46039f\"],[0.2222222222222222,\"#7201a8\"],[0.3333333333333333,\"#9c179e\"],[0.4444444444444444,\"#bd3786\"],[0.5555555555555556,\"#d8576b\"],[0.6666666666666666,\"#ed7953\"],[0.7777777777777778,\"#fb9f3a\"],[0.8888888888888888,\"#fdca26\"],[1.0,\"#f0f921\"]],\"type\":\"histogram2dcontour\"}],\"histogram2d\":[{\"colorbar\":{\"outlinewidth\":0,\"ticks\":\"\"},\"colorscale\":[[0.0,\"#0d0887\"],[0.1111111111111111,\"#46039f\"],[0.2222222222222222,\"#7201a8\"],[0.3333333333333333,\"#9c179e\"],[0.4444444444444444,\"#bd3786\"],[0.5555555555555556,\"#d8576b\"],[0.6666666666666666,\"#ed7953\"],[0.7777777777777778,\"#fb9f3a\"],[0.8888888888888888,\"#fdca26\"],[1.0,\"#f0f921\"]],\"type\":\"histogram2d\"}],\"histogram\":[{\"marker\":{\"pattern\":{\"fillmode\":\"overlay\",\"size\":10,\"solidity\":0.2}},\"type\":\"histogram\"}],\"mesh3d\":[{\"colorbar\":{\"outlinewidth\":0,\"ticks\":\"\"},\"type\":\"mesh3d\"}],\"parcoords\":[{\"line\":{\"colorbar\":{\"outlinewidth\":0,\"ticks\":\"\"}},\"type\":\"parcoords\"}],\"pie\":[{\"automargin\":true,\"type\":\"pie\"}],\"scatter3d\":[{\"line\":{\"colorbar\":{\"outlinewidth\":0,\"ticks\":\"\"}},\"marker\":{\"colorbar\":{\"outlinewidth\":0,\"ticks\":\"\"}},\"type\":\"scatter3d\"}],\"scattercarpet\":[{\"marker\":{\"colorbar\":{\"outlinewidth\":0,\"ticks\":\"\"}},\"type\":\"scattercarpet\"}],\"scattergeo\":[{\"marker\":{\"colorbar\":{\"outlinewidth\":0,\"ticks\":\"\"}},\"type\":\"scattergeo\"}],\"scattergl\":[{\"marker\":{\"colorbar\":{\"outlinewidth\":0,\"ticks\":\"\"}},\"type\":\"scattergl\"}],\"scattermapbox\":[{\"marker\":{\"colorbar\":{\"outlinewidth\":0,\"ticks\":\"\"}},\"type\":\"scattermapbox\"}],\"scatterpolargl\":[{\"marker\":{\"colorbar\":{\"outlinewidth\":0,\"ticks\":\"\"}},\"type\":\"scatterpolargl\"}],\"scatterpolar\":[{\"marker\":{\"colorbar\":{\"outlinewidth\":0,\"ticks\":\"\"}},\"type\":\"scatterpolar\"}],\"scatter\":[{\"fillpattern\":{\"fillmode\":\"overlay\",\"size\":10,\"solidity\":0.2},\"type\":\"scatter\"}],\"scatterternary\":[{\"marker\":{\"colorbar\":{\"outlinewidth\":0,\"ticks\":\"\"}},\"type\":\"scatterternary\"}],\"surface\":[{\"colorbar\":{\"outlinewidth\":0,\"ticks\":\"\"},\"colorscale\":[[0.0,\"#0d0887\"],[0.1111111111111111,\"#46039f\"],[0.2222222222222222,\"#7201a8\"],[0.3333333333333333,\"#9c179e\"],[0.4444444444444444,\"#bd3786\"],[0.5555555555555556,\"#d8576b\"],[0.6666666666666666,\"#ed7953\"],[0.7777777777777778,\"#fb9f3a\"],[0.8888888888888888,\"#fdca26\"],[1.0,\"#f0f921\"]],\"type\":\"surface\"}],\"table\":[{\"cells\":{\"fill\":{\"color\":\"#EBF0F8\"},\"line\":{\"color\":\"white\"}},\"header\":{\"fill\":{\"color\":\"#C8D4E3\"},\"line\":{\"color\":\"white\"}},\"type\":\"table\"}]},\"layout\":{\"annotationdefaults\":{\"arrowcolor\":\"#2a3f5f\",\"arrowhead\":0,\"arrowwidth\":1},\"autotypenumbers\":\"strict\",\"coloraxis\":{\"colorbar\":{\"outlinewidth\":0,\"ticks\":\"\"}},\"colorscale\":{\"diverging\":[[0,\"#8e0152\"],[0.1,\"#c51b7d\"],[0.2,\"#de77ae\"],[0.3,\"#f1b6da\"],[0.4,\"#fde0ef\"],[0.5,\"#f7f7f7\"],[0.6,\"#e6f5d0\"],[0.7,\"#b8e186\"],[0.8,\"#7fbc41\"],[0.9,\"#4d9221\"],[1,\"#276419\"]],\"sequential\":[[0.0,\"#0d0887\"],[0.1111111111111111,\"#46039f\"],[0.2222222222222222,\"#7201a8\"],[0.3333333333333333,\"#9c179e\"],[0.4444444444444444,\"#bd3786\"],[0.5555555555555556,\"#d8576b\"],[0.6666666666666666,\"#ed7953\"],[0.7777777777777778,\"#fb9f3a\"],[0.8888888888888888,\"#fdca26\"],[1.0,\"#f0f921\"]],\"sequentialminus\":[[0.0,\"#0d0887\"],[0.1111111111111111,\"#46039f\"],[0.2222222222222222,\"#7201a8\"],[0.3333333333333333,\"#9c179e\"],[0.4444444444444444,\"#bd3786\"],[0.5555555555555556,\"#d8576b\"],[0.6666666666666666,\"#ed7953\"],[0.7777777777777778,\"#fb9f3a\"],[0.8888888888888888,\"#fdca26\"],[1.0,\"#f0f921\"]]},\"colorway\":[\"#636efa\",\"#EF553B\",\"#00cc96\",\"#ab63fa\",\"#FFA15A\",\"#19d3f3\",\"#FF6692\",\"#B6E880\",\"#FF97FF\",\"#FECB52\"],\"font\":{\"color\":\"#2a3f5f\"},\"geo\":{\"bgcolor\":\"white\",\"lakecolor\":\"white\",\"landcolor\":\"#E5ECF6\",\"showlakes\":true,\"showland\":true,\"subunitcolor\":\"white\"},\"hoverlabel\":{\"align\":\"left\"},\"hovermode\":\"closest\",\"mapbox\":{\"style\":\"light\"},\"paper_bgcolor\":\"white\",\"plot_bgcolor\":\"#E5ECF6\",\"polar\":{\"angularaxis\":{\"gridcolor\":\"white\",\"linecolor\":\"white\",\"ticks\":\"\"},\"bgcolor\":\"#E5ECF6\",\"radialaxis\":{\"gridcolor\":\"white\",\"linecolor\":\"white\",\"ticks\":\"\"}},\"scene\":{\"xaxis\":{\"backgroundcolor\":\"#E5ECF6\",\"gridcolor\":\"white\",\"gridwidth\":2,\"linecolor\":\"white\",\"showbackground\":true,\"ticks\":\"\",\"zerolinecolor\":\"white\"},\"yaxis\":{\"backgroundcolor\":\"#E5ECF6\",\"gridcolor\":\"white\",\"gridwidth\":2,\"linecolor\":\"white\",\"showbackground\":true,\"ticks\":\"\",\"zerolinecolor\":\"white\"},\"zaxis\":{\"backgroundcolor\":\"#E5ECF6\",\"gridcolor\":\"white\",\"gridwidth\":2,\"linecolor\":\"white\",\"showbackground\":true,\"ticks\":\"\",\"zerolinecolor\":\"white\"}},\"shapedefaults\":{\"line\":{\"color\":\"#2a3f5f\"}},\"ternary\":{\"aaxis\":{\"gridcolor\":\"white\",\"linecolor\":\"white\",\"ticks\":\"\"},\"baxis\":{\"gridcolor\":\"white\",\"linecolor\":\"white\",\"ticks\":\"\"},\"bgcolor\":\"#E5ECF6\",\"caxis\":{\"gridcolor\":\"white\",\"linecolor\":\"white\",\"ticks\":\"\"}},\"title\":{\"x\":0.05},\"xaxis\":{\"automargin\":true,\"gridcolor\":\"white\",\"linecolor\":\"white\",\"ticks\":\"\",\"title\":{\"standoff\":15},\"zerolinecolor\":\"white\",\"zerolinewidth\":2},\"yaxis\":{\"automargin\":true,\"gridcolor\":\"white\",\"linecolor\":\"white\",\"ticks\":\"\",\"title\":{\"standoff\":15},\"zerolinecolor\":\"white\",\"zerolinewidth\":2}}},\"title\":{\"text\":\"Different types of schools\"}},                        {\"responsive\": true}                    ).then(function(){\n",
       "                            \n",
       "var gd = document.getElementById('1fe81216-013f-4d27-aaf0-b13df6a3120b');\n",
       "var x = new MutationObserver(function (mutations, observer) {{\n",
       "        var display = window.getComputedStyle(gd).display;\n",
       "        if (!display || display === 'none') {{\n",
       "            console.log([gd, 'removed!']);\n",
       "            Plotly.purge(gd);\n",
       "            observer.disconnect();\n",
       "        }}\n",
       "}});\n",
       "\n",
       "// Listen for the removal of the full notebook cells\n",
       "var notebookContainer = gd.closest('#notebook-container');\n",
       "if (notebookContainer) {{\n",
       "    x.observe(notebookContainer, {childList: true});\n",
       "}}\n",
       "\n",
       "// Listen for the clearing of the current output cell\n",
       "var outputEl = gd.closest('.output');\n",
       "if (outputEl) {{\n",
       "    x.observe(outputEl, {childList: true});\n",
       "}}\n",
       "\n",
       "                        })                };                });            </script>        </div>"
      ]
     },
     "metadata": {},
     "output_type": "display_data"
    }
   ],
   "source": [
    "main_list=[['prek','k'],['grade1','grade2','grade3','grade4','grade5'],['grade6','grade7','grade8'],\n",
    "           ['grade9','grade10','grade11','grade12'],['prek','k','grade1','grade2','grade3','grade4','grade5'],\n",
    "           ['grade1','grade2','grade3','grade4','grade5','grade6','grade7','grade8'],\n",
    "           ['prek','k','grade1','grade2','grade3','grade4','grade5','grade6','grade7','grade8'],\n",
    "           ['grade1','grade2','grade3','grade4','grade5','grade6','grade7','grade8','grade9','grade10','grade11','grade12'],\n",
    "           ['prek','k','grade1','grade2','grade3','grade4','grade5','grade6','grade7','grade8','grade9','grade10','grade11','grade12']]\n",
    "all_classes=['prek','k','grade1','grade2','grade3','grade4','grade5','grade6','grade7','grade8','grade9','grade10','grade11','grade12']\n",
    "years=['20052006','20062007','20072008','20082009','20092010','20102011','20112012']\n",
    "overall_categ_nums=[]\n",
    "categ_nums=[]\n",
    "for i in range(0,len(main_list)):\n",
    "    not_null_columns=[main_list[i]]\n",
    "    null_columns = [i for i in all_classes if i not in not_null_columns[0]]\n",
    "    my_data=data[(data[main_list[i]].notnull().all(1)) & (data[null_columns].isna().all(1))]\n",
    "    for j in years:\n",
    "        categ_nums.append(len(my_data[my_data['schoolyear']==j]))\n",
    "    overall_categ_nums.append(categ_nums)\n",
    "    categ_nums=[]\n",
    "\n",
    "myyears=['fivesix','sixseven','seveneight','eightnine','nineten','teneleven','eleventwelve']\n",
    "trace1=go.Bar(\n",
    "    x=myyears,\n",
    "    y=overall_categ_nums[0],\n",
    "    name='Only preprimary'\n",
    ")\n",
    "trace2=go.Bar(\n",
    "    x=myyears,\n",
    "    y=overall_categ_nums[1],\n",
    "    name='Only primary'\n",
    ")\n",
    "trace3=go.Bar(\n",
    "    x=myyears,\n",
    "    y=overall_categ_nums[2],\n",
    "    name='Only middle'\n",
    ")\n",
    "trace4=go.Bar(\n",
    "    x=myyears,\n",
    "    y=overall_categ_nums[3],\n",
    "    name='Only senior'\n",
    ")\n",
    "trace5=go.Bar(\n",
    "    x=myyears,\n",
    "    y=overall_categ_nums[4],\n",
    "    name='Pre primary and primary'\n",
    ")\n",
    "trace6=go.Bar(\n",
    "    x=myyears,\n",
    "    y=overall_categ_nums[5],\n",
    "    name='primary and middle'\n",
    ")\n",
    "trace7=go.Bar(\n",
    "    x=myyears,\n",
    "    y=overall_categ_nums[6],\n",
    "    name='preprimary to middle'\n",
    ")\n",
    "trace8=go.Bar(\n",
    "    x=myyears,\n",
    "    y=overall_categ_nums[7],\n",
    "    name='primary to senior'\n",
    ")\n",
    "trace9=go.Bar(\n",
    "    x=myyears,\n",
    "    y=overall_categ_nums[8],\n",
    "    name='preprimary to senior'\n",
    ")\n",
    "data1=[trace1,trace2,trace3,trace4,trace5,trace6,trace7,trace8,trace9]\n",
    "layout=go.Layout(barmode='group',title='Different types of schools')\n",
    "fig=go.Figure(data=data1,layout=layout)\n",
    "iplot(fig)"
   ]
  },
  {
   "cell_type": "markdown",
   "metadata": {},
   "source": [
    "It can be observed above that up until the academic year 2010-2011, the type of school which was highest in numbers were the ones which gave admission only in pre-primary and primary (pre-k to class 5), however, in the academic year 2011-2012, we see a magnificent rise in the number of schools which gave admissions in all classes, meanwhile the other types came down to zero."
   ]
  },
  {
   "cell_type": "markdown",
   "metadata": {},
   "source": [
    "Let's now go over the population percentage of students of different ethnicities over the years"
   ]
  },
  {
   "cell_type": "code",
   "execution_count": null,
   "metadata": {},
   "outputs": [],
   "source": []
  },
  {
   "cell_type": "markdown",
   "metadata": {},
   "source": [
    "When you consider ALL the schools in the dataset, it seems that hispanic students are in the majority."
   ]
  },
  {
   "cell_type": "markdown",
   "metadata": {},
   "source": [
    "Now here's something I was interested in showcasing and it amazed me that I wasn't exposed to this kind of a plot before: sunburst. I wanted to showcase the schools along with their populations over the years, but if you consider ALL the schools in the dataset, you'd hardly be able to see the names of the school without having to hover over the interactive plot, what I did meanwhile was consider the 20 most populated schools over the years and showing how many students each of those schools had enrolled in the respective years. Kindly click on any of the years section seen in the middle and you will be able to see the names of the 20 most populated schools (varying by size corresponding to the sstudent population of the school) along with the number of students enrolled in them."
   ]
  },
  {
   "cell_type": "code",
   "execution_count": 95,
   "metadata": {},
   "outputs": [
    {
     "data": {
      "application/vnd.plotly.v1+json": {
       "config": {
        "plotlyServerURL": "https://plot.ly"
       },
       "data": [
        {
         "branchvalues": "total",
         "domain": {
          "x": [
           0,
           1
          ],
          "y": [
           0,
           1
          ]
         },
         "hovertemplate": "labels=%{label}<br>total_enrollment=%{value}<br>parent=%{parent}<br>id=%{id}<extra></extra>",
         "ids": [
          "20052006/BAYSIDE HIGH SCHOOL",
          "20062007/BAYSIDE HIGH SCHOOL",
          "20072008/BAYSIDE HIGH SCHOOL",
          "20082009/BAYSIDE HIGH SCHOOL",
          "20092010/BAYSIDE HIGH SCHOOL",
          "20102011/BAYSIDE HIGH SCHOOL",
          "20112012/BAYSIDE HIGH SCHOOL                             ",
          "20052006/BENJAMIN N. CARDOZO HIGH SCHOOL",
          "20062007/BENJAMIN N. CARDOZO HIGH SCHOOL",
          "20072008/BENJAMIN N. CARDOZO HIGH SCHOOL",
          "20082009/BENJAMIN N. CARDOZO HIGH SCHOOL",
          "20092010/BENJAMIN N. CARDOZO HIGH SCHOOL",
          "20102011/BENJAMIN N. CARDOZO HIGH SCHOOL",
          "20112012/BENJAMIN N. CARDOZO HIGH SCHOOL                 ",
          "20052006/BOYS AND GIRLS HIGH SCHOOL",
          "20062007/BOYS AND GIRLS HIGH SCHOOL",
          "20072008/BOYS AND GIRLS HIGH SCHOOL",
          "20052006/BROOKLYN TECHNICAL HIGH SCHOOL",
          "20062007/BROOKLYN TECHNICAL HIGH SCHOOL",
          "20072008/BROOKLYN TECHNICAL HIGH SCHOOL",
          "20082009/BROOKLYN TECHNICAL HIGH SCHOOL",
          "20092010/BROOKLYN TECHNICAL HIGH SCHOOL",
          "20102011/BROOKLYN TECHNICAL HIGH SCHOOL",
          "20112012/BROOKLYN TECHNICAL HIGH SCHOOL                  ",
          "20052006/DEWITT CLINTON HIGH SCHOOL",
          "20062007/DEWITT CLINTON HIGH SCHOOL",
          "20072008/DEWITT CLINTON HIGH SCHOOL",
          "20082009/DEWITT CLINTON HIGH SCHOOL",
          "20092010/DEWITT CLINTON HIGH SCHOOL",
          "20102011/DEWITT CLINTON HIGH SCHOOL",
          "20112012/DEWITT CLINTON HIGH SCHOOL                      ",
          "20052006/EDWARD R. MURROW HIGH SCHOOL",
          "20062007/EDWARD R. MURROW HIGH SCHOOL",
          "20072008/EDWARD R. MURROW HIGH SCHOOL",
          "20082009/EDWARD R. MURROW HIGH SCHOOL",
          "20092010/EDWARD R. MURROW HIGH SCHOOL",
          "20102011/EDWARD R. MURROW HIGH SCHOOL",
          "20112012/EDWARD R. MURROW HIGH SCHOOL                    ",
          "20112012/FLUSHING HIGH SCHOOL                            ",
          "20052006/FOREST HILLS HIGH SCHOOL",
          "20062007/FOREST HILLS HIGH SCHOOL",
          "20072008/FOREST HILLS HIGH SCHOOL",
          "20082009/FOREST HILLS HIGH SCHOOL",
          "20092010/FOREST HILLS HIGH SCHOOL",
          "20102011/FOREST HILLS HIGH SCHOOL",
          "20112012/FOREST HILLS HIGH SCHOOL                        ",
          "20052006/FORT HAMILTON HIGH SCHOOL",
          "20062007/FORT HAMILTON HIGH SCHOOL",
          "20072008/FORT HAMILTON HIGH SCHOOL",
          "20082009/FORT HAMILTON HIGH SCHOOL",
          "20092010/FORT HAMILTON HIGH SCHOOL",
          "20102011/FORT HAMILTON HIGH SCHOOL",
          "20112012/FORT HAMILTON HIGH SCHOOL                       ",
          "20052006/FRANCIS LEWIS HIGH SCHOOL",
          "20062007/FRANCIS LEWIS HIGH SCHOOL",
          "20072008/FRANCIS LEWIS HIGH SCHOOL",
          "20082009/FRANCIS LEWIS HIGH SCHOOL",
          "20092010/FRANCIS LEWIS HIGH SCHOOL",
          "20102011/FRANCIS LEWIS HIGH SCHOOL",
          "20112012/FRANCIS LEWIS HIGH SCHOOL                       ",
          "20052006/FRANKLIN DELANO ROOSEVELT HIGH SCHOOL",
          "20062007/FRANKLIN DELANO ROOSEVELT HIGH SCHOOL",
          "20072008/FRANKLIN DELANO ROOSEVELT HIGH SCHOOL",
          "20082009/FRANKLIN DELANO ROOSEVELT HIGH SCHOOL",
          "20092010/FRANKLIN DELANO ROOSEVELT HIGH SCHOOL",
          "20102011/FRANKLIN DELANO ROOSEVELT HIGH SCHOOL",
          "20112012/FRANKLIN DELANO ROOSEVELT HIGH SCHOOL           ",
          "20052006/HERBERT LEHMAN HIGH SCHOOL",
          "20062007/HERBERT LEHMAN HIGH SCHOOL",
          "20072008/HERBERT LEHMAN HIGH SCHOOL",
          "20082009/HERBERT LEHMAN HIGH SCHOOL",
          "20092010/HERBERT LEHMAN HIGH SCHOOL",
          "20102011/HERBERT LEHMAN HIGH SCHOOL",
          "20112012/HERBERT LEHMAN HIGH SCHOOL                      ",
          "20072008/HILLCREST HIGH SCHOOL",
          "20082009/HILLCREST HIGH SCHOOL",
          "20092010/HILLCREST HIGH SCHOOL",
          "20102011/HILLCREST HIGH SCHOOL",
          "20112012/HILLCREST HIGH SCHOOL                           ",
          "20052006/JAMES MADISON HIGH SCHOOL",
          "20062007/JAMES MADISON HIGH SCHOOL",
          "20072008/JAMES MADISON HIGH SCHOOL",
          "20082009/JAMES MADISON HIGH SCHOOL",
          "20092010/JAMES MADISON HIGH SCHOOL",
          "20102011/JAMES MADISON HIGH SCHOOL",
          "20072008/JOHN ADAMS HIGH SCHOOL",
          "20082009/JOHN ADAMS HIGH SCHOOL",
          "20092010/JOHN ADAMS HIGH SCHOOL",
          "20102011/JOHN ADAMS HIGH SCHOOL",
          "20112012/JOHN ADAMS HIGH SCHOOL                          ",
          "20092010/JOHN BOWNE HIGH SCHOOL",
          "20102011/JOHN BOWNE HIGH SCHOOL",
          "20112012/JOHN BOWNE HIGH SCHOOL                          ",
          "20052006/LONG ISLAND CITY HIGH SCHOOL",
          "20062007/LONG ISLAND CITY HIGH SCHOOL",
          "20072008/LONG ISLAND CITY HIGH SCHOOL",
          "20082009/LONG ISLAND CITY HIGH SCHOOL",
          "20092010/LONG ISLAND CITY HIGH SCHOOL",
          "20102011/LONG ISLAND CITY HIGH SCHOOL",
          "20112012/LONG ISLAND CITY HIGH SCHOOL                    ",
          "20052006/MARTIN VAN BUREN HIGH SCHOOL",
          "20062007/MARTIN VAN BUREN HIGH SCHOOL",
          "20052006/MIDWOOD HIGH SCHOOL",
          "20062007/MIDWOOD HIGH SCHOOL",
          "20072008/MIDWOOD HIGH SCHOOL",
          "20082009/MIDWOOD HIGH SCHOOL",
          "20092010/MIDWOOD HIGH SCHOOL",
          "20102011/MIDWOOD HIGH SCHOOL",
          "20112012/MIDWOOD HIGH SCHOOL                             ",
          "20102011/NEW UTRECHT HIGH SCHOOL",
          "20112012/NEW UTRECHT HIGH SCHOOL                         ",
          "20052006/NEWTOWN HIGH SCHOOL",
          "20062007/NEWTOWN HIGH SCHOOL",
          "20072008/NEWTOWN HIGH SCHOOL",
          "20082009/NEWTOWN HIGH SCHOOL",
          "20052006/RICHMOND HILL HIGH SCHOOL",
          "20062007/RICHMOND HILL HIGH SCHOOL",
          "20072008/RICHMOND HILL HIGH SCHOOL",
          "20082009/RICHMOND HILL HIGH SCHOOL",
          "20092010/RICHMOND HILL HIGH SCHOOL",
          "20052006/SHEEPSHEAD BAY HIGH SCHOOL",
          "20082009/STUYVESANT HIGH SCHOOL",
          "20092010/STUYVESANT HIGH SCHOOL",
          "20102011/STUYVESANT HIGH SCHOOL",
          "20112012/STUYVESANT HIGH SCHOOL                          ",
          "20062007/SUSAN E. WAGNER HIGH SCHOOL",
          "20072008/SUSAN E. WAGNER HIGH SCHOOL",
          "20082009/SUSAN E. WAGNER HIGH SCHOOL",
          "20092010/SUSAN E. WAGNER HIGH SCHOOL",
          "20102011/SUSAN E. WAGNER HIGH SCHOOL",
          "20112012/SUSAN E. WAGNER HIGH SCHOOL                     ",
          "20052006/TOTTENVILLE HIGH SCHOOL",
          "20062007/TOTTENVILLE HIGH SCHOOL",
          "20072008/TOTTENVILLE HIGH SCHOOL",
          "20082009/TOTTENVILLE HIGH SCHOOL",
          "20092010/TOTTENVILLE HIGH SCHOOL",
          "20102011/TOTTENVILLE HIGH SCHOOL",
          "20112012/TOTTENVILLE HIGH SCHOOL                         ",
          "20052006/WILLIAM CULLEN BRYANT HIGH SCHOOL",
          "20062007/WILLIAM CULLEN BRYANT HIGH SCHOOL",
          "20052006",
          "20062007",
          "20072008",
          "20082009",
          "20092010",
          "20102011",
          "20112012"
         ],
         "labels": [
          "BAYSIDE HIGH SCHOOL",
          "BAYSIDE HIGH SCHOOL",
          "BAYSIDE HIGH SCHOOL",
          "BAYSIDE HIGH SCHOOL",
          "BAYSIDE HIGH SCHOOL",
          "BAYSIDE HIGH SCHOOL",
          "BAYSIDE HIGH SCHOOL                             ",
          "BENJAMIN N. CARDOZO HIGH SCHOOL",
          "BENJAMIN N. CARDOZO HIGH SCHOOL",
          "BENJAMIN N. CARDOZO HIGH SCHOOL",
          "BENJAMIN N. CARDOZO HIGH SCHOOL",
          "BENJAMIN N. CARDOZO HIGH SCHOOL",
          "BENJAMIN N. CARDOZO HIGH SCHOOL",
          "BENJAMIN N. CARDOZO HIGH SCHOOL                 ",
          "BOYS AND GIRLS HIGH SCHOOL",
          "BOYS AND GIRLS HIGH SCHOOL",
          "BOYS AND GIRLS HIGH SCHOOL",
          "BROOKLYN TECHNICAL HIGH SCHOOL",
          "BROOKLYN TECHNICAL HIGH SCHOOL",
          "BROOKLYN TECHNICAL HIGH SCHOOL",
          "BROOKLYN TECHNICAL HIGH SCHOOL",
          "BROOKLYN TECHNICAL HIGH SCHOOL",
          "BROOKLYN TECHNICAL HIGH SCHOOL",
          "BROOKLYN TECHNICAL HIGH SCHOOL                  ",
          "DEWITT CLINTON HIGH SCHOOL",
          "DEWITT CLINTON HIGH SCHOOL",
          "DEWITT CLINTON HIGH SCHOOL",
          "DEWITT CLINTON HIGH SCHOOL",
          "DEWITT CLINTON HIGH SCHOOL",
          "DEWITT CLINTON HIGH SCHOOL",
          "DEWITT CLINTON HIGH SCHOOL                      ",
          "EDWARD R. MURROW HIGH SCHOOL",
          "EDWARD R. MURROW HIGH SCHOOL",
          "EDWARD R. MURROW HIGH SCHOOL",
          "EDWARD R. MURROW HIGH SCHOOL",
          "EDWARD R. MURROW HIGH SCHOOL",
          "EDWARD R. MURROW HIGH SCHOOL",
          "EDWARD R. MURROW HIGH SCHOOL                    ",
          "FLUSHING HIGH SCHOOL                            ",
          "FOREST HILLS HIGH SCHOOL",
          "FOREST HILLS HIGH SCHOOL",
          "FOREST HILLS HIGH SCHOOL",
          "FOREST HILLS HIGH SCHOOL",
          "FOREST HILLS HIGH SCHOOL",
          "FOREST HILLS HIGH SCHOOL",
          "FOREST HILLS HIGH SCHOOL                        ",
          "FORT HAMILTON HIGH SCHOOL",
          "FORT HAMILTON HIGH SCHOOL",
          "FORT HAMILTON HIGH SCHOOL",
          "FORT HAMILTON HIGH SCHOOL",
          "FORT HAMILTON HIGH SCHOOL",
          "FORT HAMILTON HIGH SCHOOL",
          "FORT HAMILTON HIGH SCHOOL                       ",
          "FRANCIS LEWIS HIGH SCHOOL",
          "FRANCIS LEWIS HIGH SCHOOL",
          "FRANCIS LEWIS HIGH SCHOOL",
          "FRANCIS LEWIS HIGH SCHOOL",
          "FRANCIS LEWIS HIGH SCHOOL",
          "FRANCIS LEWIS HIGH SCHOOL",
          "FRANCIS LEWIS HIGH SCHOOL                       ",
          "FRANKLIN DELANO ROOSEVELT HIGH SCHOOL",
          "FRANKLIN DELANO ROOSEVELT HIGH SCHOOL",
          "FRANKLIN DELANO ROOSEVELT HIGH SCHOOL",
          "FRANKLIN DELANO ROOSEVELT HIGH SCHOOL",
          "FRANKLIN DELANO ROOSEVELT HIGH SCHOOL",
          "FRANKLIN DELANO ROOSEVELT HIGH SCHOOL",
          "FRANKLIN DELANO ROOSEVELT HIGH SCHOOL           ",
          "HERBERT LEHMAN HIGH SCHOOL",
          "HERBERT LEHMAN HIGH SCHOOL",
          "HERBERT LEHMAN HIGH SCHOOL",
          "HERBERT LEHMAN HIGH SCHOOL",
          "HERBERT LEHMAN HIGH SCHOOL",
          "HERBERT LEHMAN HIGH SCHOOL",
          "HERBERT LEHMAN HIGH SCHOOL                      ",
          "HILLCREST HIGH SCHOOL",
          "HILLCREST HIGH SCHOOL",
          "HILLCREST HIGH SCHOOL",
          "HILLCREST HIGH SCHOOL",
          "HILLCREST HIGH SCHOOL                           ",
          "JAMES MADISON HIGH SCHOOL",
          "JAMES MADISON HIGH SCHOOL",
          "JAMES MADISON HIGH SCHOOL",
          "JAMES MADISON HIGH SCHOOL",
          "JAMES MADISON HIGH SCHOOL",
          "JAMES MADISON HIGH SCHOOL",
          "JOHN ADAMS HIGH SCHOOL",
          "JOHN ADAMS HIGH SCHOOL",
          "JOHN ADAMS HIGH SCHOOL",
          "JOHN ADAMS HIGH SCHOOL",
          "JOHN ADAMS HIGH SCHOOL                          ",
          "JOHN BOWNE HIGH SCHOOL",
          "JOHN BOWNE HIGH SCHOOL",
          "JOHN BOWNE HIGH SCHOOL                          ",
          "LONG ISLAND CITY HIGH SCHOOL",
          "LONG ISLAND CITY HIGH SCHOOL",
          "LONG ISLAND CITY HIGH SCHOOL",
          "LONG ISLAND CITY HIGH SCHOOL",
          "LONG ISLAND CITY HIGH SCHOOL",
          "LONG ISLAND CITY HIGH SCHOOL",
          "LONG ISLAND CITY HIGH SCHOOL                    ",
          "MARTIN VAN BUREN HIGH SCHOOL",
          "MARTIN VAN BUREN HIGH SCHOOL",
          "MIDWOOD HIGH SCHOOL",
          "MIDWOOD HIGH SCHOOL",
          "MIDWOOD HIGH SCHOOL",
          "MIDWOOD HIGH SCHOOL",
          "MIDWOOD HIGH SCHOOL",
          "MIDWOOD HIGH SCHOOL",
          "MIDWOOD HIGH SCHOOL                             ",
          "NEW UTRECHT HIGH SCHOOL",
          "NEW UTRECHT HIGH SCHOOL                         ",
          "NEWTOWN HIGH SCHOOL",
          "NEWTOWN HIGH SCHOOL",
          "NEWTOWN HIGH SCHOOL",
          "NEWTOWN HIGH SCHOOL",
          "RICHMOND HILL HIGH SCHOOL",
          "RICHMOND HILL HIGH SCHOOL",
          "RICHMOND HILL HIGH SCHOOL",
          "RICHMOND HILL HIGH SCHOOL",
          "RICHMOND HILL HIGH SCHOOL",
          "SHEEPSHEAD BAY HIGH SCHOOL",
          "STUYVESANT HIGH SCHOOL",
          "STUYVESANT HIGH SCHOOL",
          "STUYVESANT HIGH SCHOOL",
          "STUYVESANT HIGH SCHOOL                          ",
          "SUSAN E. WAGNER HIGH SCHOOL",
          "SUSAN E. WAGNER HIGH SCHOOL",
          "SUSAN E. WAGNER HIGH SCHOOL",
          "SUSAN E. WAGNER HIGH SCHOOL",
          "SUSAN E. WAGNER HIGH SCHOOL",
          "SUSAN E. WAGNER HIGH SCHOOL                     ",
          "TOTTENVILLE HIGH SCHOOL",
          "TOTTENVILLE HIGH SCHOOL",
          "TOTTENVILLE HIGH SCHOOL",
          "TOTTENVILLE HIGH SCHOOL",
          "TOTTENVILLE HIGH SCHOOL",
          "TOTTENVILLE HIGH SCHOOL",
          "TOTTENVILLE HIGH SCHOOL                         ",
          "WILLIAM CULLEN BRYANT HIGH SCHOOL",
          "WILLIAM CULLEN BRYANT HIGH SCHOOL",
          "20052006",
          "20062007",
          "20072008",
          "20082009",
          "20092010",
          "20102011",
          "20112012"
         ],
         "name": "",
         "parents": [
          "20052006",
          "20062007",
          "20072008",
          "20082009",
          "20092010",
          "20102011",
          "20112012",
          "20052006",
          "20062007",
          "20072008",
          "20082009",
          "20092010",
          "20102011",
          "20112012",
          "20052006",
          "20062007",
          "20072008",
          "20052006",
          "20062007",
          "20072008",
          "20082009",
          "20092010",
          "20102011",
          "20112012",
          "20052006",
          "20062007",
          "20072008",
          "20082009",
          "20092010",
          "20102011",
          "20112012",
          "20052006",
          "20062007",
          "20072008",
          "20082009",
          "20092010",
          "20102011",
          "20112012",
          "20112012",
          "20052006",
          "20062007",
          "20072008",
          "20082009",
          "20092010",
          "20102011",
          "20112012",
          "20052006",
          "20062007",
          "20072008",
          "20082009",
          "20092010",
          "20102011",
          "20112012",
          "20052006",
          "20062007",
          "20072008",
          "20082009",
          "20092010",
          "20102011",
          "20112012",
          "20052006",
          "20062007",
          "20072008",
          "20082009",
          "20092010",
          "20102011",
          "20112012",
          "20052006",
          "20062007",
          "20072008",
          "20082009",
          "20092010",
          "20102011",
          "20112012",
          "20072008",
          "20082009",
          "20092010",
          "20102011",
          "20112012",
          "20052006",
          "20062007",
          "20072008",
          "20082009",
          "20092010",
          "20102011",
          "20072008",
          "20082009",
          "20092010",
          "20102011",
          "20112012",
          "20092010",
          "20102011",
          "20112012",
          "20052006",
          "20062007",
          "20072008",
          "20082009",
          "20092010",
          "20102011",
          "20112012",
          "20052006",
          "20062007",
          "20052006",
          "20062007",
          "20072008",
          "20082009",
          "20092010",
          "20102011",
          "20112012",
          "20102011",
          "20112012",
          "20052006",
          "20062007",
          "20072008",
          "20082009",
          "20052006",
          "20062007",
          "20072008",
          "20082009",
          "20092010",
          "20052006",
          "20082009",
          "20092010",
          "20102011",
          "20112012",
          "20062007",
          "20072008",
          "20082009",
          "20092010",
          "20102011",
          "20112012",
          "20052006",
          "20062007",
          "20072008",
          "20082009",
          "20092010",
          "20102011",
          "20112012",
          "20052006",
          "20062007",
          "",
          "",
          "",
          "",
          "",
          "",
          ""
         ],
         "type": "sunburst",
         "values": [
          3623,
          3908,
          4072,
          3723,
          3575,
          3628,
          3308,
          4042,
          4155,
          3902,
          3970,
          4018,
          4063,
          3912,
          4400,
          4051,
          3681,
          4240,
          4296,
          4469,
          4662,
          4947,
          5140,
          5332,
          4533,
          4465,
          4392,
          4388,
          4444,
          4408,
          4159,
          3985,
          3921,
          4020,
          3888,
          3949,
          4019,
          4022,
          3113,
          3689,
          3778,
          3641,
          3642,
          3858,
          3897,
          3834,
          4538,
          4376,
          4462,
          4210,
          4270,
          4353,
          4275,
          4235,
          4500,
          4472,
          4443,
          4460,
          4211,
          4152,
          3652,
          3665,
          3608,
          3425,
          3486,
          3412,
          3108,
          4120,
          4288,
          4303,
          4089,
          4115,
          3925,
          3593,
          3349,
          3286,
          3118,
          3289,
          3103,
          4223,
          4362,
          3828,
          3406,
          3288,
          3145,
          3259,
          3366,
          3247,
          3296,
          3386,
          3114,
          3471,
          3660,
          3824,
          3432,
          3337,
          3204,
          3300,
          3508,
          3386,
          3425,
          3285,
          3773,
          3764,
          3762,
          3758,
          3938,
          3986,
          3842,
          3218,
          3276,
          4138,
          3805,
          3400,
          3196,
          3619,
          3676,
          3587,
          3504,
          3174,
          3531,
          3245,
          3277,
          3287,
          3297,
          3339,
          3358,
          3314,
          3307,
          3162,
          3243,
          3870,
          3846,
          3848,
          3864,
          3876,
          3813,
          3875,
          3516,
          3369,
          78976,
          78281,
          76750,
          74583,
          74761,
          75231,
          73876
         ]
        }
       ],
       "layout": {
        "legend": {
         "tracegroupgap": 0
        },
        "margin": {
         "t": 60
        },
        "template": {
         "data": {
          "bar": [
           {
            "error_x": {
             "color": "#2a3f5f"
            },
            "error_y": {
             "color": "#2a3f5f"
            },
            "marker": {
             "line": {
              "color": "#E5ECF6",
              "width": 0.5
             },
             "pattern": {
              "fillmode": "overlay",
              "size": 10,
              "solidity": 0.2
             }
            },
            "type": "bar"
           }
          ],
          "barpolar": [
           {
            "marker": {
             "line": {
              "color": "#E5ECF6",
              "width": 0.5
             },
             "pattern": {
              "fillmode": "overlay",
              "size": 10,
              "solidity": 0.2
             }
            },
            "type": "barpolar"
           }
          ],
          "carpet": [
           {
            "aaxis": {
             "endlinecolor": "#2a3f5f",
             "gridcolor": "white",
             "linecolor": "white",
             "minorgridcolor": "white",
             "startlinecolor": "#2a3f5f"
            },
            "baxis": {
             "endlinecolor": "#2a3f5f",
             "gridcolor": "white",
             "linecolor": "white",
             "minorgridcolor": "white",
             "startlinecolor": "#2a3f5f"
            },
            "type": "carpet"
           }
          ],
          "choropleth": [
           {
            "colorbar": {
             "outlinewidth": 0,
             "ticks": ""
            },
            "type": "choropleth"
           }
          ],
          "contour": [
           {
            "colorbar": {
             "outlinewidth": 0,
             "ticks": ""
            },
            "colorscale": [
             [
              0,
              "#0d0887"
             ],
             [
              0.1111111111111111,
              "#46039f"
             ],
             [
              0.2222222222222222,
              "#7201a8"
             ],
             [
              0.3333333333333333,
              "#9c179e"
             ],
             [
              0.4444444444444444,
              "#bd3786"
             ],
             [
              0.5555555555555556,
              "#d8576b"
             ],
             [
              0.6666666666666666,
              "#ed7953"
             ],
             [
              0.7777777777777778,
              "#fb9f3a"
             ],
             [
              0.8888888888888888,
              "#fdca26"
             ],
             [
              1,
              "#f0f921"
             ]
            ],
            "type": "contour"
           }
          ],
          "contourcarpet": [
           {
            "colorbar": {
             "outlinewidth": 0,
             "ticks": ""
            },
            "type": "contourcarpet"
           }
          ],
          "heatmap": [
           {
            "colorbar": {
             "outlinewidth": 0,
             "ticks": ""
            },
            "colorscale": [
             [
              0,
              "#0d0887"
             ],
             [
              0.1111111111111111,
              "#46039f"
             ],
             [
              0.2222222222222222,
              "#7201a8"
             ],
             [
              0.3333333333333333,
              "#9c179e"
             ],
             [
              0.4444444444444444,
              "#bd3786"
             ],
             [
              0.5555555555555556,
              "#d8576b"
             ],
             [
              0.6666666666666666,
              "#ed7953"
             ],
             [
              0.7777777777777778,
              "#fb9f3a"
             ],
             [
              0.8888888888888888,
              "#fdca26"
             ],
             [
              1,
              "#f0f921"
             ]
            ],
            "type": "heatmap"
           }
          ],
          "heatmapgl": [
           {
            "colorbar": {
             "outlinewidth": 0,
             "ticks": ""
            },
            "colorscale": [
             [
              0,
              "#0d0887"
             ],
             [
              0.1111111111111111,
              "#46039f"
             ],
             [
              0.2222222222222222,
              "#7201a8"
             ],
             [
              0.3333333333333333,
              "#9c179e"
             ],
             [
              0.4444444444444444,
              "#bd3786"
             ],
             [
              0.5555555555555556,
              "#d8576b"
             ],
             [
              0.6666666666666666,
              "#ed7953"
             ],
             [
              0.7777777777777778,
              "#fb9f3a"
             ],
             [
              0.8888888888888888,
              "#fdca26"
             ],
             [
              1,
              "#f0f921"
             ]
            ],
            "type": "heatmapgl"
           }
          ],
          "histogram": [
           {
            "marker": {
             "pattern": {
              "fillmode": "overlay",
              "size": 10,
              "solidity": 0.2
             }
            },
            "type": "histogram"
           }
          ],
          "histogram2d": [
           {
            "colorbar": {
             "outlinewidth": 0,
             "ticks": ""
            },
            "colorscale": [
             [
              0,
              "#0d0887"
             ],
             [
              0.1111111111111111,
              "#46039f"
             ],
             [
              0.2222222222222222,
              "#7201a8"
             ],
             [
              0.3333333333333333,
              "#9c179e"
             ],
             [
              0.4444444444444444,
              "#bd3786"
             ],
             [
              0.5555555555555556,
              "#d8576b"
             ],
             [
              0.6666666666666666,
              "#ed7953"
             ],
             [
              0.7777777777777778,
              "#fb9f3a"
             ],
             [
              0.8888888888888888,
              "#fdca26"
             ],
             [
              1,
              "#f0f921"
             ]
            ],
            "type": "histogram2d"
           }
          ],
          "histogram2dcontour": [
           {
            "colorbar": {
             "outlinewidth": 0,
             "ticks": ""
            },
            "colorscale": [
             [
              0,
              "#0d0887"
             ],
             [
              0.1111111111111111,
              "#46039f"
             ],
             [
              0.2222222222222222,
              "#7201a8"
             ],
             [
              0.3333333333333333,
              "#9c179e"
             ],
             [
              0.4444444444444444,
              "#bd3786"
             ],
             [
              0.5555555555555556,
              "#d8576b"
             ],
             [
              0.6666666666666666,
              "#ed7953"
             ],
             [
              0.7777777777777778,
              "#fb9f3a"
             ],
             [
              0.8888888888888888,
              "#fdca26"
             ],
             [
              1,
              "#f0f921"
             ]
            ],
            "type": "histogram2dcontour"
           }
          ],
          "mesh3d": [
           {
            "colorbar": {
             "outlinewidth": 0,
             "ticks": ""
            },
            "type": "mesh3d"
           }
          ],
          "parcoords": [
           {
            "line": {
             "colorbar": {
              "outlinewidth": 0,
              "ticks": ""
             }
            },
            "type": "parcoords"
           }
          ],
          "pie": [
           {
            "automargin": true,
            "type": "pie"
           }
          ],
          "scatter": [
           {
            "fillpattern": {
             "fillmode": "overlay",
             "size": 10,
             "solidity": 0.2
            },
            "type": "scatter"
           }
          ],
          "scatter3d": [
           {
            "line": {
             "colorbar": {
              "outlinewidth": 0,
              "ticks": ""
             }
            },
            "marker": {
             "colorbar": {
              "outlinewidth": 0,
              "ticks": ""
             }
            },
            "type": "scatter3d"
           }
          ],
          "scattercarpet": [
           {
            "marker": {
             "colorbar": {
              "outlinewidth": 0,
              "ticks": ""
             }
            },
            "type": "scattercarpet"
           }
          ],
          "scattergeo": [
           {
            "marker": {
             "colorbar": {
              "outlinewidth": 0,
              "ticks": ""
             }
            },
            "type": "scattergeo"
           }
          ],
          "scattergl": [
           {
            "marker": {
             "colorbar": {
              "outlinewidth": 0,
              "ticks": ""
             }
            },
            "type": "scattergl"
           }
          ],
          "scattermapbox": [
           {
            "marker": {
             "colorbar": {
              "outlinewidth": 0,
              "ticks": ""
             }
            },
            "type": "scattermapbox"
           }
          ],
          "scatterpolar": [
           {
            "marker": {
             "colorbar": {
              "outlinewidth": 0,
              "ticks": ""
             }
            },
            "type": "scatterpolar"
           }
          ],
          "scatterpolargl": [
           {
            "marker": {
             "colorbar": {
              "outlinewidth": 0,
              "ticks": ""
             }
            },
            "type": "scatterpolargl"
           }
          ],
          "scatterternary": [
           {
            "marker": {
             "colorbar": {
              "outlinewidth": 0,
              "ticks": ""
             }
            },
            "type": "scatterternary"
           }
          ],
          "surface": [
           {
            "colorbar": {
             "outlinewidth": 0,
             "ticks": ""
            },
            "colorscale": [
             [
              0,
              "#0d0887"
             ],
             [
              0.1111111111111111,
              "#46039f"
             ],
             [
              0.2222222222222222,
              "#7201a8"
             ],
             [
              0.3333333333333333,
              "#9c179e"
             ],
             [
              0.4444444444444444,
              "#bd3786"
             ],
             [
              0.5555555555555556,
              "#d8576b"
             ],
             [
              0.6666666666666666,
              "#ed7953"
             ],
             [
              0.7777777777777778,
              "#fb9f3a"
             ],
             [
              0.8888888888888888,
              "#fdca26"
             ],
             [
              1,
              "#f0f921"
             ]
            ],
            "type": "surface"
           }
          ],
          "table": [
           {
            "cells": {
             "fill": {
              "color": "#EBF0F8"
             },
             "line": {
              "color": "white"
             }
            },
            "header": {
             "fill": {
              "color": "#C8D4E3"
             },
             "line": {
              "color": "white"
             }
            },
            "type": "table"
           }
          ]
         },
         "layout": {
          "annotationdefaults": {
           "arrowcolor": "#2a3f5f",
           "arrowhead": 0,
           "arrowwidth": 1
          },
          "autotypenumbers": "strict",
          "coloraxis": {
           "colorbar": {
            "outlinewidth": 0,
            "ticks": ""
           }
          },
          "colorscale": {
           "diverging": [
            [
             0,
             "#8e0152"
            ],
            [
             0.1,
             "#c51b7d"
            ],
            [
             0.2,
             "#de77ae"
            ],
            [
             0.3,
             "#f1b6da"
            ],
            [
             0.4,
             "#fde0ef"
            ],
            [
             0.5,
             "#f7f7f7"
            ],
            [
             0.6,
             "#e6f5d0"
            ],
            [
             0.7,
             "#b8e186"
            ],
            [
             0.8,
             "#7fbc41"
            ],
            [
             0.9,
             "#4d9221"
            ],
            [
             1,
             "#276419"
            ]
           ],
           "sequential": [
            [
             0,
             "#0d0887"
            ],
            [
             0.1111111111111111,
             "#46039f"
            ],
            [
             0.2222222222222222,
             "#7201a8"
            ],
            [
             0.3333333333333333,
             "#9c179e"
            ],
            [
             0.4444444444444444,
             "#bd3786"
            ],
            [
             0.5555555555555556,
             "#d8576b"
            ],
            [
             0.6666666666666666,
             "#ed7953"
            ],
            [
             0.7777777777777778,
             "#fb9f3a"
            ],
            [
             0.8888888888888888,
             "#fdca26"
            ],
            [
             1,
             "#f0f921"
            ]
           ],
           "sequentialminus": [
            [
             0,
             "#0d0887"
            ],
            [
             0.1111111111111111,
             "#46039f"
            ],
            [
             0.2222222222222222,
             "#7201a8"
            ],
            [
             0.3333333333333333,
             "#9c179e"
            ],
            [
             0.4444444444444444,
             "#bd3786"
            ],
            [
             0.5555555555555556,
             "#d8576b"
            ],
            [
             0.6666666666666666,
             "#ed7953"
            ],
            [
             0.7777777777777778,
             "#fb9f3a"
            ],
            [
             0.8888888888888888,
             "#fdca26"
            ],
            [
             1,
             "#f0f921"
            ]
           ]
          },
          "colorway": [
           "#636efa",
           "#EF553B",
           "#00cc96",
           "#ab63fa",
           "#FFA15A",
           "#19d3f3",
           "#FF6692",
           "#B6E880",
           "#FF97FF",
           "#FECB52"
          ],
          "font": {
           "color": "#2a3f5f"
          },
          "geo": {
           "bgcolor": "white",
           "lakecolor": "white",
           "landcolor": "#E5ECF6",
           "showlakes": true,
           "showland": true,
           "subunitcolor": "white"
          },
          "hoverlabel": {
           "align": "left"
          },
          "hovermode": "closest",
          "mapbox": {
           "style": "light"
          },
          "paper_bgcolor": "white",
          "plot_bgcolor": "#E5ECF6",
          "polar": {
           "angularaxis": {
            "gridcolor": "white",
            "linecolor": "white",
            "ticks": ""
           },
           "bgcolor": "#E5ECF6",
           "radialaxis": {
            "gridcolor": "white",
            "linecolor": "white",
            "ticks": ""
           }
          },
          "scene": {
           "xaxis": {
            "backgroundcolor": "#E5ECF6",
            "gridcolor": "white",
            "gridwidth": 2,
            "linecolor": "white",
            "showbackground": true,
            "ticks": "",
            "zerolinecolor": "white"
           },
           "yaxis": {
            "backgroundcolor": "#E5ECF6",
            "gridcolor": "white",
            "gridwidth": 2,
            "linecolor": "white",
            "showbackground": true,
            "ticks": "",
            "zerolinecolor": "white"
           },
           "zaxis": {
            "backgroundcolor": "#E5ECF6",
            "gridcolor": "white",
            "gridwidth": 2,
            "linecolor": "white",
            "showbackground": true,
            "ticks": "",
            "zerolinecolor": "white"
           }
          },
          "shapedefaults": {
           "line": {
            "color": "#2a3f5f"
           }
          },
          "ternary": {
           "aaxis": {
            "gridcolor": "white",
            "linecolor": "white",
            "ticks": ""
           },
           "baxis": {
            "gridcolor": "white",
            "linecolor": "white",
            "ticks": ""
           },
           "bgcolor": "#E5ECF6",
           "caxis": {
            "gridcolor": "white",
            "linecolor": "white",
            "ticks": ""
           }
          },
          "title": {
           "x": 0.05
          },
          "xaxis": {
           "automargin": true,
           "gridcolor": "white",
           "linecolor": "white",
           "ticks": "",
           "title": {
            "standoff": 15
           },
           "zerolinecolor": "white",
           "zerolinewidth": 2
          },
          "yaxis": {
           "automargin": true,
           "gridcolor": "white",
           "linecolor": "white",
           "ticks": "",
           "title": {
            "standoff": 15
           },
           "zerolinecolor": "white",
           "zerolinewidth": 2
          }
         }
        }
       }
      },
      "text/html": [
       "<div>                            <div id=\"322a159a-4ec0-469b-a626-cf6192fa4cf8\" class=\"plotly-graph-div\" style=\"height:525px; width:100%;\"></div>            <script type=\"text/javascript\">                require([\"plotly\"], function(Plotly) {                    window.PLOTLYENV=window.PLOTLYENV || {};                                    if (document.getElementById(\"322a159a-4ec0-469b-a626-cf6192fa4cf8\")) {                    Plotly.newPlot(                        \"322a159a-4ec0-469b-a626-cf6192fa4cf8\",                        [{\"branchvalues\":\"total\",\"domain\":{\"x\":[0.0,1.0],\"y\":[0.0,1.0]},\"hovertemplate\":\"labels=%{label}<br>total_enrollment=%{value}<br>parent=%{parent}<br>id=%{id}<extra></extra>\",\"ids\":[\"20052006/BAYSIDE HIGH SCHOOL\",\"20062007/BAYSIDE HIGH SCHOOL\",\"20072008/BAYSIDE HIGH SCHOOL\",\"20082009/BAYSIDE HIGH SCHOOL\",\"20092010/BAYSIDE HIGH SCHOOL\",\"20102011/BAYSIDE HIGH SCHOOL\",\"20112012/BAYSIDE HIGH SCHOOL                             \",\"20052006/BENJAMIN N. CARDOZO HIGH SCHOOL\",\"20062007/BENJAMIN N. CARDOZO HIGH SCHOOL\",\"20072008/BENJAMIN N. CARDOZO HIGH SCHOOL\",\"20082009/BENJAMIN N. CARDOZO HIGH SCHOOL\",\"20092010/BENJAMIN N. CARDOZO HIGH SCHOOL\",\"20102011/BENJAMIN N. CARDOZO HIGH SCHOOL\",\"20112012/BENJAMIN N. CARDOZO HIGH SCHOOL                 \",\"20052006/BOYS AND GIRLS HIGH SCHOOL\",\"20062007/BOYS AND GIRLS HIGH SCHOOL\",\"20072008/BOYS AND GIRLS HIGH SCHOOL\",\"20052006/BROOKLYN TECHNICAL HIGH SCHOOL\",\"20062007/BROOKLYN TECHNICAL HIGH SCHOOL\",\"20072008/BROOKLYN TECHNICAL HIGH SCHOOL\",\"20082009/BROOKLYN TECHNICAL HIGH SCHOOL\",\"20092010/BROOKLYN TECHNICAL HIGH SCHOOL\",\"20102011/BROOKLYN TECHNICAL HIGH SCHOOL\",\"20112012/BROOKLYN TECHNICAL HIGH SCHOOL                  \",\"20052006/DEWITT CLINTON HIGH SCHOOL\",\"20062007/DEWITT CLINTON HIGH SCHOOL\",\"20072008/DEWITT CLINTON HIGH SCHOOL\",\"20082009/DEWITT CLINTON HIGH SCHOOL\",\"20092010/DEWITT CLINTON HIGH SCHOOL\",\"20102011/DEWITT CLINTON HIGH SCHOOL\",\"20112012/DEWITT CLINTON HIGH SCHOOL                      \",\"20052006/EDWARD R. MURROW HIGH SCHOOL\",\"20062007/EDWARD R. MURROW HIGH SCHOOL\",\"20072008/EDWARD R. MURROW HIGH SCHOOL\",\"20082009/EDWARD R. MURROW HIGH SCHOOL\",\"20092010/EDWARD R. MURROW HIGH SCHOOL\",\"20102011/EDWARD R. MURROW HIGH SCHOOL\",\"20112012/EDWARD R. MURROW HIGH SCHOOL                    \",\"20112012/FLUSHING HIGH SCHOOL                            \",\"20052006/FOREST HILLS HIGH SCHOOL\",\"20062007/FOREST HILLS HIGH SCHOOL\",\"20072008/FOREST HILLS HIGH SCHOOL\",\"20082009/FOREST HILLS HIGH SCHOOL\",\"20092010/FOREST HILLS HIGH SCHOOL\",\"20102011/FOREST HILLS HIGH SCHOOL\",\"20112012/FOREST HILLS HIGH SCHOOL                        \",\"20052006/FORT HAMILTON HIGH SCHOOL\",\"20062007/FORT HAMILTON HIGH SCHOOL\",\"20072008/FORT HAMILTON HIGH SCHOOL\",\"20082009/FORT HAMILTON HIGH SCHOOL\",\"20092010/FORT HAMILTON HIGH SCHOOL\",\"20102011/FORT HAMILTON HIGH SCHOOL\",\"20112012/FORT HAMILTON HIGH SCHOOL                       \",\"20052006/FRANCIS LEWIS HIGH SCHOOL\",\"20062007/FRANCIS LEWIS HIGH SCHOOL\",\"20072008/FRANCIS LEWIS HIGH SCHOOL\",\"20082009/FRANCIS LEWIS HIGH SCHOOL\",\"20092010/FRANCIS LEWIS HIGH SCHOOL\",\"20102011/FRANCIS LEWIS HIGH SCHOOL\",\"20112012/FRANCIS LEWIS HIGH SCHOOL                       \",\"20052006/FRANKLIN DELANO ROOSEVELT HIGH SCHOOL\",\"20062007/FRANKLIN DELANO ROOSEVELT HIGH SCHOOL\",\"20072008/FRANKLIN DELANO ROOSEVELT HIGH SCHOOL\",\"20082009/FRANKLIN DELANO ROOSEVELT HIGH SCHOOL\",\"20092010/FRANKLIN DELANO ROOSEVELT HIGH SCHOOL\",\"20102011/FRANKLIN DELANO ROOSEVELT HIGH SCHOOL\",\"20112012/FRANKLIN DELANO ROOSEVELT HIGH SCHOOL           \",\"20052006/HERBERT LEHMAN HIGH SCHOOL\",\"20062007/HERBERT LEHMAN HIGH SCHOOL\",\"20072008/HERBERT LEHMAN HIGH SCHOOL\",\"20082009/HERBERT LEHMAN HIGH SCHOOL\",\"20092010/HERBERT LEHMAN HIGH SCHOOL\",\"20102011/HERBERT LEHMAN HIGH SCHOOL\",\"20112012/HERBERT LEHMAN HIGH SCHOOL                      \",\"20072008/HILLCREST HIGH SCHOOL\",\"20082009/HILLCREST HIGH SCHOOL\",\"20092010/HILLCREST HIGH SCHOOL\",\"20102011/HILLCREST HIGH SCHOOL\",\"20112012/HILLCREST HIGH SCHOOL                           \",\"20052006/JAMES MADISON HIGH SCHOOL\",\"20062007/JAMES MADISON HIGH SCHOOL\",\"20072008/JAMES MADISON HIGH SCHOOL\",\"20082009/JAMES MADISON HIGH SCHOOL\",\"20092010/JAMES MADISON HIGH SCHOOL\",\"20102011/JAMES MADISON HIGH SCHOOL\",\"20072008/JOHN ADAMS HIGH SCHOOL\",\"20082009/JOHN ADAMS HIGH SCHOOL\",\"20092010/JOHN ADAMS HIGH SCHOOL\",\"20102011/JOHN ADAMS HIGH SCHOOL\",\"20112012/JOHN ADAMS HIGH SCHOOL                          \",\"20092010/JOHN BOWNE HIGH SCHOOL\",\"20102011/JOHN BOWNE HIGH SCHOOL\",\"20112012/JOHN BOWNE HIGH SCHOOL                          \",\"20052006/LONG ISLAND CITY HIGH SCHOOL\",\"20062007/LONG ISLAND CITY HIGH SCHOOL\",\"20072008/LONG ISLAND CITY HIGH SCHOOL\",\"20082009/LONG ISLAND CITY HIGH SCHOOL\",\"20092010/LONG ISLAND CITY HIGH SCHOOL\",\"20102011/LONG ISLAND CITY HIGH SCHOOL\",\"20112012/LONG ISLAND CITY HIGH SCHOOL                    \",\"20052006/MARTIN VAN BUREN HIGH SCHOOL\",\"20062007/MARTIN VAN BUREN HIGH SCHOOL\",\"20052006/MIDWOOD HIGH SCHOOL\",\"20062007/MIDWOOD HIGH SCHOOL\",\"20072008/MIDWOOD HIGH SCHOOL\",\"20082009/MIDWOOD HIGH SCHOOL\",\"20092010/MIDWOOD HIGH SCHOOL\",\"20102011/MIDWOOD HIGH SCHOOL\",\"20112012/MIDWOOD HIGH SCHOOL                             \",\"20102011/NEW UTRECHT HIGH SCHOOL\",\"20112012/NEW UTRECHT HIGH SCHOOL                         \",\"20052006/NEWTOWN HIGH SCHOOL\",\"20062007/NEWTOWN HIGH SCHOOL\",\"20072008/NEWTOWN HIGH SCHOOL\",\"20082009/NEWTOWN HIGH SCHOOL\",\"20052006/RICHMOND HILL HIGH SCHOOL\",\"20062007/RICHMOND HILL HIGH SCHOOL\",\"20072008/RICHMOND HILL HIGH SCHOOL\",\"20082009/RICHMOND HILL HIGH SCHOOL\",\"20092010/RICHMOND HILL HIGH SCHOOL\",\"20052006/SHEEPSHEAD BAY HIGH SCHOOL\",\"20082009/STUYVESANT HIGH SCHOOL\",\"20092010/STUYVESANT HIGH SCHOOL\",\"20102011/STUYVESANT HIGH SCHOOL\",\"20112012/STUYVESANT HIGH SCHOOL                          \",\"20062007/SUSAN E. WAGNER HIGH SCHOOL\",\"20072008/SUSAN E. WAGNER HIGH SCHOOL\",\"20082009/SUSAN E. WAGNER HIGH SCHOOL\",\"20092010/SUSAN E. WAGNER HIGH SCHOOL\",\"20102011/SUSAN E. WAGNER HIGH SCHOOL\",\"20112012/SUSAN E. WAGNER HIGH SCHOOL                     \",\"20052006/TOTTENVILLE HIGH SCHOOL\",\"20062007/TOTTENVILLE HIGH SCHOOL\",\"20072008/TOTTENVILLE HIGH SCHOOL\",\"20082009/TOTTENVILLE HIGH SCHOOL\",\"20092010/TOTTENVILLE HIGH SCHOOL\",\"20102011/TOTTENVILLE HIGH SCHOOL\",\"20112012/TOTTENVILLE HIGH SCHOOL                         \",\"20052006/WILLIAM CULLEN BRYANT HIGH SCHOOL\",\"20062007/WILLIAM CULLEN BRYANT HIGH SCHOOL\",\"20052006\",\"20062007\",\"20072008\",\"20082009\",\"20092010\",\"20102011\",\"20112012\"],\"labels\":[\"BAYSIDE HIGH SCHOOL\",\"BAYSIDE HIGH SCHOOL\",\"BAYSIDE HIGH SCHOOL\",\"BAYSIDE HIGH SCHOOL\",\"BAYSIDE HIGH SCHOOL\",\"BAYSIDE HIGH SCHOOL\",\"BAYSIDE HIGH SCHOOL                             \",\"BENJAMIN N. CARDOZO HIGH SCHOOL\",\"BENJAMIN N. CARDOZO HIGH SCHOOL\",\"BENJAMIN N. CARDOZO HIGH SCHOOL\",\"BENJAMIN N. CARDOZO HIGH SCHOOL\",\"BENJAMIN N. CARDOZO HIGH SCHOOL\",\"BENJAMIN N. CARDOZO HIGH SCHOOL\",\"BENJAMIN N. CARDOZO HIGH SCHOOL                 \",\"BOYS AND GIRLS HIGH SCHOOL\",\"BOYS AND GIRLS HIGH SCHOOL\",\"BOYS AND GIRLS HIGH SCHOOL\",\"BROOKLYN TECHNICAL HIGH SCHOOL\",\"BROOKLYN TECHNICAL HIGH SCHOOL\",\"BROOKLYN TECHNICAL HIGH SCHOOL\",\"BROOKLYN TECHNICAL HIGH SCHOOL\",\"BROOKLYN TECHNICAL HIGH SCHOOL\",\"BROOKLYN TECHNICAL HIGH SCHOOL\",\"BROOKLYN TECHNICAL HIGH SCHOOL                  \",\"DEWITT CLINTON HIGH SCHOOL\",\"DEWITT CLINTON HIGH SCHOOL\",\"DEWITT CLINTON HIGH SCHOOL\",\"DEWITT CLINTON HIGH SCHOOL\",\"DEWITT CLINTON HIGH SCHOOL\",\"DEWITT CLINTON HIGH SCHOOL\",\"DEWITT CLINTON HIGH SCHOOL                      \",\"EDWARD R. MURROW HIGH SCHOOL\",\"EDWARD R. MURROW HIGH SCHOOL\",\"EDWARD R. MURROW HIGH SCHOOL\",\"EDWARD R. MURROW HIGH SCHOOL\",\"EDWARD R. MURROW HIGH SCHOOL\",\"EDWARD R. MURROW HIGH SCHOOL\",\"EDWARD R. MURROW HIGH SCHOOL                    \",\"FLUSHING HIGH SCHOOL                            \",\"FOREST HILLS HIGH SCHOOL\",\"FOREST HILLS HIGH SCHOOL\",\"FOREST HILLS HIGH SCHOOL\",\"FOREST HILLS HIGH SCHOOL\",\"FOREST HILLS HIGH SCHOOL\",\"FOREST HILLS HIGH SCHOOL\",\"FOREST HILLS HIGH SCHOOL                        \",\"FORT HAMILTON HIGH SCHOOL\",\"FORT HAMILTON HIGH SCHOOL\",\"FORT HAMILTON HIGH SCHOOL\",\"FORT HAMILTON HIGH SCHOOL\",\"FORT HAMILTON HIGH SCHOOL\",\"FORT HAMILTON HIGH SCHOOL\",\"FORT HAMILTON HIGH SCHOOL                       \",\"FRANCIS LEWIS HIGH SCHOOL\",\"FRANCIS LEWIS HIGH SCHOOL\",\"FRANCIS LEWIS HIGH SCHOOL\",\"FRANCIS LEWIS HIGH SCHOOL\",\"FRANCIS LEWIS HIGH SCHOOL\",\"FRANCIS LEWIS HIGH SCHOOL\",\"FRANCIS LEWIS HIGH SCHOOL                       \",\"FRANKLIN DELANO ROOSEVELT HIGH SCHOOL\",\"FRANKLIN DELANO ROOSEVELT HIGH SCHOOL\",\"FRANKLIN DELANO ROOSEVELT HIGH SCHOOL\",\"FRANKLIN DELANO ROOSEVELT HIGH SCHOOL\",\"FRANKLIN DELANO ROOSEVELT HIGH SCHOOL\",\"FRANKLIN DELANO ROOSEVELT HIGH SCHOOL\",\"FRANKLIN DELANO ROOSEVELT HIGH SCHOOL           \",\"HERBERT LEHMAN HIGH SCHOOL\",\"HERBERT LEHMAN HIGH SCHOOL\",\"HERBERT LEHMAN HIGH SCHOOL\",\"HERBERT LEHMAN HIGH SCHOOL\",\"HERBERT LEHMAN HIGH SCHOOL\",\"HERBERT LEHMAN HIGH SCHOOL\",\"HERBERT LEHMAN HIGH SCHOOL                      \",\"HILLCREST HIGH SCHOOL\",\"HILLCREST HIGH SCHOOL\",\"HILLCREST HIGH SCHOOL\",\"HILLCREST HIGH SCHOOL\",\"HILLCREST HIGH SCHOOL                           \",\"JAMES MADISON HIGH SCHOOL\",\"JAMES MADISON HIGH SCHOOL\",\"JAMES MADISON HIGH SCHOOL\",\"JAMES MADISON HIGH SCHOOL\",\"JAMES MADISON HIGH SCHOOL\",\"JAMES MADISON HIGH SCHOOL\",\"JOHN ADAMS HIGH SCHOOL\",\"JOHN ADAMS HIGH SCHOOL\",\"JOHN ADAMS HIGH SCHOOL\",\"JOHN ADAMS HIGH SCHOOL\",\"JOHN ADAMS HIGH SCHOOL                          \",\"JOHN BOWNE HIGH SCHOOL\",\"JOHN BOWNE HIGH SCHOOL\",\"JOHN BOWNE HIGH SCHOOL                          \",\"LONG ISLAND CITY HIGH SCHOOL\",\"LONG ISLAND CITY HIGH SCHOOL\",\"LONG ISLAND CITY HIGH SCHOOL\",\"LONG ISLAND CITY HIGH SCHOOL\",\"LONG ISLAND CITY HIGH SCHOOL\",\"LONG ISLAND CITY HIGH SCHOOL\",\"LONG ISLAND CITY HIGH SCHOOL                    \",\"MARTIN VAN BUREN HIGH SCHOOL\",\"MARTIN VAN BUREN HIGH SCHOOL\",\"MIDWOOD HIGH SCHOOL\",\"MIDWOOD HIGH SCHOOL\",\"MIDWOOD HIGH SCHOOL\",\"MIDWOOD HIGH SCHOOL\",\"MIDWOOD HIGH SCHOOL\",\"MIDWOOD HIGH SCHOOL\",\"MIDWOOD HIGH SCHOOL                             \",\"NEW UTRECHT HIGH SCHOOL\",\"NEW UTRECHT HIGH SCHOOL                         \",\"NEWTOWN HIGH SCHOOL\",\"NEWTOWN HIGH SCHOOL\",\"NEWTOWN HIGH SCHOOL\",\"NEWTOWN HIGH SCHOOL\",\"RICHMOND HILL HIGH SCHOOL\",\"RICHMOND HILL HIGH SCHOOL\",\"RICHMOND HILL HIGH SCHOOL\",\"RICHMOND HILL HIGH SCHOOL\",\"RICHMOND HILL HIGH SCHOOL\",\"SHEEPSHEAD BAY HIGH SCHOOL\",\"STUYVESANT HIGH SCHOOL\",\"STUYVESANT HIGH SCHOOL\",\"STUYVESANT HIGH SCHOOL\",\"STUYVESANT HIGH SCHOOL                          \",\"SUSAN E. WAGNER HIGH SCHOOL\",\"SUSAN E. WAGNER HIGH SCHOOL\",\"SUSAN E. WAGNER HIGH SCHOOL\",\"SUSAN E. WAGNER HIGH SCHOOL\",\"SUSAN E. WAGNER HIGH SCHOOL\",\"SUSAN E. WAGNER HIGH SCHOOL                     \",\"TOTTENVILLE HIGH SCHOOL\",\"TOTTENVILLE HIGH SCHOOL\",\"TOTTENVILLE HIGH SCHOOL\",\"TOTTENVILLE HIGH SCHOOL\",\"TOTTENVILLE HIGH SCHOOL\",\"TOTTENVILLE HIGH SCHOOL\",\"TOTTENVILLE HIGH SCHOOL                         \",\"WILLIAM CULLEN BRYANT HIGH SCHOOL\",\"WILLIAM CULLEN BRYANT HIGH SCHOOL\",\"20052006\",\"20062007\",\"20072008\",\"20082009\",\"20092010\",\"20102011\",\"20112012\"],\"name\":\"\",\"parents\":[\"20052006\",\"20062007\",\"20072008\",\"20082009\",\"20092010\",\"20102011\",\"20112012\",\"20052006\",\"20062007\",\"20072008\",\"20082009\",\"20092010\",\"20102011\",\"20112012\",\"20052006\",\"20062007\",\"20072008\",\"20052006\",\"20062007\",\"20072008\",\"20082009\",\"20092010\",\"20102011\",\"20112012\",\"20052006\",\"20062007\",\"20072008\",\"20082009\",\"20092010\",\"20102011\",\"20112012\",\"20052006\",\"20062007\",\"20072008\",\"20082009\",\"20092010\",\"20102011\",\"20112012\",\"20112012\",\"20052006\",\"20062007\",\"20072008\",\"20082009\",\"20092010\",\"20102011\",\"20112012\",\"20052006\",\"20062007\",\"20072008\",\"20082009\",\"20092010\",\"20102011\",\"20112012\",\"20052006\",\"20062007\",\"20072008\",\"20082009\",\"20092010\",\"20102011\",\"20112012\",\"20052006\",\"20062007\",\"20072008\",\"20082009\",\"20092010\",\"20102011\",\"20112012\",\"20052006\",\"20062007\",\"20072008\",\"20082009\",\"20092010\",\"20102011\",\"20112012\",\"20072008\",\"20082009\",\"20092010\",\"20102011\",\"20112012\",\"20052006\",\"20062007\",\"20072008\",\"20082009\",\"20092010\",\"20102011\",\"20072008\",\"20082009\",\"20092010\",\"20102011\",\"20112012\",\"20092010\",\"20102011\",\"20112012\",\"20052006\",\"20062007\",\"20072008\",\"20082009\",\"20092010\",\"20102011\",\"20112012\",\"20052006\",\"20062007\",\"20052006\",\"20062007\",\"20072008\",\"20082009\",\"20092010\",\"20102011\",\"20112012\",\"20102011\",\"20112012\",\"20052006\",\"20062007\",\"20072008\",\"20082009\",\"20052006\",\"20062007\",\"20072008\",\"20082009\",\"20092010\",\"20052006\",\"20082009\",\"20092010\",\"20102011\",\"20112012\",\"20062007\",\"20072008\",\"20082009\",\"20092010\",\"20102011\",\"20112012\",\"20052006\",\"20062007\",\"20072008\",\"20082009\",\"20092010\",\"20102011\",\"20112012\",\"20052006\",\"20062007\",\"\",\"\",\"\",\"\",\"\",\"\",\"\"],\"values\":[3623,3908,4072,3723,3575,3628,3308,4042,4155,3902,3970,4018,4063,3912,4400,4051,3681,4240,4296,4469,4662,4947,5140,5332,4533,4465,4392,4388,4444,4408,4159,3985,3921,4020,3888,3949,4019,4022,3113,3689,3778,3641,3642,3858,3897,3834,4538,4376,4462,4210,4270,4353,4275,4235,4500,4472,4443,4460,4211,4152,3652,3665,3608,3425,3486,3412,3108,4120,4288,4303,4089,4115,3925,3593,3349,3286,3118,3289,3103,4223,4362,3828,3406,3288,3145,3259,3366,3247,3296,3386,3114,3471,3660,3824,3432,3337,3204,3300,3508,3386,3425,3285,3773,3764,3762,3758,3938,3986,3842,3218,3276,4138,3805,3400,3196,3619,3676,3587,3504,3174,3531,3245,3277,3287,3297,3339,3358,3314,3307,3162,3243,3870,3846,3848,3864,3876,3813,3875,3516,3369,78976,78281,76750,74583,74761,75231,73876],\"type\":\"sunburst\"}],                        {\"template\":{\"data\":{\"histogram2dcontour\":[{\"type\":\"histogram2dcontour\",\"colorbar\":{\"outlinewidth\":0,\"ticks\":\"\"},\"colorscale\":[[0.0,\"#0d0887\"],[0.1111111111111111,\"#46039f\"],[0.2222222222222222,\"#7201a8\"],[0.3333333333333333,\"#9c179e\"],[0.4444444444444444,\"#bd3786\"],[0.5555555555555556,\"#d8576b\"],[0.6666666666666666,\"#ed7953\"],[0.7777777777777778,\"#fb9f3a\"],[0.8888888888888888,\"#fdca26\"],[1.0,\"#f0f921\"]]}],\"choropleth\":[{\"type\":\"choropleth\",\"colorbar\":{\"outlinewidth\":0,\"ticks\":\"\"}}],\"histogram2d\":[{\"type\":\"histogram2d\",\"colorbar\":{\"outlinewidth\":0,\"ticks\":\"\"},\"colorscale\":[[0.0,\"#0d0887\"],[0.1111111111111111,\"#46039f\"],[0.2222222222222222,\"#7201a8\"],[0.3333333333333333,\"#9c179e\"],[0.4444444444444444,\"#bd3786\"],[0.5555555555555556,\"#d8576b\"],[0.6666666666666666,\"#ed7953\"],[0.7777777777777778,\"#fb9f3a\"],[0.8888888888888888,\"#fdca26\"],[1.0,\"#f0f921\"]]}],\"heatmap\":[{\"type\":\"heatmap\",\"colorbar\":{\"outlinewidth\":0,\"ticks\":\"\"},\"colorscale\":[[0.0,\"#0d0887\"],[0.1111111111111111,\"#46039f\"],[0.2222222222222222,\"#7201a8\"],[0.3333333333333333,\"#9c179e\"],[0.4444444444444444,\"#bd3786\"],[0.5555555555555556,\"#d8576b\"],[0.6666666666666666,\"#ed7953\"],[0.7777777777777778,\"#fb9f3a\"],[0.8888888888888888,\"#fdca26\"],[1.0,\"#f0f921\"]]}],\"heatmapgl\":[{\"type\":\"heatmapgl\",\"colorbar\":{\"outlinewidth\":0,\"ticks\":\"\"},\"colorscale\":[[0.0,\"#0d0887\"],[0.1111111111111111,\"#46039f\"],[0.2222222222222222,\"#7201a8\"],[0.3333333333333333,\"#9c179e\"],[0.4444444444444444,\"#bd3786\"],[0.5555555555555556,\"#d8576b\"],[0.6666666666666666,\"#ed7953\"],[0.7777777777777778,\"#fb9f3a\"],[0.8888888888888888,\"#fdca26\"],[1.0,\"#f0f921\"]]}],\"contourcarpet\":[{\"type\":\"contourcarpet\",\"colorbar\":{\"outlinewidth\":0,\"ticks\":\"\"}}],\"contour\":[{\"type\":\"contour\",\"colorbar\":{\"outlinewidth\":0,\"ticks\":\"\"},\"colorscale\":[[0.0,\"#0d0887\"],[0.1111111111111111,\"#46039f\"],[0.2222222222222222,\"#7201a8\"],[0.3333333333333333,\"#9c179e\"],[0.4444444444444444,\"#bd3786\"],[0.5555555555555556,\"#d8576b\"],[0.6666666666666666,\"#ed7953\"],[0.7777777777777778,\"#fb9f3a\"],[0.8888888888888888,\"#fdca26\"],[1.0,\"#f0f921\"]]}],\"surface\":[{\"type\":\"surface\",\"colorbar\":{\"outlinewidth\":0,\"ticks\":\"\"},\"colorscale\":[[0.0,\"#0d0887\"],[0.1111111111111111,\"#46039f\"],[0.2222222222222222,\"#7201a8\"],[0.3333333333333333,\"#9c179e\"],[0.4444444444444444,\"#bd3786\"],[0.5555555555555556,\"#d8576b\"],[0.6666666666666666,\"#ed7953\"],[0.7777777777777778,\"#fb9f3a\"],[0.8888888888888888,\"#fdca26\"],[1.0,\"#f0f921\"]]}],\"mesh3d\":[{\"type\":\"mesh3d\",\"colorbar\":{\"outlinewidth\":0,\"ticks\":\"\"}}],\"scatter\":[{\"fillpattern\":{\"fillmode\":\"overlay\",\"size\":10,\"solidity\":0.2},\"type\":\"scatter\"}],\"parcoords\":[{\"type\":\"parcoords\",\"line\":{\"colorbar\":{\"outlinewidth\":0,\"ticks\":\"\"}}}],\"scatterpolargl\":[{\"type\":\"scatterpolargl\",\"marker\":{\"colorbar\":{\"outlinewidth\":0,\"ticks\":\"\"}}}],\"bar\":[{\"error_x\":{\"color\":\"#2a3f5f\"},\"error_y\":{\"color\":\"#2a3f5f\"},\"marker\":{\"line\":{\"color\":\"#E5ECF6\",\"width\":0.5},\"pattern\":{\"fillmode\":\"overlay\",\"size\":10,\"solidity\":0.2}},\"type\":\"bar\"}],\"scattergeo\":[{\"type\":\"scattergeo\",\"marker\":{\"colorbar\":{\"outlinewidth\":0,\"ticks\":\"\"}}}],\"scatterpolar\":[{\"type\":\"scatterpolar\",\"marker\":{\"colorbar\":{\"outlinewidth\":0,\"ticks\":\"\"}}}],\"histogram\":[{\"marker\":{\"pattern\":{\"fillmode\":\"overlay\",\"size\":10,\"solidity\":0.2}},\"type\":\"histogram\"}],\"scattergl\":[{\"type\":\"scattergl\",\"marker\":{\"colorbar\":{\"outlinewidth\":0,\"ticks\":\"\"}}}],\"scatter3d\":[{\"type\":\"scatter3d\",\"line\":{\"colorbar\":{\"outlinewidth\":0,\"ticks\":\"\"}},\"marker\":{\"colorbar\":{\"outlinewidth\":0,\"ticks\":\"\"}}}],\"scattermapbox\":[{\"type\":\"scattermapbox\",\"marker\":{\"colorbar\":{\"outlinewidth\":0,\"ticks\":\"\"}}}],\"scatterternary\":[{\"type\":\"scatterternary\",\"marker\":{\"colorbar\":{\"outlinewidth\":0,\"ticks\":\"\"}}}],\"scattercarpet\":[{\"type\":\"scattercarpet\",\"marker\":{\"colorbar\":{\"outlinewidth\":0,\"ticks\":\"\"}}}],\"carpet\":[{\"aaxis\":{\"endlinecolor\":\"#2a3f5f\",\"gridcolor\":\"white\",\"linecolor\":\"white\",\"minorgridcolor\":\"white\",\"startlinecolor\":\"#2a3f5f\"},\"baxis\":{\"endlinecolor\":\"#2a3f5f\",\"gridcolor\":\"white\",\"linecolor\":\"white\",\"minorgridcolor\":\"white\",\"startlinecolor\":\"#2a3f5f\"},\"type\":\"carpet\"}],\"table\":[{\"cells\":{\"fill\":{\"color\":\"#EBF0F8\"},\"line\":{\"color\":\"white\"}},\"header\":{\"fill\":{\"color\":\"#C8D4E3\"},\"line\":{\"color\":\"white\"}},\"type\":\"table\"}],\"barpolar\":[{\"marker\":{\"line\":{\"color\":\"#E5ECF6\",\"width\":0.5},\"pattern\":{\"fillmode\":\"overlay\",\"size\":10,\"solidity\":0.2}},\"type\":\"barpolar\"}],\"pie\":[{\"automargin\":true,\"type\":\"pie\"}]},\"layout\":{\"autotypenumbers\":\"strict\",\"colorway\":[\"#636efa\",\"#EF553B\",\"#00cc96\",\"#ab63fa\",\"#FFA15A\",\"#19d3f3\",\"#FF6692\",\"#B6E880\",\"#FF97FF\",\"#FECB52\"],\"font\":{\"color\":\"#2a3f5f\"},\"hovermode\":\"closest\",\"hoverlabel\":{\"align\":\"left\"},\"paper_bgcolor\":\"white\",\"plot_bgcolor\":\"#E5ECF6\",\"polar\":{\"bgcolor\":\"#E5ECF6\",\"angularaxis\":{\"gridcolor\":\"white\",\"linecolor\":\"white\",\"ticks\":\"\"},\"radialaxis\":{\"gridcolor\":\"white\",\"linecolor\":\"white\",\"ticks\":\"\"}},\"ternary\":{\"bgcolor\":\"#E5ECF6\",\"aaxis\":{\"gridcolor\":\"white\",\"linecolor\":\"white\",\"ticks\":\"\"},\"baxis\":{\"gridcolor\":\"white\",\"linecolor\":\"white\",\"ticks\":\"\"},\"caxis\":{\"gridcolor\":\"white\",\"linecolor\":\"white\",\"ticks\":\"\"}},\"coloraxis\":{\"colorbar\":{\"outlinewidth\":0,\"ticks\":\"\"}},\"colorscale\":{\"sequential\":[[0.0,\"#0d0887\"],[0.1111111111111111,\"#46039f\"],[0.2222222222222222,\"#7201a8\"],[0.3333333333333333,\"#9c179e\"],[0.4444444444444444,\"#bd3786\"],[0.5555555555555556,\"#d8576b\"],[0.6666666666666666,\"#ed7953\"],[0.7777777777777778,\"#fb9f3a\"],[0.8888888888888888,\"#fdca26\"],[1.0,\"#f0f921\"]],\"sequentialminus\":[[0.0,\"#0d0887\"],[0.1111111111111111,\"#46039f\"],[0.2222222222222222,\"#7201a8\"],[0.3333333333333333,\"#9c179e\"],[0.4444444444444444,\"#bd3786\"],[0.5555555555555556,\"#d8576b\"],[0.6666666666666666,\"#ed7953\"],[0.7777777777777778,\"#fb9f3a\"],[0.8888888888888888,\"#fdca26\"],[1.0,\"#f0f921\"]],\"diverging\":[[0,\"#8e0152\"],[0.1,\"#c51b7d\"],[0.2,\"#de77ae\"],[0.3,\"#f1b6da\"],[0.4,\"#fde0ef\"],[0.5,\"#f7f7f7\"],[0.6,\"#e6f5d0\"],[0.7,\"#b8e186\"],[0.8,\"#7fbc41\"],[0.9,\"#4d9221\"],[1,\"#276419\"]]},\"xaxis\":{\"gridcolor\":\"white\",\"linecolor\":\"white\",\"ticks\":\"\",\"title\":{\"standoff\":15},\"zerolinecolor\":\"white\",\"automargin\":true,\"zerolinewidth\":2},\"yaxis\":{\"gridcolor\":\"white\",\"linecolor\":\"white\",\"ticks\":\"\",\"title\":{\"standoff\":15},\"zerolinecolor\":\"white\",\"automargin\":true,\"zerolinewidth\":2},\"scene\":{\"xaxis\":{\"backgroundcolor\":\"#E5ECF6\",\"gridcolor\":\"white\",\"linecolor\":\"white\",\"showbackground\":true,\"ticks\":\"\",\"zerolinecolor\":\"white\",\"gridwidth\":2},\"yaxis\":{\"backgroundcolor\":\"#E5ECF6\",\"gridcolor\":\"white\",\"linecolor\":\"white\",\"showbackground\":true,\"ticks\":\"\",\"zerolinecolor\":\"white\",\"gridwidth\":2},\"zaxis\":{\"backgroundcolor\":\"#E5ECF6\",\"gridcolor\":\"white\",\"linecolor\":\"white\",\"showbackground\":true,\"ticks\":\"\",\"zerolinecolor\":\"white\",\"gridwidth\":2}},\"shapedefaults\":{\"line\":{\"color\":\"#2a3f5f\"}},\"annotationdefaults\":{\"arrowcolor\":\"#2a3f5f\",\"arrowhead\":0,\"arrowwidth\":1},\"geo\":{\"bgcolor\":\"white\",\"landcolor\":\"#E5ECF6\",\"subunitcolor\":\"white\",\"showland\":true,\"showlakes\":true,\"lakecolor\":\"white\"},\"title\":{\"x\":0.05},\"mapbox\":{\"style\":\"light\"}}},\"legend\":{\"tracegroupgap\":0},\"margin\":{\"t\":60}},                        {\"responsive\": true}                    ).then(function(){\n",
       "                            \n",
       "var gd = document.getElementById('322a159a-4ec0-469b-a626-cf6192fa4cf8');\n",
       "var x = new MutationObserver(function (mutations, observer) {{\n",
       "        var display = window.getComputedStyle(gd).display;\n",
       "        if (!display || display === 'none') {{\n",
       "            console.log([gd, 'removed!']);\n",
       "            Plotly.purge(gd);\n",
       "            observer.disconnect();\n",
       "        }}\n",
       "}});\n",
       "\n",
       "// Listen for the removal of the full notebook cells\n",
       "var notebookContainer = gd.closest('#notebook-container');\n",
       "if (notebookContainer) {{\n",
       "    x.observe(notebookContainer, {childList: true});\n",
       "}}\n",
       "\n",
       "// Listen for the clearing of the current output cell\n",
       "var outputEl = gd.closest('.output');\n",
       "if (outputEl) {{\n",
       "    x.observe(outputEl, {childList: true});\n",
       "}}\n",
       "\n",
       "                        })                };                });            </script>        </div>"
      ]
     },
     "metadata": {},
     "output_type": "display_data"
    }
   ],
   "source": [
    "import pandas as pd\n",
    "import plotly.express as px\n",
    "\n",
    "all_years_20_schools = pd.DataFrame()  # Initialize an empty DataFrame\n",
    "\n",
    "for i in range(0, len(data['schoolyear'].unique().tolist())):\n",
    "    all_years_20_schools1 = data[data['schoolyear'] == data['schoolyear'].unique().tolist()[i]]\n",
    "    sub_data = all_years_20_schools1.groupby(['schoolyear', 'Name'])['total_enrollment'].agg('sum').to_frame()\n",
    "    sub_data.reset_index(inplace=True)\n",
    "    \n",
    "    sub_data = sub_data.sort_values(by=['total_enrollment'], ascending=False).head(20)\n",
    "    \n",
    "    all_years_20_schools = pd.concat([all_years_20_schools, sub_data], ignore_index=True)\n",
    "\n",
    "fig = px.sunburst(all_years_20_schools, path=['schoolyear', 'Name'], values='total_enrollment')\n",
    "fig.show()"
   ]
  },
  {
   "cell_type": "markdown",
   "metadata": {},
   "source": [
    "Now let's try and visualize how the number of students of different ethnicities progressed over the academic years."
   ]
  },
  {
   "cell_type": "code",
   "execution_count": null,
   "metadata": {},
   "outputs": [],
   "source": []
  },
  {
   "cell_type": "code",
   "execution_count": null,
   "metadata": {},
   "outputs": [],
   "source": []
  },
  {
   "cell_type": "code",
   "execution_count": 100,
   "metadata": {},
   "outputs": [
    {
     "data": {
      "application/vnd.plotly.v1+json": {
       "config": {
        "plotlyServerURL": "https://plot.ly"
       },
       "data": [
        {
         "hovertemplate": "Ethnicity=asian_num<br>schoolyear=%{x}<br>Total Enrollment=%{y}<extra></extra>",
         "legendgroup": "asian_num",
         "line": {
          "color": "#636efa",
          "dash": "solid"
         },
         "marker": {
          "symbol": "circle"
         },
         "mode": "lines",
         "name": "asian_num",
         "orientation": "v",
         "showlegend": true,
         "type": "scatter",
         "x": [
          "20052006",
          "20062007",
          "20072008",
          "20082009",
          "20092010",
          "20102011",
          "20112012"
         ],
         "xaxis": "x",
         "y": [
          18564,
          18923,
          19388,
          21888,
          22698,
          23898,
          23790
         ],
         "yaxis": "y"
        },
        {
         "hovertemplate": "Ethnicity=black_num<br>schoolyear=%{x}<br>Total Enrollment=%{y}<extra></extra>",
         "legendgroup": "black_num",
         "line": {
          "color": "#EF553B",
          "dash": "solid"
         },
         "marker": {
          "symbol": "circle"
         },
         "mode": "lines",
         "name": "black_num",
         "orientation": "v",
         "showlegend": true,
         "type": "scatter",
         "x": [
          "20052006",
          "20062007",
          "20072008",
          "20082009",
          "20092010",
          "20102011",
          "20112012"
         ],
         "xaxis": "x",
         "y": [
          18965,
          16859,
          16598,
          12883,
          12896,
          12229,
          11961
         ],
         "yaxis": "y"
        },
        {
         "hovertemplate": "Ethnicity=hispanic_num<br>schoolyear=%{x}<br>Total Enrollment=%{y}<extra></extra>",
         "legendgroup": "hispanic_num",
         "line": {
          "color": "#00cc96",
          "dash": "solid"
         },
         "marker": {
          "symbol": "circle"
         },
         "mode": "lines",
         "name": "hispanic_num",
         "orientation": "v",
         "showlegend": true,
         "type": "scatter",
         "x": [
          "20052006",
          "20062007",
          "20072008",
          "20082009",
          "20092010",
          "20102011",
          "20112012"
         ],
         "xaxis": "x",
         "y": [
          22265,
          22808,
          22574,
          22040,
          21259,
          20802,
          21278
         ],
         "yaxis": "y"
        },
        {
         "hovertemplate": "Ethnicity=white_num<br>schoolyear=%{x}<br>Total Enrollment=%{y}<extra></extra>",
         "legendgroup": "white_num",
         "line": {
          "color": "#ab63fa",
          "dash": "solid"
         },
         "marker": {
          "symbol": "circle"
         },
         "mode": "lines",
         "name": "white_num",
         "orientation": "v",
         "showlegend": true,
         "type": "scatter",
         "x": [
          "20052006",
          "20062007",
          "20072008",
          "20082009",
          "20092010",
          "20102011",
          "20112012"
         ],
         "xaxis": "x",
         "y": [
          17247,
          17616,
          16728,
          17176,
          16937,
          17941,
          16365
         ],
         "yaxis": "y"
        }
       ],
       "layout": {
        "legend": {
         "title": {
          "text": "Ethnicity"
         },
         "tracegroupgap": 0
        },
        "template": {
         "data": {
          "bar": [
           {
            "error_x": {
             "color": "#2a3f5f"
            },
            "error_y": {
             "color": "#2a3f5f"
            },
            "marker": {
             "line": {
              "color": "#E5ECF6",
              "width": 0.5
             },
             "pattern": {
              "fillmode": "overlay",
              "size": 10,
              "solidity": 0.2
             }
            },
            "type": "bar"
           }
          ],
          "barpolar": [
           {
            "marker": {
             "line": {
              "color": "#E5ECF6",
              "width": 0.5
             },
             "pattern": {
              "fillmode": "overlay",
              "size": 10,
              "solidity": 0.2
             }
            },
            "type": "barpolar"
           }
          ],
          "carpet": [
           {
            "aaxis": {
             "endlinecolor": "#2a3f5f",
             "gridcolor": "white",
             "linecolor": "white",
             "minorgridcolor": "white",
             "startlinecolor": "#2a3f5f"
            },
            "baxis": {
             "endlinecolor": "#2a3f5f",
             "gridcolor": "white",
             "linecolor": "white",
             "minorgridcolor": "white",
             "startlinecolor": "#2a3f5f"
            },
            "type": "carpet"
           }
          ],
          "choropleth": [
           {
            "colorbar": {
             "outlinewidth": 0,
             "ticks": ""
            },
            "type": "choropleth"
           }
          ],
          "contour": [
           {
            "colorbar": {
             "outlinewidth": 0,
             "ticks": ""
            },
            "colorscale": [
             [
              0,
              "#0d0887"
             ],
             [
              0.1111111111111111,
              "#46039f"
             ],
             [
              0.2222222222222222,
              "#7201a8"
             ],
             [
              0.3333333333333333,
              "#9c179e"
             ],
             [
              0.4444444444444444,
              "#bd3786"
             ],
             [
              0.5555555555555556,
              "#d8576b"
             ],
             [
              0.6666666666666666,
              "#ed7953"
             ],
             [
              0.7777777777777778,
              "#fb9f3a"
             ],
             [
              0.8888888888888888,
              "#fdca26"
             ],
             [
              1,
              "#f0f921"
             ]
            ],
            "type": "contour"
           }
          ],
          "contourcarpet": [
           {
            "colorbar": {
             "outlinewidth": 0,
             "ticks": ""
            },
            "type": "contourcarpet"
           }
          ],
          "heatmap": [
           {
            "colorbar": {
             "outlinewidth": 0,
             "ticks": ""
            },
            "colorscale": [
             [
              0,
              "#0d0887"
             ],
             [
              0.1111111111111111,
              "#46039f"
             ],
             [
              0.2222222222222222,
              "#7201a8"
             ],
             [
              0.3333333333333333,
              "#9c179e"
             ],
             [
              0.4444444444444444,
              "#bd3786"
             ],
             [
              0.5555555555555556,
              "#d8576b"
             ],
             [
              0.6666666666666666,
              "#ed7953"
             ],
             [
              0.7777777777777778,
              "#fb9f3a"
             ],
             [
              0.8888888888888888,
              "#fdca26"
             ],
             [
              1,
              "#f0f921"
             ]
            ],
            "type": "heatmap"
           }
          ],
          "heatmapgl": [
           {
            "colorbar": {
             "outlinewidth": 0,
             "ticks": ""
            },
            "colorscale": [
             [
              0,
              "#0d0887"
             ],
             [
              0.1111111111111111,
              "#46039f"
             ],
             [
              0.2222222222222222,
              "#7201a8"
             ],
             [
              0.3333333333333333,
              "#9c179e"
             ],
             [
              0.4444444444444444,
              "#bd3786"
             ],
             [
              0.5555555555555556,
              "#d8576b"
             ],
             [
              0.6666666666666666,
              "#ed7953"
             ],
             [
              0.7777777777777778,
              "#fb9f3a"
             ],
             [
              0.8888888888888888,
              "#fdca26"
             ],
             [
              1,
              "#f0f921"
             ]
            ],
            "type": "heatmapgl"
           }
          ],
          "histogram": [
           {
            "marker": {
             "pattern": {
              "fillmode": "overlay",
              "size": 10,
              "solidity": 0.2
             }
            },
            "type": "histogram"
           }
          ],
          "histogram2d": [
           {
            "colorbar": {
             "outlinewidth": 0,
             "ticks": ""
            },
            "colorscale": [
             [
              0,
              "#0d0887"
             ],
             [
              0.1111111111111111,
              "#46039f"
             ],
             [
              0.2222222222222222,
              "#7201a8"
             ],
             [
              0.3333333333333333,
              "#9c179e"
             ],
             [
              0.4444444444444444,
              "#bd3786"
             ],
             [
              0.5555555555555556,
              "#d8576b"
             ],
             [
              0.6666666666666666,
              "#ed7953"
             ],
             [
              0.7777777777777778,
              "#fb9f3a"
             ],
             [
              0.8888888888888888,
              "#fdca26"
             ],
             [
              1,
              "#f0f921"
             ]
            ],
            "type": "histogram2d"
           }
          ],
          "histogram2dcontour": [
           {
            "colorbar": {
             "outlinewidth": 0,
             "ticks": ""
            },
            "colorscale": [
             [
              0,
              "#0d0887"
             ],
             [
              0.1111111111111111,
              "#46039f"
             ],
             [
              0.2222222222222222,
              "#7201a8"
             ],
             [
              0.3333333333333333,
              "#9c179e"
             ],
             [
              0.4444444444444444,
              "#bd3786"
             ],
             [
              0.5555555555555556,
              "#d8576b"
             ],
             [
              0.6666666666666666,
              "#ed7953"
             ],
             [
              0.7777777777777778,
              "#fb9f3a"
             ],
             [
              0.8888888888888888,
              "#fdca26"
             ],
             [
              1,
              "#f0f921"
             ]
            ],
            "type": "histogram2dcontour"
           }
          ],
          "mesh3d": [
           {
            "colorbar": {
             "outlinewidth": 0,
             "ticks": ""
            },
            "type": "mesh3d"
           }
          ],
          "parcoords": [
           {
            "line": {
             "colorbar": {
              "outlinewidth": 0,
              "ticks": ""
             }
            },
            "type": "parcoords"
           }
          ],
          "pie": [
           {
            "automargin": true,
            "type": "pie"
           }
          ],
          "scatter": [
           {
            "fillpattern": {
             "fillmode": "overlay",
             "size": 10,
             "solidity": 0.2
            },
            "type": "scatter"
           }
          ],
          "scatter3d": [
           {
            "line": {
             "colorbar": {
              "outlinewidth": 0,
              "ticks": ""
             }
            },
            "marker": {
             "colorbar": {
              "outlinewidth": 0,
              "ticks": ""
             }
            },
            "type": "scatter3d"
           }
          ],
          "scattercarpet": [
           {
            "marker": {
             "colorbar": {
              "outlinewidth": 0,
              "ticks": ""
             }
            },
            "type": "scattercarpet"
           }
          ],
          "scattergeo": [
           {
            "marker": {
             "colorbar": {
              "outlinewidth": 0,
              "ticks": ""
             }
            },
            "type": "scattergeo"
           }
          ],
          "scattergl": [
           {
            "marker": {
             "colorbar": {
              "outlinewidth": 0,
              "ticks": ""
             }
            },
            "type": "scattergl"
           }
          ],
          "scattermapbox": [
           {
            "marker": {
             "colorbar": {
              "outlinewidth": 0,
              "ticks": ""
             }
            },
            "type": "scattermapbox"
           }
          ],
          "scatterpolar": [
           {
            "marker": {
             "colorbar": {
              "outlinewidth": 0,
              "ticks": ""
             }
            },
            "type": "scatterpolar"
           }
          ],
          "scatterpolargl": [
           {
            "marker": {
             "colorbar": {
              "outlinewidth": 0,
              "ticks": ""
             }
            },
            "type": "scatterpolargl"
           }
          ],
          "scatterternary": [
           {
            "marker": {
             "colorbar": {
              "outlinewidth": 0,
              "ticks": ""
             }
            },
            "type": "scatterternary"
           }
          ],
          "surface": [
           {
            "colorbar": {
             "outlinewidth": 0,
             "ticks": ""
            },
            "colorscale": [
             [
              0,
              "#0d0887"
             ],
             [
              0.1111111111111111,
              "#46039f"
             ],
             [
              0.2222222222222222,
              "#7201a8"
             ],
             [
              0.3333333333333333,
              "#9c179e"
             ],
             [
              0.4444444444444444,
              "#bd3786"
             ],
             [
              0.5555555555555556,
              "#d8576b"
             ],
             [
              0.6666666666666666,
              "#ed7953"
             ],
             [
              0.7777777777777778,
              "#fb9f3a"
             ],
             [
              0.8888888888888888,
              "#fdca26"
             ],
             [
              1,
              "#f0f921"
             ]
            ],
            "type": "surface"
           }
          ],
          "table": [
           {
            "cells": {
             "fill": {
              "color": "#EBF0F8"
             },
             "line": {
              "color": "white"
             }
            },
            "header": {
             "fill": {
              "color": "#C8D4E3"
             },
             "line": {
              "color": "white"
             }
            },
            "type": "table"
           }
          ]
         },
         "layout": {
          "annotationdefaults": {
           "arrowcolor": "#2a3f5f",
           "arrowhead": 0,
           "arrowwidth": 1
          },
          "autotypenumbers": "strict",
          "coloraxis": {
           "colorbar": {
            "outlinewidth": 0,
            "ticks": ""
           }
          },
          "colorscale": {
           "diverging": [
            [
             0,
             "#8e0152"
            ],
            [
             0.1,
             "#c51b7d"
            ],
            [
             0.2,
             "#de77ae"
            ],
            [
             0.3,
             "#f1b6da"
            ],
            [
             0.4,
             "#fde0ef"
            ],
            [
             0.5,
             "#f7f7f7"
            ],
            [
             0.6,
             "#e6f5d0"
            ],
            [
             0.7,
             "#b8e186"
            ],
            [
             0.8,
             "#7fbc41"
            ],
            [
             0.9,
             "#4d9221"
            ],
            [
             1,
             "#276419"
            ]
           ],
           "sequential": [
            [
             0,
             "#0d0887"
            ],
            [
             0.1111111111111111,
             "#46039f"
            ],
            [
             0.2222222222222222,
             "#7201a8"
            ],
            [
             0.3333333333333333,
             "#9c179e"
            ],
            [
             0.4444444444444444,
             "#bd3786"
            ],
            [
             0.5555555555555556,
             "#d8576b"
            ],
            [
             0.6666666666666666,
             "#ed7953"
            ],
            [
             0.7777777777777778,
             "#fb9f3a"
            ],
            [
             0.8888888888888888,
             "#fdca26"
            ],
            [
             1,
             "#f0f921"
            ]
           ],
           "sequentialminus": [
            [
             0,
             "#0d0887"
            ],
            [
             0.1111111111111111,
             "#46039f"
            ],
            [
             0.2222222222222222,
             "#7201a8"
            ],
            [
             0.3333333333333333,
             "#9c179e"
            ],
            [
             0.4444444444444444,
             "#bd3786"
            ],
            [
             0.5555555555555556,
             "#d8576b"
            ],
            [
             0.6666666666666666,
             "#ed7953"
            ],
            [
             0.7777777777777778,
             "#fb9f3a"
            ],
            [
             0.8888888888888888,
             "#fdca26"
            ],
            [
             1,
             "#f0f921"
            ]
           ]
          },
          "colorway": [
           "#636efa",
           "#EF553B",
           "#00cc96",
           "#ab63fa",
           "#FFA15A",
           "#19d3f3",
           "#FF6692",
           "#B6E880",
           "#FF97FF",
           "#FECB52"
          ],
          "font": {
           "color": "#2a3f5f"
          },
          "geo": {
           "bgcolor": "white",
           "lakecolor": "white",
           "landcolor": "#E5ECF6",
           "showlakes": true,
           "showland": true,
           "subunitcolor": "white"
          },
          "hoverlabel": {
           "align": "left"
          },
          "hovermode": "closest",
          "mapbox": {
           "style": "light"
          },
          "paper_bgcolor": "white",
          "plot_bgcolor": "#E5ECF6",
          "polar": {
           "angularaxis": {
            "gridcolor": "white",
            "linecolor": "white",
            "ticks": ""
           },
           "bgcolor": "#E5ECF6",
           "radialaxis": {
            "gridcolor": "white",
            "linecolor": "white",
            "ticks": ""
           }
          },
          "scene": {
           "xaxis": {
            "backgroundcolor": "#E5ECF6",
            "gridcolor": "white",
            "gridwidth": 2,
            "linecolor": "white",
            "showbackground": true,
            "ticks": "",
            "zerolinecolor": "white"
           },
           "yaxis": {
            "backgroundcolor": "#E5ECF6",
            "gridcolor": "white",
            "gridwidth": 2,
            "linecolor": "white",
            "showbackground": true,
            "ticks": "",
            "zerolinecolor": "white"
           },
           "zaxis": {
            "backgroundcolor": "#E5ECF6",
            "gridcolor": "white",
            "gridwidth": 2,
            "linecolor": "white",
            "showbackground": true,
            "ticks": "",
            "zerolinecolor": "white"
           }
          },
          "shapedefaults": {
           "line": {
            "color": "#2a3f5f"
           }
          },
          "ternary": {
           "aaxis": {
            "gridcolor": "white",
            "linecolor": "white",
            "ticks": ""
           },
           "baxis": {
            "gridcolor": "white",
            "linecolor": "white",
            "ticks": ""
           },
           "bgcolor": "#E5ECF6",
           "caxis": {
            "gridcolor": "white",
            "linecolor": "white",
            "ticks": ""
           }
          },
          "title": {
           "x": 0.05
          },
          "xaxis": {
           "automargin": true,
           "gridcolor": "white",
           "linecolor": "white",
           "ticks": "",
           "title": {
            "standoff": 15
           },
           "zerolinecolor": "white",
           "zerolinewidth": 2
          },
          "yaxis": {
           "automargin": true,
           "gridcolor": "white",
           "linecolor": "white",
           "ticks": "",
           "title": {
            "standoff": 15
           },
           "zerolinecolor": "white",
           "zerolinewidth": 2
          }
         }
        },
        "title": {
         "text": "Progress of Total Enrollments of Different Ethnicities Over Years"
        },
        "xaxis": {
         "anchor": "y",
         "domain": [
          0,
          1
         ],
         "title": {
          "text": "schoolyear"
         }
        },
        "yaxis": {
         "anchor": "x",
         "domain": [
          0,
          1
         ],
         "title": {
          "text": "Total Enrollment"
         }
        }
       }
      },
      "text/html": [
       "<div>                            <div id=\"8d92181b-0acc-4b45-acb4-0a163d5bff79\" class=\"plotly-graph-div\" style=\"height:525px; width:100%;\"></div>            <script type=\"text/javascript\">                require([\"plotly\"], function(Plotly) {                    window.PLOTLYENV=window.PLOTLYENV || {};                                    if (document.getElementById(\"8d92181b-0acc-4b45-acb4-0a163d5bff79\")) {                    Plotly.newPlot(                        \"8d92181b-0acc-4b45-acb4-0a163d5bff79\",                        [{\"hovertemplate\":\"Ethnicity=asian_num<br>schoolyear=%{x}<br>Total Enrollment=%{y}<extra></extra>\",\"legendgroup\":\"asian_num\",\"line\":{\"color\":\"#636efa\",\"dash\":\"solid\"},\"marker\":{\"symbol\":\"circle\"},\"mode\":\"lines\",\"name\":\"asian_num\",\"orientation\":\"v\",\"showlegend\":true,\"x\":[\"20052006\",\"20062007\",\"20072008\",\"20082009\",\"20092010\",\"20102011\",\"20112012\"],\"xaxis\":\"x\",\"y\":[18564,18923,19388,21888,22698,23898,23790],\"yaxis\":\"y\",\"type\":\"scatter\"},{\"hovertemplate\":\"Ethnicity=black_num<br>schoolyear=%{x}<br>Total Enrollment=%{y}<extra></extra>\",\"legendgroup\":\"black_num\",\"line\":{\"color\":\"#EF553B\",\"dash\":\"solid\"},\"marker\":{\"symbol\":\"circle\"},\"mode\":\"lines\",\"name\":\"black_num\",\"orientation\":\"v\",\"showlegend\":true,\"x\":[\"20052006\",\"20062007\",\"20072008\",\"20082009\",\"20092010\",\"20102011\",\"20112012\"],\"xaxis\":\"x\",\"y\":[18965,16859,16598,12883,12896,12229,11961],\"yaxis\":\"y\",\"type\":\"scatter\"},{\"hovertemplate\":\"Ethnicity=hispanic_num<br>schoolyear=%{x}<br>Total Enrollment=%{y}<extra></extra>\",\"legendgroup\":\"hispanic_num\",\"line\":{\"color\":\"#00cc96\",\"dash\":\"solid\"},\"marker\":{\"symbol\":\"circle\"},\"mode\":\"lines\",\"name\":\"hispanic_num\",\"orientation\":\"v\",\"showlegend\":true,\"x\":[\"20052006\",\"20062007\",\"20072008\",\"20082009\",\"20092010\",\"20102011\",\"20112012\"],\"xaxis\":\"x\",\"y\":[22265,22808,22574,22040,21259,20802,21278],\"yaxis\":\"y\",\"type\":\"scatter\"},{\"hovertemplate\":\"Ethnicity=white_num<br>schoolyear=%{x}<br>Total Enrollment=%{y}<extra></extra>\",\"legendgroup\":\"white_num\",\"line\":{\"color\":\"#ab63fa\",\"dash\":\"solid\"},\"marker\":{\"symbol\":\"circle\"},\"mode\":\"lines\",\"name\":\"white_num\",\"orientation\":\"v\",\"showlegend\":true,\"x\":[\"20052006\",\"20062007\",\"20072008\",\"20082009\",\"20092010\",\"20102011\",\"20112012\"],\"xaxis\":\"x\",\"y\":[17247,17616,16728,17176,16937,17941,16365],\"yaxis\":\"y\",\"type\":\"scatter\"}],                        {\"template\":{\"data\":{\"histogram2dcontour\":[{\"type\":\"histogram2dcontour\",\"colorbar\":{\"outlinewidth\":0,\"ticks\":\"\"},\"colorscale\":[[0.0,\"#0d0887\"],[0.1111111111111111,\"#46039f\"],[0.2222222222222222,\"#7201a8\"],[0.3333333333333333,\"#9c179e\"],[0.4444444444444444,\"#bd3786\"],[0.5555555555555556,\"#d8576b\"],[0.6666666666666666,\"#ed7953\"],[0.7777777777777778,\"#fb9f3a\"],[0.8888888888888888,\"#fdca26\"],[1.0,\"#f0f921\"]]}],\"choropleth\":[{\"type\":\"choropleth\",\"colorbar\":{\"outlinewidth\":0,\"ticks\":\"\"}}],\"histogram2d\":[{\"type\":\"histogram2d\",\"colorbar\":{\"outlinewidth\":0,\"ticks\":\"\"},\"colorscale\":[[0.0,\"#0d0887\"],[0.1111111111111111,\"#46039f\"],[0.2222222222222222,\"#7201a8\"],[0.3333333333333333,\"#9c179e\"],[0.4444444444444444,\"#bd3786\"],[0.5555555555555556,\"#d8576b\"],[0.6666666666666666,\"#ed7953\"],[0.7777777777777778,\"#fb9f3a\"],[0.8888888888888888,\"#fdca26\"],[1.0,\"#f0f921\"]]}],\"heatmap\":[{\"type\":\"heatmap\",\"colorbar\":{\"outlinewidth\":0,\"ticks\":\"\"},\"colorscale\":[[0.0,\"#0d0887\"],[0.1111111111111111,\"#46039f\"],[0.2222222222222222,\"#7201a8\"],[0.3333333333333333,\"#9c179e\"],[0.4444444444444444,\"#bd3786\"],[0.5555555555555556,\"#d8576b\"],[0.6666666666666666,\"#ed7953\"],[0.7777777777777778,\"#fb9f3a\"],[0.8888888888888888,\"#fdca26\"],[1.0,\"#f0f921\"]]}],\"heatmapgl\":[{\"type\":\"heatmapgl\",\"colorbar\":{\"outlinewidth\":0,\"ticks\":\"\"},\"colorscale\":[[0.0,\"#0d0887\"],[0.1111111111111111,\"#46039f\"],[0.2222222222222222,\"#7201a8\"],[0.3333333333333333,\"#9c179e\"],[0.4444444444444444,\"#bd3786\"],[0.5555555555555556,\"#d8576b\"],[0.6666666666666666,\"#ed7953\"],[0.7777777777777778,\"#fb9f3a\"],[0.8888888888888888,\"#fdca26\"],[1.0,\"#f0f921\"]]}],\"contourcarpet\":[{\"type\":\"contourcarpet\",\"colorbar\":{\"outlinewidth\":0,\"ticks\":\"\"}}],\"contour\":[{\"type\":\"contour\",\"colorbar\":{\"outlinewidth\":0,\"ticks\":\"\"},\"colorscale\":[[0.0,\"#0d0887\"],[0.1111111111111111,\"#46039f\"],[0.2222222222222222,\"#7201a8\"],[0.3333333333333333,\"#9c179e\"],[0.4444444444444444,\"#bd3786\"],[0.5555555555555556,\"#d8576b\"],[0.6666666666666666,\"#ed7953\"],[0.7777777777777778,\"#fb9f3a\"],[0.8888888888888888,\"#fdca26\"],[1.0,\"#f0f921\"]]}],\"surface\":[{\"type\":\"surface\",\"colorbar\":{\"outlinewidth\":0,\"ticks\":\"\"},\"colorscale\":[[0.0,\"#0d0887\"],[0.1111111111111111,\"#46039f\"],[0.2222222222222222,\"#7201a8\"],[0.3333333333333333,\"#9c179e\"],[0.4444444444444444,\"#bd3786\"],[0.5555555555555556,\"#d8576b\"],[0.6666666666666666,\"#ed7953\"],[0.7777777777777778,\"#fb9f3a\"],[0.8888888888888888,\"#fdca26\"],[1.0,\"#f0f921\"]]}],\"mesh3d\":[{\"type\":\"mesh3d\",\"colorbar\":{\"outlinewidth\":0,\"ticks\":\"\"}}],\"scatter\":[{\"fillpattern\":{\"fillmode\":\"overlay\",\"size\":10,\"solidity\":0.2},\"type\":\"scatter\"}],\"parcoords\":[{\"type\":\"parcoords\",\"line\":{\"colorbar\":{\"outlinewidth\":0,\"ticks\":\"\"}}}],\"scatterpolargl\":[{\"type\":\"scatterpolargl\",\"marker\":{\"colorbar\":{\"outlinewidth\":0,\"ticks\":\"\"}}}],\"bar\":[{\"error_x\":{\"color\":\"#2a3f5f\"},\"error_y\":{\"color\":\"#2a3f5f\"},\"marker\":{\"line\":{\"color\":\"#E5ECF6\",\"width\":0.5},\"pattern\":{\"fillmode\":\"overlay\",\"size\":10,\"solidity\":0.2}},\"type\":\"bar\"}],\"scattergeo\":[{\"type\":\"scattergeo\",\"marker\":{\"colorbar\":{\"outlinewidth\":0,\"ticks\":\"\"}}}],\"scatterpolar\":[{\"type\":\"scatterpolar\",\"marker\":{\"colorbar\":{\"outlinewidth\":0,\"ticks\":\"\"}}}],\"histogram\":[{\"marker\":{\"pattern\":{\"fillmode\":\"overlay\",\"size\":10,\"solidity\":0.2}},\"type\":\"histogram\"}],\"scattergl\":[{\"type\":\"scattergl\",\"marker\":{\"colorbar\":{\"outlinewidth\":0,\"ticks\":\"\"}}}],\"scatter3d\":[{\"type\":\"scatter3d\",\"line\":{\"colorbar\":{\"outlinewidth\":0,\"ticks\":\"\"}},\"marker\":{\"colorbar\":{\"outlinewidth\":0,\"ticks\":\"\"}}}],\"scattermapbox\":[{\"type\":\"scattermapbox\",\"marker\":{\"colorbar\":{\"outlinewidth\":0,\"ticks\":\"\"}}}],\"scatterternary\":[{\"type\":\"scatterternary\",\"marker\":{\"colorbar\":{\"outlinewidth\":0,\"ticks\":\"\"}}}],\"scattercarpet\":[{\"type\":\"scattercarpet\",\"marker\":{\"colorbar\":{\"outlinewidth\":0,\"ticks\":\"\"}}}],\"carpet\":[{\"aaxis\":{\"endlinecolor\":\"#2a3f5f\",\"gridcolor\":\"white\",\"linecolor\":\"white\",\"minorgridcolor\":\"white\",\"startlinecolor\":\"#2a3f5f\"},\"baxis\":{\"endlinecolor\":\"#2a3f5f\",\"gridcolor\":\"white\",\"linecolor\":\"white\",\"minorgridcolor\":\"white\",\"startlinecolor\":\"#2a3f5f\"},\"type\":\"carpet\"}],\"table\":[{\"cells\":{\"fill\":{\"color\":\"#EBF0F8\"},\"line\":{\"color\":\"white\"}},\"header\":{\"fill\":{\"color\":\"#C8D4E3\"},\"line\":{\"color\":\"white\"}},\"type\":\"table\"}],\"barpolar\":[{\"marker\":{\"line\":{\"color\":\"#E5ECF6\",\"width\":0.5},\"pattern\":{\"fillmode\":\"overlay\",\"size\":10,\"solidity\":0.2}},\"type\":\"barpolar\"}],\"pie\":[{\"automargin\":true,\"type\":\"pie\"}]},\"layout\":{\"autotypenumbers\":\"strict\",\"colorway\":[\"#636efa\",\"#EF553B\",\"#00cc96\",\"#ab63fa\",\"#FFA15A\",\"#19d3f3\",\"#FF6692\",\"#B6E880\",\"#FF97FF\",\"#FECB52\"],\"font\":{\"color\":\"#2a3f5f\"},\"hovermode\":\"closest\",\"hoverlabel\":{\"align\":\"left\"},\"paper_bgcolor\":\"white\",\"plot_bgcolor\":\"#E5ECF6\",\"polar\":{\"bgcolor\":\"#E5ECF6\",\"angularaxis\":{\"gridcolor\":\"white\",\"linecolor\":\"white\",\"ticks\":\"\"},\"radialaxis\":{\"gridcolor\":\"white\",\"linecolor\":\"white\",\"ticks\":\"\"}},\"ternary\":{\"bgcolor\":\"#E5ECF6\",\"aaxis\":{\"gridcolor\":\"white\",\"linecolor\":\"white\",\"ticks\":\"\"},\"baxis\":{\"gridcolor\":\"white\",\"linecolor\":\"white\",\"ticks\":\"\"},\"caxis\":{\"gridcolor\":\"white\",\"linecolor\":\"white\",\"ticks\":\"\"}},\"coloraxis\":{\"colorbar\":{\"outlinewidth\":0,\"ticks\":\"\"}},\"colorscale\":{\"sequential\":[[0.0,\"#0d0887\"],[0.1111111111111111,\"#46039f\"],[0.2222222222222222,\"#7201a8\"],[0.3333333333333333,\"#9c179e\"],[0.4444444444444444,\"#bd3786\"],[0.5555555555555556,\"#d8576b\"],[0.6666666666666666,\"#ed7953\"],[0.7777777777777778,\"#fb9f3a\"],[0.8888888888888888,\"#fdca26\"],[1.0,\"#f0f921\"]],\"sequentialminus\":[[0.0,\"#0d0887\"],[0.1111111111111111,\"#46039f\"],[0.2222222222222222,\"#7201a8\"],[0.3333333333333333,\"#9c179e\"],[0.4444444444444444,\"#bd3786\"],[0.5555555555555556,\"#d8576b\"],[0.6666666666666666,\"#ed7953\"],[0.7777777777777778,\"#fb9f3a\"],[0.8888888888888888,\"#fdca26\"],[1.0,\"#f0f921\"]],\"diverging\":[[0,\"#8e0152\"],[0.1,\"#c51b7d\"],[0.2,\"#de77ae\"],[0.3,\"#f1b6da\"],[0.4,\"#fde0ef\"],[0.5,\"#f7f7f7\"],[0.6,\"#e6f5d0\"],[0.7,\"#b8e186\"],[0.8,\"#7fbc41\"],[0.9,\"#4d9221\"],[1,\"#276419\"]]},\"xaxis\":{\"gridcolor\":\"white\",\"linecolor\":\"white\",\"ticks\":\"\",\"title\":{\"standoff\":15},\"zerolinecolor\":\"white\",\"automargin\":true,\"zerolinewidth\":2},\"yaxis\":{\"gridcolor\":\"white\",\"linecolor\":\"white\",\"ticks\":\"\",\"title\":{\"standoff\":15},\"zerolinecolor\":\"white\",\"automargin\":true,\"zerolinewidth\":2},\"scene\":{\"xaxis\":{\"backgroundcolor\":\"#E5ECF6\",\"gridcolor\":\"white\",\"linecolor\":\"white\",\"showbackground\":true,\"ticks\":\"\",\"zerolinecolor\":\"white\",\"gridwidth\":2},\"yaxis\":{\"backgroundcolor\":\"#E5ECF6\",\"gridcolor\":\"white\",\"linecolor\":\"white\",\"showbackground\":true,\"ticks\":\"\",\"zerolinecolor\":\"white\",\"gridwidth\":2},\"zaxis\":{\"backgroundcolor\":\"#E5ECF6\",\"gridcolor\":\"white\",\"linecolor\":\"white\",\"showbackground\":true,\"ticks\":\"\",\"zerolinecolor\":\"white\",\"gridwidth\":2}},\"shapedefaults\":{\"line\":{\"color\":\"#2a3f5f\"}},\"annotationdefaults\":{\"arrowcolor\":\"#2a3f5f\",\"arrowhead\":0,\"arrowwidth\":1},\"geo\":{\"bgcolor\":\"white\",\"landcolor\":\"#E5ECF6\",\"subunitcolor\":\"white\",\"showland\":true,\"showlakes\":true,\"lakecolor\":\"white\"},\"title\":{\"x\":0.05},\"mapbox\":{\"style\":\"light\"}}},\"xaxis\":{\"anchor\":\"y\",\"domain\":[0.0,1.0],\"title\":{\"text\":\"schoolyear\"}},\"yaxis\":{\"anchor\":\"x\",\"domain\":[0.0,1.0],\"title\":{\"text\":\"Total Enrollment\"}},\"legend\":{\"title\":{\"text\":\"Ethnicity\"},\"tracegroupgap\":0},\"title\":{\"text\":\"Progress of Total Enrollments of Different Ethnicities Over Years\"}},                        {\"responsive\": true}                    ).then(function(){\n",
       "                            \n",
       "var gd = document.getElementById('8d92181b-0acc-4b45-acb4-0a163d5bff79');\n",
       "var x = new MutationObserver(function (mutations, observer) {{\n",
       "        var display = window.getComputedStyle(gd).display;\n",
       "        if (!display || display === 'none') {{\n",
       "            console.log([gd, 'removed!']);\n",
       "            Plotly.purge(gd);\n",
       "            observer.disconnect();\n",
       "        }}\n",
       "}});\n",
       "\n",
       "// Listen for the removal of the full notebook cells\n",
       "var notebookContainer = gd.closest('#notebook-container');\n",
       "if (notebookContainer) {{\n",
       "    x.observe(notebookContainer, {childList: true});\n",
       "}}\n",
       "\n",
       "// Listen for the clearing of the current output cell\n",
       "var outputEl = gd.closest('.output');\n",
       "if (outputEl) {{\n",
       "    x.observe(outputEl, {childList: true});\n",
       "}}\n",
       "\n",
       "                        })                };                });            </script>        </div>"
      ]
     },
     "metadata": {},
     "output_type": "display_data"
    }
   ],
   "source": [
    "import pandas as pd\n",
    "import plotly.express as px\n",
    "\n",
    "# Assuming data is the first dataset and all_years_20_schools is the second dataset\n",
    "\n",
    "# Convert relevant columns in the first dataset to numeric\n",
    "numeric_columns = ['asian_num', 'black_num', 'hispanic_num', 'white_num', 'male_num', 'female_num']\n",
    "data[numeric_columns] = data[numeric_columns].apply(pd.to_numeric, errors='coerce')\n",
    "\n",
    "# Merge datasets\n",
    "merged_data = pd.merge(data, all_years_20_schools, on=['schoolyear', 'Name'])\n",
    "\n",
    "# Group by schoolyear and sum enrollments for each ethnicity\n",
    "ethnicity_totals = merged_data.groupby('schoolyear')[['asian_num', 'black_num', 'hispanic_num', 'white_num']].sum().reset_index()\n",
    "\n",
    "# Plot line graph\n",
    "fig = px.line(ethnicity_totals, x='schoolyear', y=['asian_num', 'black_num', 'hispanic_num', 'white_num'],\n",
    "              labels={'variable': 'Ethnicity', 'value': 'Total Enrollment'},\n",
    "              title='Progress of Total Enrollments of Different Ethnicities Over Years')\n",
    "fig.show()"
   ]
  },
  {
   "cell_type": "markdown",
   "metadata": {},
   "source": [
    "Taking into consideration the 20 most populated schools over the academic years, the enrollment of black students seems to be decreasing elaborately while the students of Asian ethnicity are being enrolled at a growing rate. "
   ]
  },
  {
   "cell_type": "markdown",
   "metadata": {},
   "source": [
    "Moving on to visualizing the rate of enrollment of boys and girls in the 20 most populated schools over the years:"
   ]
  },
  {
   "cell_type": "code",
   "execution_count": 99,
   "metadata": {},
   "outputs": [
    {
     "data": {
      "application/vnd.plotly.v1+json": {
       "config": {
        "plotlyServerURL": "https://plot.ly"
       },
       "data": [
        {
         "hovertemplate": "Gender=male_num<br>schoolyear=%{x}<br>Total Enrollment=%{y}<extra></extra>",
         "legendgroup": "male_num",
         "line": {
          "color": "#636efa",
          "dash": "solid"
         },
         "marker": {
          "symbol": "circle"
         },
         "mode": "lines",
         "name": "male_num",
         "orientation": "v",
         "showlegend": true,
         "type": "scatter",
         "x": [
          "20052006",
          "20062007",
          "20072008",
          "20082009",
          "20092010",
          "20102011",
          "20112012"
         ],
         "xaxis": "x",
         "y": [
          40308,
          40218,
          39351,
          38341,
          38173,
          38797,
          38365
         ],
         "yaxis": "y"
        },
        {
         "hovertemplate": "Gender=female_num<br>schoolyear=%{x}<br>Total Enrollment=%{y}<extra></extra>",
         "legendgroup": "female_num",
         "line": {
          "color": "#EF553B",
          "dash": "solid"
         },
         "marker": {
          "symbol": "circle"
         },
         "mode": "lines",
         "name": "female_num",
         "orientation": "v",
         "showlegend": true,
         "type": "scatter",
         "x": [
          "20052006",
          "20062007",
          "20072008",
          "20082009",
          "20092010",
          "20102011",
          "20112012"
         ],
         "xaxis": "x",
         "y": [
          38668,
          38063,
          37399,
          36242,
          36588,
          36434,
          35511
         ],
         "yaxis": "y"
        }
       ],
       "layout": {
        "legend": {
         "title": {
          "text": "Gender"
         },
         "tracegroupgap": 0
        },
        "template": {
         "data": {
          "bar": [
           {
            "error_x": {
             "color": "#2a3f5f"
            },
            "error_y": {
             "color": "#2a3f5f"
            },
            "marker": {
             "line": {
              "color": "#E5ECF6",
              "width": 0.5
             },
             "pattern": {
              "fillmode": "overlay",
              "size": 10,
              "solidity": 0.2
             }
            },
            "type": "bar"
           }
          ],
          "barpolar": [
           {
            "marker": {
             "line": {
              "color": "#E5ECF6",
              "width": 0.5
             },
             "pattern": {
              "fillmode": "overlay",
              "size": 10,
              "solidity": 0.2
             }
            },
            "type": "barpolar"
           }
          ],
          "carpet": [
           {
            "aaxis": {
             "endlinecolor": "#2a3f5f",
             "gridcolor": "white",
             "linecolor": "white",
             "minorgridcolor": "white",
             "startlinecolor": "#2a3f5f"
            },
            "baxis": {
             "endlinecolor": "#2a3f5f",
             "gridcolor": "white",
             "linecolor": "white",
             "minorgridcolor": "white",
             "startlinecolor": "#2a3f5f"
            },
            "type": "carpet"
           }
          ],
          "choropleth": [
           {
            "colorbar": {
             "outlinewidth": 0,
             "ticks": ""
            },
            "type": "choropleth"
           }
          ],
          "contour": [
           {
            "colorbar": {
             "outlinewidth": 0,
             "ticks": ""
            },
            "colorscale": [
             [
              0,
              "#0d0887"
             ],
             [
              0.1111111111111111,
              "#46039f"
             ],
             [
              0.2222222222222222,
              "#7201a8"
             ],
             [
              0.3333333333333333,
              "#9c179e"
             ],
             [
              0.4444444444444444,
              "#bd3786"
             ],
             [
              0.5555555555555556,
              "#d8576b"
             ],
             [
              0.6666666666666666,
              "#ed7953"
             ],
             [
              0.7777777777777778,
              "#fb9f3a"
             ],
             [
              0.8888888888888888,
              "#fdca26"
             ],
             [
              1,
              "#f0f921"
             ]
            ],
            "type": "contour"
           }
          ],
          "contourcarpet": [
           {
            "colorbar": {
             "outlinewidth": 0,
             "ticks": ""
            },
            "type": "contourcarpet"
           }
          ],
          "heatmap": [
           {
            "colorbar": {
             "outlinewidth": 0,
             "ticks": ""
            },
            "colorscale": [
             [
              0,
              "#0d0887"
             ],
             [
              0.1111111111111111,
              "#46039f"
             ],
             [
              0.2222222222222222,
              "#7201a8"
             ],
             [
              0.3333333333333333,
              "#9c179e"
             ],
             [
              0.4444444444444444,
              "#bd3786"
             ],
             [
              0.5555555555555556,
              "#d8576b"
             ],
             [
              0.6666666666666666,
              "#ed7953"
             ],
             [
              0.7777777777777778,
              "#fb9f3a"
             ],
             [
              0.8888888888888888,
              "#fdca26"
             ],
             [
              1,
              "#f0f921"
             ]
            ],
            "type": "heatmap"
           }
          ],
          "heatmapgl": [
           {
            "colorbar": {
             "outlinewidth": 0,
             "ticks": ""
            },
            "colorscale": [
             [
              0,
              "#0d0887"
             ],
             [
              0.1111111111111111,
              "#46039f"
             ],
             [
              0.2222222222222222,
              "#7201a8"
             ],
             [
              0.3333333333333333,
              "#9c179e"
             ],
             [
              0.4444444444444444,
              "#bd3786"
             ],
             [
              0.5555555555555556,
              "#d8576b"
             ],
             [
              0.6666666666666666,
              "#ed7953"
             ],
             [
              0.7777777777777778,
              "#fb9f3a"
             ],
             [
              0.8888888888888888,
              "#fdca26"
             ],
             [
              1,
              "#f0f921"
             ]
            ],
            "type": "heatmapgl"
           }
          ],
          "histogram": [
           {
            "marker": {
             "pattern": {
              "fillmode": "overlay",
              "size": 10,
              "solidity": 0.2
             }
            },
            "type": "histogram"
           }
          ],
          "histogram2d": [
           {
            "colorbar": {
             "outlinewidth": 0,
             "ticks": ""
            },
            "colorscale": [
             [
              0,
              "#0d0887"
             ],
             [
              0.1111111111111111,
              "#46039f"
             ],
             [
              0.2222222222222222,
              "#7201a8"
             ],
             [
              0.3333333333333333,
              "#9c179e"
             ],
             [
              0.4444444444444444,
              "#bd3786"
             ],
             [
              0.5555555555555556,
              "#d8576b"
             ],
             [
              0.6666666666666666,
              "#ed7953"
             ],
             [
              0.7777777777777778,
              "#fb9f3a"
             ],
             [
              0.8888888888888888,
              "#fdca26"
             ],
             [
              1,
              "#f0f921"
             ]
            ],
            "type": "histogram2d"
           }
          ],
          "histogram2dcontour": [
           {
            "colorbar": {
             "outlinewidth": 0,
             "ticks": ""
            },
            "colorscale": [
             [
              0,
              "#0d0887"
             ],
             [
              0.1111111111111111,
              "#46039f"
             ],
             [
              0.2222222222222222,
              "#7201a8"
             ],
             [
              0.3333333333333333,
              "#9c179e"
             ],
             [
              0.4444444444444444,
              "#bd3786"
             ],
             [
              0.5555555555555556,
              "#d8576b"
             ],
             [
              0.6666666666666666,
              "#ed7953"
             ],
             [
              0.7777777777777778,
              "#fb9f3a"
             ],
             [
              0.8888888888888888,
              "#fdca26"
             ],
             [
              1,
              "#f0f921"
             ]
            ],
            "type": "histogram2dcontour"
           }
          ],
          "mesh3d": [
           {
            "colorbar": {
             "outlinewidth": 0,
             "ticks": ""
            },
            "type": "mesh3d"
           }
          ],
          "parcoords": [
           {
            "line": {
             "colorbar": {
              "outlinewidth": 0,
              "ticks": ""
             }
            },
            "type": "parcoords"
           }
          ],
          "pie": [
           {
            "automargin": true,
            "type": "pie"
           }
          ],
          "scatter": [
           {
            "fillpattern": {
             "fillmode": "overlay",
             "size": 10,
             "solidity": 0.2
            },
            "type": "scatter"
           }
          ],
          "scatter3d": [
           {
            "line": {
             "colorbar": {
              "outlinewidth": 0,
              "ticks": ""
             }
            },
            "marker": {
             "colorbar": {
              "outlinewidth": 0,
              "ticks": ""
             }
            },
            "type": "scatter3d"
           }
          ],
          "scattercarpet": [
           {
            "marker": {
             "colorbar": {
              "outlinewidth": 0,
              "ticks": ""
             }
            },
            "type": "scattercarpet"
           }
          ],
          "scattergeo": [
           {
            "marker": {
             "colorbar": {
              "outlinewidth": 0,
              "ticks": ""
             }
            },
            "type": "scattergeo"
           }
          ],
          "scattergl": [
           {
            "marker": {
             "colorbar": {
              "outlinewidth": 0,
              "ticks": ""
             }
            },
            "type": "scattergl"
           }
          ],
          "scattermapbox": [
           {
            "marker": {
             "colorbar": {
              "outlinewidth": 0,
              "ticks": ""
             }
            },
            "type": "scattermapbox"
           }
          ],
          "scatterpolar": [
           {
            "marker": {
             "colorbar": {
              "outlinewidth": 0,
              "ticks": ""
             }
            },
            "type": "scatterpolar"
           }
          ],
          "scatterpolargl": [
           {
            "marker": {
             "colorbar": {
              "outlinewidth": 0,
              "ticks": ""
             }
            },
            "type": "scatterpolargl"
           }
          ],
          "scatterternary": [
           {
            "marker": {
             "colorbar": {
              "outlinewidth": 0,
              "ticks": ""
             }
            },
            "type": "scatterternary"
           }
          ],
          "surface": [
           {
            "colorbar": {
             "outlinewidth": 0,
             "ticks": ""
            },
            "colorscale": [
             [
              0,
              "#0d0887"
             ],
             [
              0.1111111111111111,
              "#46039f"
             ],
             [
              0.2222222222222222,
              "#7201a8"
             ],
             [
              0.3333333333333333,
              "#9c179e"
             ],
             [
              0.4444444444444444,
              "#bd3786"
             ],
             [
              0.5555555555555556,
              "#d8576b"
             ],
             [
              0.6666666666666666,
              "#ed7953"
             ],
             [
              0.7777777777777778,
              "#fb9f3a"
             ],
             [
              0.8888888888888888,
              "#fdca26"
             ],
             [
              1,
              "#f0f921"
             ]
            ],
            "type": "surface"
           }
          ],
          "table": [
           {
            "cells": {
             "fill": {
              "color": "#EBF0F8"
             },
             "line": {
              "color": "white"
             }
            },
            "header": {
             "fill": {
              "color": "#C8D4E3"
             },
             "line": {
              "color": "white"
             }
            },
            "type": "table"
           }
          ]
         },
         "layout": {
          "annotationdefaults": {
           "arrowcolor": "#2a3f5f",
           "arrowhead": 0,
           "arrowwidth": 1
          },
          "autotypenumbers": "strict",
          "coloraxis": {
           "colorbar": {
            "outlinewidth": 0,
            "ticks": ""
           }
          },
          "colorscale": {
           "diverging": [
            [
             0,
             "#8e0152"
            ],
            [
             0.1,
             "#c51b7d"
            ],
            [
             0.2,
             "#de77ae"
            ],
            [
             0.3,
             "#f1b6da"
            ],
            [
             0.4,
             "#fde0ef"
            ],
            [
             0.5,
             "#f7f7f7"
            ],
            [
             0.6,
             "#e6f5d0"
            ],
            [
             0.7,
             "#b8e186"
            ],
            [
             0.8,
             "#7fbc41"
            ],
            [
             0.9,
             "#4d9221"
            ],
            [
             1,
             "#276419"
            ]
           ],
           "sequential": [
            [
             0,
             "#0d0887"
            ],
            [
             0.1111111111111111,
             "#46039f"
            ],
            [
             0.2222222222222222,
             "#7201a8"
            ],
            [
             0.3333333333333333,
             "#9c179e"
            ],
            [
             0.4444444444444444,
             "#bd3786"
            ],
            [
             0.5555555555555556,
             "#d8576b"
            ],
            [
             0.6666666666666666,
             "#ed7953"
            ],
            [
             0.7777777777777778,
             "#fb9f3a"
            ],
            [
             0.8888888888888888,
             "#fdca26"
            ],
            [
             1,
             "#f0f921"
            ]
           ],
           "sequentialminus": [
            [
             0,
             "#0d0887"
            ],
            [
             0.1111111111111111,
             "#46039f"
            ],
            [
             0.2222222222222222,
             "#7201a8"
            ],
            [
             0.3333333333333333,
             "#9c179e"
            ],
            [
             0.4444444444444444,
             "#bd3786"
            ],
            [
             0.5555555555555556,
             "#d8576b"
            ],
            [
             0.6666666666666666,
             "#ed7953"
            ],
            [
             0.7777777777777778,
             "#fb9f3a"
            ],
            [
             0.8888888888888888,
             "#fdca26"
            ],
            [
             1,
             "#f0f921"
            ]
           ]
          },
          "colorway": [
           "#636efa",
           "#EF553B",
           "#00cc96",
           "#ab63fa",
           "#FFA15A",
           "#19d3f3",
           "#FF6692",
           "#B6E880",
           "#FF97FF",
           "#FECB52"
          ],
          "font": {
           "color": "#2a3f5f"
          },
          "geo": {
           "bgcolor": "white",
           "lakecolor": "white",
           "landcolor": "#E5ECF6",
           "showlakes": true,
           "showland": true,
           "subunitcolor": "white"
          },
          "hoverlabel": {
           "align": "left"
          },
          "hovermode": "closest",
          "mapbox": {
           "style": "light"
          },
          "paper_bgcolor": "white",
          "plot_bgcolor": "#E5ECF6",
          "polar": {
           "angularaxis": {
            "gridcolor": "white",
            "linecolor": "white",
            "ticks": ""
           },
           "bgcolor": "#E5ECF6",
           "radialaxis": {
            "gridcolor": "white",
            "linecolor": "white",
            "ticks": ""
           }
          },
          "scene": {
           "xaxis": {
            "backgroundcolor": "#E5ECF6",
            "gridcolor": "white",
            "gridwidth": 2,
            "linecolor": "white",
            "showbackground": true,
            "ticks": "",
            "zerolinecolor": "white"
           },
           "yaxis": {
            "backgroundcolor": "#E5ECF6",
            "gridcolor": "white",
            "gridwidth": 2,
            "linecolor": "white",
            "showbackground": true,
            "ticks": "",
            "zerolinecolor": "white"
           },
           "zaxis": {
            "backgroundcolor": "#E5ECF6",
            "gridcolor": "white",
            "gridwidth": 2,
            "linecolor": "white",
            "showbackground": true,
            "ticks": "",
            "zerolinecolor": "white"
           }
          },
          "shapedefaults": {
           "line": {
            "color": "#2a3f5f"
           }
          },
          "ternary": {
           "aaxis": {
            "gridcolor": "white",
            "linecolor": "white",
            "ticks": ""
           },
           "baxis": {
            "gridcolor": "white",
            "linecolor": "white",
            "ticks": ""
           },
           "bgcolor": "#E5ECF6",
           "caxis": {
            "gridcolor": "white",
            "linecolor": "white",
            "ticks": ""
           }
          },
          "title": {
           "x": 0.05
          },
          "xaxis": {
           "automargin": true,
           "gridcolor": "white",
           "linecolor": "white",
           "ticks": "",
           "title": {
            "standoff": 15
           },
           "zerolinecolor": "white",
           "zerolinewidth": 2
          },
          "yaxis": {
           "automargin": true,
           "gridcolor": "white",
           "linecolor": "white",
           "ticks": "",
           "title": {
            "standoff": 15
           },
           "zerolinecolor": "white",
           "zerolinewidth": 2
          }
         }
        },
        "title": {
         "text": "Progress of Total Enrollments for Boys and Girls Over Years"
        },
        "xaxis": {
         "anchor": "y",
         "domain": [
          0,
          1
         ],
         "title": {
          "text": "schoolyear"
         }
        },
        "yaxis": {
         "anchor": "x",
         "domain": [
          0,
          1
         ],
         "title": {
          "text": "Total Enrollment"
         }
        }
       }
      },
      "text/html": [
       "<div>                            <div id=\"e753db6f-4fcf-4161-ac4b-cf8804725f8a\" class=\"plotly-graph-div\" style=\"height:525px; width:100%;\"></div>            <script type=\"text/javascript\">                require([\"plotly\"], function(Plotly) {                    window.PLOTLYENV=window.PLOTLYENV || {};                                    if (document.getElementById(\"e753db6f-4fcf-4161-ac4b-cf8804725f8a\")) {                    Plotly.newPlot(                        \"e753db6f-4fcf-4161-ac4b-cf8804725f8a\",                        [{\"hovertemplate\":\"Gender=male_num<br>schoolyear=%{x}<br>Total Enrollment=%{y}<extra></extra>\",\"legendgroup\":\"male_num\",\"line\":{\"color\":\"#636efa\",\"dash\":\"solid\"},\"marker\":{\"symbol\":\"circle\"},\"mode\":\"lines\",\"name\":\"male_num\",\"orientation\":\"v\",\"showlegend\":true,\"x\":[\"20052006\",\"20062007\",\"20072008\",\"20082009\",\"20092010\",\"20102011\",\"20112012\"],\"xaxis\":\"x\",\"y\":[40308.0,40218.0,39351.0,38341.0,38173.0,38797.0,38365.0],\"yaxis\":\"y\",\"type\":\"scatter\"},{\"hovertemplate\":\"Gender=female_num<br>schoolyear=%{x}<br>Total Enrollment=%{y}<extra></extra>\",\"legendgroup\":\"female_num\",\"line\":{\"color\":\"#EF553B\",\"dash\":\"solid\"},\"marker\":{\"symbol\":\"circle\"},\"mode\":\"lines\",\"name\":\"female_num\",\"orientation\":\"v\",\"showlegend\":true,\"x\":[\"20052006\",\"20062007\",\"20072008\",\"20082009\",\"20092010\",\"20102011\",\"20112012\"],\"xaxis\":\"x\",\"y\":[38668.0,38063.0,37399.0,36242.0,36588.0,36434.0,35511.0],\"yaxis\":\"y\",\"type\":\"scatter\"}],                        {\"template\":{\"data\":{\"histogram2dcontour\":[{\"type\":\"histogram2dcontour\",\"colorbar\":{\"outlinewidth\":0,\"ticks\":\"\"},\"colorscale\":[[0.0,\"#0d0887\"],[0.1111111111111111,\"#46039f\"],[0.2222222222222222,\"#7201a8\"],[0.3333333333333333,\"#9c179e\"],[0.4444444444444444,\"#bd3786\"],[0.5555555555555556,\"#d8576b\"],[0.6666666666666666,\"#ed7953\"],[0.7777777777777778,\"#fb9f3a\"],[0.8888888888888888,\"#fdca26\"],[1.0,\"#f0f921\"]]}],\"choropleth\":[{\"type\":\"choropleth\",\"colorbar\":{\"outlinewidth\":0,\"ticks\":\"\"}}],\"histogram2d\":[{\"type\":\"histogram2d\",\"colorbar\":{\"outlinewidth\":0,\"ticks\":\"\"},\"colorscale\":[[0.0,\"#0d0887\"],[0.1111111111111111,\"#46039f\"],[0.2222222222222222,\"#7201a8\"],[0.3333333333333333,\"#9c179e\"],[0.4444444444444444,\"#bd3786\"],[0.5555555555555556,\"#d8576b\"],[0.6666666666666666,\"#ed7953\"],[0.7777777777777778,\"#fb9f3a\"],[0.8888888888888888,\"#fdca26\"],[1.0,\"#f0f921\"]]}],\"heatmap\":[{\"type\":\"heatmap\",\"colorbar\":{\"outlinewidth\":0,\"ticks\":\"\"},\"colorscale\":[[0.0,\"#0d0887\"],[0.1111111111111111,\"#46039f\"],[0.2222222222222222,\"#7201a8\"],[0.3333333333333333,\"#9c179e\"],[0.4444444444444444,\"#bd3786\"],[0.5555555555555556,\"#d8576b\"],[0.6666666666666666,\"#ed7953\"],[0.7777777777777778,\"#fb9f3a\"],[0.8888888888888888,\"#fdca26\"],[1.0,\"#f0f921\"]]}],\"heatmapgl\":[{\"type\":\"heatmapgl\",\"colorbar\":{\"outlinewidth\":0,\"ticks\":\"\"},\"colorscale\":[[0.0,\"#0d0887\"],[0.1111111111111111,\"#46039f\"],[0.2222222222222222,\"#7201a8\"],[0.3333333333333333,\"#9c179e\"],[0.4444444444444444,\"#bd3786\"],[0.5555555555555556,\"#d8576b\"],[0.6666666666666666,\"#ed7953\"],[0.7777777777777778,\"#fb9f3a\"],[0.8888888888888888,\"#fdca26\"],[1.0,\"#f0f921\"]]}],\"contourcarpet\":[{\"type\":\"contourcarpet\",\"colorbar\":{\"outlinewidth\":0,\"ticks\":\"\"}}],\"contour\":[{\"type\":\"contour\",\"colorbar\":{\"outlinewidth\":0,\"ticks\":\"\"},\"colorscale\":[[0.0,\"#0d0887\"],[0.1111111111111111,\"#46039f\"],[0.2222222222222222,\"#7201a8\"],[0.3333333333333333,\"#9c179e\"],[0.4444444444444444,\"#bd3786\"],[0.5555555555555556,\"#d8576b\"],[0.6666666666666666,\"#ed7953\"],[0.7777777777777778,\"#fb9f3a\"],[0.8888888888888888,\"#fdca26\"],[1.0,\"#f0f921\"]]}],\"surface\":[{\"type\":\"surface\",\"colorbar\":{\"outlinewidth\":0,\"ticks\":\"\"},\"colorscale\":[[0.0,\"#0d0887\"],[0.1111111111111111,\"#46039f\"],[0.2222222222222222,\"#7201a8\"],[0.3333333333333333,\"#9c179e\"],[0.4444444444444444,\"#bd3786\"],[0.5555555555555556,\"#d8576b\"],[0.6666666666666666,\"#ed7953\"],[0.7777777777777778,\"#fb9f3a\"],[0.8888888888888888,\"#fdca26\"],[1.0,\"#f0f921\"]]}],\"mesh3d\":[{\"type\":\"mesh3d\",\"colorbar\":{\"outlinewidth\":0,\"ticks\":\"\"}}],\"scatter\":[{\"fillpattern\":{\"fillmode\":\"overlay\",\"size\":10,\"solidity\":0.2},\"type\":\"scatter\"}],\"parcoords\":[{\"type\":\"parcoords\",\"line\":{\"colorbar\":{\"outlinewidth\":0,\"ticks\":\"\"}}}],\"scatterpolargl\":[{\"type\":\"scatterpolargl\",\"marker\":{\"colorbar\":{\"outlinewidth\":0,\"ticks\":\"\"}}}],\"bar\":[{\"error_x\":{\"color\":\"#2a3f5f\"},\"error_y\":{\"color\":\"#2a3f5f\"},\"marker\":{\"line\":{\"color\":\"#E5ECF6\",\"width\":0.5},\"pattern\":{\"fillmode\":\"overlay\",\"size\":10,\"solidity\":0.2}},\"type\":\"bar\"}],\"scattergeo\":[{\"type\":\"scattergeo\",\"marker\":{\"colorbar\":{\"outlinewidth\":0,\"ticks\":\"\"}}}],\"scatterpolar\":[{\"type\":\"scatterpolar\",\"marker\":{\"colorbar\":{\"outlinewidth\":0,\"ticks\":\"\"}}}],\"histogram\":[{\"marker\":{\"pattern\":{\"fillmode\":\"overlay\",\"size\":10,\"solidity\":0.2}},\"type\":\"histogram\"}],\"scattergl\":[{\"type\":\"scattergl\",\"marker\":{\"colorbar\":{\"outlinewidth\":0,\"ticks\":\"\"}}}],\"scatter3d\":[{\"type\":\"scatter3d\",\"line\":{\"colorbar\":{\"outlinewidth\":0,\"ticks\":\"\"}},\"marker\":{\"colorbar\":{\"outlinewidth\":0,\"ticks\":\"\"}}}],\"scattermapbox\":[{\"type\":\"scattermapbox\",\"marker\":{\"colorbar\":{\"outlinewidth\":0,\"ticks\":\"\"}}}],\"scatterternary\":[{\"type\":\"scatterternary\",\"marker\":{\"colorbar\":{\"outlinewidth\":0,\"ticks\":\"\"}}}],\"scattercarpet\":[{\"type\":\"scattercarpet\",\"marker\":{\"colorbar\":{\"outlinewidth\":0,\"ticks\":\"\"}}}],\"carpet\":[{\"aaxis\":{\"endlinecolor\":\"#2a3f5f\",\"gridcolor\":\"white\",\"linecolor\":\"white\",\"minorgridcolor\":\"white\",\"startlinecolor\":\"#2a3f5f\"},\"baxis\":{\"endlinecolor\":\"#2a3f5f\",\"gridcolor\":\"white\",\"linecolor\":\"white\",\"minorgridcolor\":\"white\",\"startlinecolor\":\"#2a3f5f\"},\"type\":\"carpet\"}],\"table\":[{\"cells\":{\"fill\":{\"color\":\"#EBF0F8\"},\"line\":{\"color\":\"white\"}},\"header\":{\"fill\":{\"color\":\"#C8D4E3\"},\"line\":{\"color\":\"white\"}},\"type\":\"table\"}],\"barpolar\":[{\"marker\":{\"line\":{\"color\":\"#E5ECF6\",\"width\":0.5},\"pattern\":{\"fillmode\":\"overlay\",\"size\":10,\"solidity\":0.2}},\"type\":\"barpolar\"}],\"pie\":[{\"automargin\":true,\"type\":\"pie\"}]},\"layout\":{\"autotypenumbers\":\"strict\",\"colorway\":[\"#636efa\",\"#EF553B\",\"#00cc96\",\"#ab63fa\",\"#FFA15A\",\"#19d3f3\",\"#FF6692\",\"#B6E880\",\"#FF97FF\",\"#FECB52\"],\"font\":{\"color\":\"#2a3f5f\"},\"hovermode\":\"closest\",\"hoverlabel\":{\"align\":\"left\"},\"paper_bgcolor\":\"white\",\"plot_bgcolor\":\"#E5ECF6\",\"polar\":{\"bgcolor\":\"#E5ECF6\",\"angularaxis\":{\"gridcolor\":\"white\",\"linecolor\":\"white\",\"ticks\":\"\"},\"radialaxis\":{\"gridcolor\":\"white\",\"linecolor\":\"white\",\"ticks\":\"\"}},\"ternary\":{\"bgcolor\":\"#E5ECF6\",\"aaxis\":{\"gridcolor\":\"white\",\"linecolor\":\"white\",\"ticks\":\"\"},\"baxis\":{\"gridcolor\":\"white\",\"linecolor\":\"white\",\"ticks\":\"\"},\"caxis\":{\"gridcolor\":\"white\",\"linecolor\":\"white\",\"ticks\":\"\"}},\"coloraxis\":{\"colorbar\":{\"outlinewidth\":0,\"ticks\":\"\"}},\"colorscale\":{\"sequential\":[[0.0,\"#0d0887\"],[0.1111111111111111,\"#46039f\"],[0.2222222222222222,\"#7201a8\"],[0.3333333333333333,\"#9c179e\"],[0.4444444444444444,\"#bd3786\"],[0.5555555555555556,\"#d8576b\"],[0.6666666666666666,\"#ed7953\"],[0.7777777777777778,\"#fb9f3a\"],[0.8888888888888888,\"#fdca26\"],[1.0,\"#f0f921\"]],\"sequentialminus\":[[0.0,\"#0d0887\"],[0.1111111111111111,\"#46039f\"],[0.2222222222222222,\"#7201a8\"],[0.3333333333333333,\"#9c179e\"],[0.4444444444444444,\"#bd3786\"],[0.5555555555555556,\"#d8576b\"],[0.6666666666666666,\"#ed7953\"],[0.7777777777777778,\"#fb9f3a\"],[0.8888888888888888,\"#fdca26\"],[1.0,\"#f0f921\"]],\"diverging\":[[0,\"#8e0152\"],[0.1,\"#c51b7d\"],[0.2,\"#de77ae\"],[0.3,\"#f1b6da\"],[0.4,\"#fde0ef\"],[0.5,\"#f7f7f7\"],[0.6,\"#e6f5d0\"],[0.7,\"#b8e186\"],[0.8,\"#7fbc41\"],[0.9,\"#4d9221\"],[1,\"#276419\"]]},\"xaxis\":{\"gridcolor\":\"white\",\"linecolor\":\"white\",\"ticks\":\"\",\"title\":{\"standoff\":15},\"zerolinecolor\":\"white\",\"automargin\":true,\"zerolinewidth\":2},\"yaxis\":{\"gridcolor\":\"white\",\"linecolor\":\"white\",\"ticks\":\"\",\"title\":{\"standoff\":15},\"zerolinecolor\":\"white\",\"automargin\":true,\"zerolinewidth\":2},\"scene\":{\"xaxis\":{\"backgroundcolor\":\"#E5ECF6\",\"gridcolor\":\"white\",\"linecolor\":\"white\",\"showbackground\":true,\"ticks\":\"\",\"zerolinecolor\":\"white\",\"gridwidth\":2},\"yaxis\":{\"backgroundcolor\":\"#E5ECF6\",\"gridcolor\":\"white\",\"linecolor\":\"white\",\"showbackground\":true,\"ticks\":\"\",\"zerolinecolor\":\"white\",\"gridwidth\":2},\"zaxis\":{\"backgroundcolor\":\"#E5ECF6\",\"gridcolor\":\"white\",\"linecolor\":\"white\",\"showbackground\":true,\"ticks\":\"\",\"zerolinecolor\":\"white\",\"gridwidth\":2}},\"shapedefaults\":{\"line\":{\"color\":\"#2a3f5f\"}},\"annotationdefaults\":{\"arrowcolor\":\"#2a3f5f\",\"arrowhead\":0,\"arrowwidth\":1},\"geo\":{\"bgcolor\":\"white\",\"landcolor\":\"#E5ECF6\",\"subunitcolor\":\"white\",\"showland\":true,\"showlakes\":true,\"lakecolor\":\"white\"},\"title\":{\"x\":0.05},\"mapbox\":{\"style\":\"light\"}}},\"xaxis\":{\"anchor\":\"y\",\"domain\":[0.0,1.0],\"title\":{\"text\":\"schoolyear\"}},\"yaxis\":{\"anchor\":\"x\",\"domain\":[0.0,1.0],\"title\":{\"text\":\"Total Enrollment\"}},\"legend\":{\"title\":{\"text\":\"Gender\"},\"tracegroupgap\":0},\"title\":{\"text\":\"Progress of Total Enrollments for Boys and Girls Over Years\"}},                        {\"responsive\": true}                    ).then(function(){\n",
       "                            \n",
       "var gd = document.getElementById('e753db6f-4fcf-4161-ac4b-cf8804725f8a');\n",
       "var x = new MutationObserver(function (mutations, observer) {{\n",
       "        var display = window.getComputedStyle(gd).display;\n",
       "        if (!display || display === 'none') {{\n",
       "            console.log([gd, 'removed!']);\n",
       "            Plotly.purge(gd);\n",
       "            observer.disconnect();\n",
       "        }}\n",
       "}});\n",
       "\n",
       "// Listen for the removal of the full notebook cells\n",
       "var notebookContainer = gd.closest('#notebook-container');\n",
       "if (notebookContainer) {{\n",
       "    x.observe(notebookContainer, {childList: true});\n",
       "}}\n",
       "\n",
       "// Listen for the clearing of the current output cell\n",
       "var outputEl = gd.closest('.output');\n",
       "if (outputEl) {{\n",
       "    x.observe(outputEl, {childList: true});\n",
       "}}\n",
       "\n",
       "                        })                };                });            </script>        </div>"
      ]
     },
     "metadata": {},
     "output_type": "display_data"
    }
   ],
   "source": [
    "import pandas as pd\n",
    "import plotly.express as px\n",
    "\n",
    "# Assuming data is the first dataset and all_years_20_schools is the second dataset\n",
    "\n",
    "# Convert relevant columns in the first dataset to numeric\n",
    "numeric_columns = ['male_num', 'female_num']\n",
    "data[numeric_columns] = data[numeric_columns].apply(pd.to_numeric, errors='coerce')\n",
    "\n",
    "# Merge datasets\n",
    "merged_data = pd.merge(data, all_years_20_schools, on=['schoolyear', 'Name'])\n",
    "\n",
    "# Group by schoolyear and sum enrollments for boys and girls\n",
    "gender_totals = merged_data.groupby('schoolyear')[['male_num', 'female_num']].sum().reset_index()\n",
    "\n",
    "# Plot line graph\n",
    "fig = px.line(gender_totals, x='schoolyear', y=['male_num', 'female_num'],\n",
    "              labels={'variable': 'Gender', 'value': 'Total Enrollment'},\n",
    "              title='Progress of Total Enrollments for Boys and Girls Over Years')\n",
    "fig.show()"
   ]
  },
  {
   "cell_type": "markdown",
   "metadata": {},
   "source": [
    "I wished to touch upon the columns dealing with the language classes that students are enrolled in."
   ]
  },
  {
   "cell_type": "markdown",
   "metadata": {},
   "source": []
  },
  {
   "cell_type": "code",
   "execution_count": 98,
   "metadata": {},
   "outputs": [
    {
     "data": {
      "application/vnd.plotly.v1+json": {
       "config": {
        "plotlyServerURL": "https://plot.ly"
       },
       "data": [
        {
         "hovertemplate": "Gender=ell_num<br>schoolyear=%{x}<br>Total Enrollment=%{y}<extra></extra>",
         "legendgroup": "ell_num",
         "line": {
          "color": "#636efa",
          "dash": "solid"
         },
         "marker": {
          "symbol": "circle"
         },
         "mode": "lines",
         "name": "ell_num",
         "orientation": "v",
         "showlegend": true,
         "type": "scatter",
         "x": [
          "20052006",
          "20062007",
          "20072008",
          "20082009",
          "20092010",
          "20102011",
          "20112012"
         ],
         "xaxis": "x",
         "y": [
          8385,
          7176,
          8873,
          8081,
          8653,
          9128,
          8989
         ],
         "yaxis": "y"
        },
        {
         "hovertemplate": "Gender=sped_num<br>schoolyear=%{x}<br>Total Enrollment=%{y}<extra></extra>",
         "legendgroup": "sped_num",
         "line": {
          "color": "#EF553B",
          "dash": "solid"
         },
         "marker": {
          "symbol": "circle"
         },
         "mode": "lines",
         "name": "sped_num",
         "orientation": "v",
         "showlegend": true,
         "type": "scatter",
         "x": [
          "20052006",
          "20062007",
          "20072008",
          "20082009",
          "20092010",
          "20102011",
          "20112012"
         ],
         "xaxis": "x",
         "y": [
          6931,
          7061,
          7057,
          6822,
          7200,
          8099,
          8348
         ],
         "yaxis": "y"
        },
        {
         "hovertemplate": "Gender=ctt_num<br>schoolyear=%{x}<br>Total Enrollment=%{y}<extra></extra>",
         "legendgroup": "ctt_num",
         "line": {
          "color": "#00cc96",
          "dash": "solid"
         },
         "marker": {
          "symbol": "circle"
         },
         "mode": "lines",
         "name": "ctt_num",
         "orientation": "v",
         "showlegend": true,
         "type": "scatter",
         "x": [
          "20052006",
          "20062007",
          "20072008",
          "20082009",
          "20092010",
          "20102011",
          "20112012"
         ],
         "xaxis": "x",
         "y": [
          731,
          946,
          1305,
          1623,
          1908,
          2402,
          2636
         ],
         "yaxis": "y"
        }
       ],
       "layout": {
        "legend": {
         "title": {
          "text": "Gender"
         },
         "tracegroupgap": 0
        },
        "template": {
         "data": {
          "bar": [
           {
            "error_x": {
             "color": "#2a3f5f"
            },
            "error_y": {
             "color": "#2a3f5f"
            },
            "marker": {
             "line": {
              "color": "#E5ECF6",
              "width": 0.5
             },
             "pattern": {
              "fillmode": "overlay",
              "size": 10,
              "solidity": 0.2
             }
            },
            "type": "bar"
           }
          ],
          "barpolar": [
           {
            "marker": {
             "line": {
              "color": "#E5ECF6",
              "width": 0.5
             },
             "pattern": {
              "fillmode": "overlay",
              "size": 10,
              "solidity": 0.2
             }
            },
            "type": "barpolar"
           }
          ],
          "carpet": [
           {
            "aaxis": {
             "endlinecolor": "#2a3f5f",
             "gridcolor": "white",
             "linecolor": "white",
             "minorgridcolor": "white",
             "startlinecolor": "#2a3f5f"
            },
            "baxis": {
             "endlinecolor": "#2a3f5f",
             "gridcolor": "white",
             "linecolor": "white",
             "minorgridcolor": "white",
             "startlinecolor": "#2a3f5f"
            },
            "type": "carpet"
           }
          ],
          "choropleth": [
           {
            "colorbar": {
             "outlinewidth": 0,
             "ticks": ""
            },
            "type": "choropleth"
           }
          ],
          "contour": [
           {
            "colorbar": {
             "outlinewidth": 0,
             "ticks": ""
            },
            "colorscale": [
             [
              0,
              "#0d0887"
             ],
             [
              0.1111111111111111,
              "#46039f"
             ],
             [
              0.2222222222222222,
              "#7201a8"
             ],
             [
              0.3333333333333333,
              "#9c179e"
             ],
             [
              0.4444444444444444,
              "#bd3786"
             ],
             [
              0.5555555555555556,
              "#d8576b"
             ],
             [
              0.6666666666666666,
              "#ed7953"
             ],
             [
              0.7777777777777778,
              "#fb9f3a"
             ],
             [
              0.8888888888888888,
              "#fdca26"
             ],
             [
              1,
              "#f0f921"
             ]
            ],
            "type": "contour"
           }
          ],
          "contourcarpet": [
           {
            "colorbar": {
             "outlinewidth": 0,
             "ticks": ""
            },
            "type": "contourcarpet"
           }
          ],
          "heatmap": [
           {
            "colorbar": {
             "outlinewidth": 0,
             "ticks": ""
            },
            "colorscale": [
             [
              0,
              "#0d0887"
             ],
             [
              0.1111111111111111,
              "#46039f"
             ],
             [
              0.2222222222222222,
              "#7201a8"
             ],
             [
              0.3333333333333333,
              "#9c179e"
             ],
             [
              0.4444444444444444,
              "#bd3786"
             ],
             [
              0.5555555555555556,
              "#d8576b"
             ],
             [
              0.6666666666666666,
              "#ed7953"
             ],
             [
              0.7777777777777778,
              "#fb9f3a"
             ],
             [
              0.8888888888888888,
              "#fdca26"
             ],
             [
              1,
              "#f0f921"
             ]
            ],
            "type": "heatmap"
           }
          ],
          "heatmapgl": [
           {
            "colorbar": {
             "outlinewidth": 0,
             "ticks": ""
            },
            "colorscale": [
             [
              0,
              "#0d0887"
             ],
             [
              0.1111111111111111,
              "#46039f"
             ],
             [
              0.2222222222222222,
              "#7201a8"
             ],
             [
              0.3333333333333333,
              "#9c179e"
             ],
             [
              0.4444444444444444,
              "#bd3786"
             ],
             [
              0.5555555555555556,
              "#d8576b"
             ],
             [
              0.6666666666666666,
              "#ed7953"
             ],
             [
              0.7777777777777778,
              "#fb9f3a"
             ],
             [
              0.8888888888888888,
              "#fdca26"
             ],
             [
              1,
              "#f0f921"
             ]
            ],
            "type": "heatmapgl"
           }
          ],
          "histogram": [
           {
            "marker": {
             "pattern": {
              "fillmode": "overlay",
              "size": 10,
              "solidity": 0.2
             }
            },
            "type": "histogram"
           }
          ],
          "histogram2d": [
           {
            "colorbar": {
             "outlinewidth": 0,
             "ticks": ""
            },
            "colorscale": [
             [
              0,
              "#0d0887"
             ],
             [
              0.1111111111111111,
              "#46039f"
             ],
             [
              0.2222222222222222,
              "#7201a8"
             ],
             [
              0.3333333333333333,
              "#9c179e"
             ],
             [
              0.4444444444444444,
              "#bd3786"
             ],
             [
              0.5555555555555556,
              "#d8576b"
             ],
             [
              0.6666666666666666,
              "#ed7953"
             ],
             [
              0.7777777777777778,
              "#fb9f3a"
             ],
             [
              0.8888888888888888,
              "#fdca26"
             ],
             [
              1,
              "#f0f921"
             ]
            ],
            "type": "histogram2d"
           }
          ],
          "histogram2dcontour": [
           {
            "colorbar": {
             "outlinewidth": 0,
             "ticks": ""
            },
            "colorscale": [
             [
              0,
              "#0d0887"
             ],
             [
              0.1111111111111111,
              "#46039f"
             ],
             [
              0.2222222222222222,
              "#7201a8"
             ],
             [
              0.3333333333333333,
              "#9c179e"
             ],
             [
              0.4444444444444444,
              "#bd3786"
             ],
             [
              0.5555555555555556,
              "#d8576b"
             ],
             [
              0.6666666666666666,
              "#ed7953"
             ],
             [
              0.7777777777777778,
              "#fb9f3a"
             ],
             [
              0.8888888888888888,
              "#fdca26"
             ],
             [
              1,
              "#f0f921"
             ]
            ],
            "type": "histogram2dcontour"
           }
          ],
          "mesh3d": [
           {
            "colorbar": {
             "outlinewidth": 0,
             "ticks": ""
            },
            "type": "mesh3d"
           }
          ],
          "parcoords": [
           {
            "line": {
             "colorbar": {
              "outlinewidth": 0,
              "ticks": ""
             }
            },
            "type": "parcoords"
           }
          ],
          "pie": [
           {
            "automargin": true,
            "type": "pie"
           }
          ],
          "scatter": [
           {
            "fillpattern": {
             "fillmode": "overlay",
             "size": 10,
             "solidity": 0.2
            },
            "type": "scatter"
           }
          ],
          "scatter3d": [
           {
            "line": {
             "colorbar": {
              "outlinewidth": 0,
              "ticks": ""
             }
            },
            "marker": {
             "colorbar": {
              "outlinewidth": 0,
              "ticks": ""
             }
            },
            "type": "scatter3d"
           }
          ],
          "scattercarpet": [
           {
            "marker": {
             "colorbar": {
              "outlinewidth": 0,
              "ticks": ""
             }
            },
            "type": "scattercarpet"
           }
          ],
          "scattergeo": [
           {
            "marker": {
             "colorbar": {
              "outlinewidth": 0,
              "ticks": ""
             }
            },
            "type": "scattergeo"
           }
          ],
          "scattergl": [
           {
            "marker": {
             "colorbar": {
              "outlinewidth": 0,
              "ticks": ""
             }
            },
            "type": "scattergl"
           }
          ],
          "scattermapbox": [
           {
            "marker": {
             "colorbar": {
              "outlinewidth": 0,
              "ticks": ""
             }
            },
            "type": "scattermapbox"
           }
          ],
          "scatterpolar": [
           {
            "marker": {
             "colorbar": {
              "outlinewidth": 0,
              "ticks": ""
             }
            },
            "type": "scatterpolar"
           }
          ],
          "scatterpolargl": [
           {
            "marker": {
             "colorbar": {
              "outlinewidth": 0,
              "ticks": ""
             }
            },
            "type": "scatterpolargl"
           }
          ],
          "scatterternary": [
           {
            "marker": {
             "colorbar": {
              "outlinewidth": 0,
              "ticks": ""
             }
            },
            "type": "scatterternary"
           }
          ],
          "surface": [
           {
            "colorbar": {
             "outlinewidth": 0,
             "ticks": ""
            },
            "colorscale": [
             [
              0,
              "#0d0887"
             ],
             [
              0.1111111111111111,
              "#46039f"
             ],
             [
              0.2222222222222222,
              "#7201a8"
             ],
             [
              0.3333333333333333,
              "#9c179e"
             ],
             [
              0.4444444444444444,
              "#bd3786"
             ],
             [
              0.5555555555555556,
              "#d8576b"
             ],
             [
              0.6666666666666666,
              "#ed7953"
             ],
             [
              0.7777777777777778,
              "#fb9f3a"
             ],
             [
              0.8888888888888888,
              "#fdca26"
             ],
             [
              1,
              "#f0f921"
             ]
            ],
            "type": "surface"
           }
          ],
          "table": [
           {
            "cells": {
             "fill": {
              "color": "#EBF0F8"
             },
             "line": {
              "color": "white"
             }
            },
            "header": {
             "fill": {
              "color": "#C8D4E3"
             },
             "line": {
              "color": "white"
             }
            },
            "type": "table"
           }
          ]
         },
         "layout": {
          "annotationdefaults": {
           "arrowcolor": "#2a3f5f",
           "arrowhead": 0,
           "arrowwidth": 1
          },
          "autotypenumbers": "strict",
          "coloraxis": {
           "colorbar": {
            "outlinewidth": 0,
            "ticks": ""
           }
          },
          "colorscale": {
           "diverging": [
            [
             0,
             "#8e0152"
            ],
            [
             0.1,
             "#c51b7d"
            ],
            [
             0.2,
             "#de77ae"
            ],
            [
             0.3,
             "#f1b6da"
            ],
            [
             0.4,
             "#fde0ef"
            ],
            [
             0.5,
             "#f7f7f7"
            ],
            [
             0.6,
             "#e6f5d0"
            ],
            [
             0.7,
             "#b8e186"
            ],
            [
             0.8,
             "#7fbc41"
            ],
            [
             0.9,
             "#4d9221"
            ],
            [
             1,
             "#276419"
            ]
           ],
           "sequential": [
            [
             0,
             "#0d0887"
            ],
            [
             0.1111111111111111,
             "#46039f"
            ],
            [
             0.2222222222222222,
             "#7201a8"
            ],
            [
             0.3333333333333333,
             "#9c179e"
            ],
            [
             0.4444444444444444,
             "#bd3786"
            ],
            [
             0.5555555555555556,
             "#d8576b"
            ],
            [
             0.6666666666666666,
             "#ed7953"
            ],
            [
             0.7777777777777778,
             "#fb9f3a"
            ],
            [
             0.8888888888888888,
             "#fdca26"
            ],
            [
             1,
             "#f0f921"
            ]
           ],
           "sequentialminus": [
            [
             0,
             "#0d0887"
            ],
            [
             0.1111111111111111,
             "#46039f"
            ],
            [
             0.2222222222222222,
             "#7201a8"
            ],
            [
             0.3333333333333333,
             "#9c179e"
            ],
            [
             0.4444444444444444,
             "#bd3786"
            ],
            [
             0.5555555555555556,
             "#d8576b"
            ],
            [
             0.6666666666666666,
             "#ed7953"
            ],
            [
             0.7777777777777778,
             "#fb9f3a"
            ],
            [
             0.8888888888888888,
             "#fdca26"
            ],
            [
             1,
             "#f0f921"
            ]
           ]
          },
          "colorway": [
           "#636efa",
           "#EF553B",
           "#00cc96",
           "#ab63fa",
           "#FFA15A",
           "#19d3f3",
           "#FF6692",
           "#B6E880",
           "#FF97FF",
           "#FECB52"
          ],
          "font": {
           "color": "#2a3f5f"
          },
          "geo": {
           "bgcolor": "white",
           "lakecolor": "white",
           "landcolor": "#E5ECF6",
           "showlakes": true,
           "showland": true,
           "subunitcolor": "white"
          },
          "hoverlabel": {
           "align": "left"
          },
          "hovermode": "closest",
          "mapbox": {
           "style": "light"
          },
          "paper_bgcolor": "white",
          "plot_bgcolor": "#E5ECF6",
          "polar": {
           "angularaxis": {
            "gridcolor": "white",
            "linecolor": "white",
            "ticks": ""
           },
           "bgcolor": "#E5ECF6",
           "radialaxis": {
            "gridcolor": "white",
            "linecolor": "white",
            "ticks": ""
           }
          },
          "scene": {
           "xaxis": {
            "backgroundcolor": "#E5ECF6",
            "gridcolor": "white",
            "gridwidth": 2,
            "linecolor": "white",
            "showbackground": true,
            "ticks": "",
            "zerolinecolor": "white"
           },
           "yaxis": {
            "backgroundcolor": "#E5ECF6",
            "gridcolor": "white",
            "gridwidth": 2,
            "linecolor": "white",
            "showbackground": true,
            "ticks": "",
            "zerolinecolor": "white"
           },
           "zaxis": {
            "backgroundcolor": "#E5ECF6",
            "gridcolor": "white",
            "gridwidth": 2,
            "linecolor": "white",
            "showbackground": true,
            "ticks": "",
            "zerolinecolor": "white"
           }
          },
          "shapedefaults": {
           "line": {
            "color": "#2a3f5f"
           }
          },
          "ternary": {
           "aaxis": {
            "gridcolor": "white",
            "linecolor": "white",
            "ticks": ""
           },
           "baxis": {
            "gridcolor": "white",
            "linecolor": "white",
            "ticks": ""
           },
           "bgcolor": "#E5ECF6",
           "caxis": {
            "gridcolor": "white",
            "linecolor": "white",
            "ticks": ""
           }
          },
          "title": {
           "x": 0.05
          },
          "xaxis": {
           "automargin": true,
           "gridcolor": "white",
           "linecolor": "white",
           "ticks": "",
           "title": {
            "standoff": 15
           },
           "zerolinecolor": "white",
           "zerolinewidth": 2
          },
          "yaxis": {
           "automargin": true,
           "gridcolor": "white",
           "linecolor": "white",
           "ticks": "",
           "title": {
            "standoff": 15
           },
           "zerolinecolor": "white",
           "zerolinewidth": 2
          }
         }
        },
        "title": {
         "text": "Progress of Total Enrollments in different languages Over Years"
        },
        "xaxis": {
         "anchor": "y",
         "domain": [
          0,
          1
         ],
         "title": {
          "text": "schoolyear"
         }
        },
        "yaxis": {
         "anchor": "x",
         "domain": [
          0,
          1
         ],
         "title": {
          "text": "Total Enrollment"
         }
        }
       }
      },
      "text/html": [
       "<div>                            <div id=\"13c8a019-0757-475f-8bb3-9338cc9492f9\" class=\"plotly-graph-div\" style=\"height:525px; width:100%;\"></div>            <script type=\"text/javascript\">                require([\"plotly\"], function(Plotly) {                    window.PLOTLYENV=window.PLOTLYENV || {};                                    if (document.getElementById(\"13c8a019-0757-475f-8bb3-9338cc9492f9\")) {                    Plotly.newPlot(                        \"13c8a019-0757-475f-8bb3-9338cc9492f9\",                        [{\"hovertemplate\":\"Gender=ell_num<br>schoolyear=%{x}<br>Total Enrollment=%{y}<extra></extra>\",\"legendgroup\":\"ell_num\",\"line\":{\"color\":\"#636efa\",\"dash\":\"solid\"},\"marker\":{\"symbol\":\"circle\"},\"mode\":\"lines\",\"name\":\"ell_num\",\"orientation\":\"v\",\"showlegend\":true,\"x\":[\"20052006\",\"20062007\",\"20072008\",\"20082009\",\"20092010\",\"20102011\",\"20112012\"],\"xaxis\":\"x\",\"y\":[8385.0,7176.0,8873.0,8081.0,8653.0,9128.0,8989.0],\"yaxis\":\"y\",\"type\":\"scatter\"},{\"hovertemplate\":\"Gender=sped_num<br>schoolyear=%{x}<br>Total Enrollment=%{y}<extra></extra>\",\"legendgroup\":\"sped_num\",\"line\":{\"color\":\"#EF553B\",\"dash\":\"solid\"},\"marker\":{\"symbol\":\"circle\"},\"mode\":\"lines\",\"name\":\"sped_num\",\"orientation\":\"v\",\"showlegend\":true,\"x\":[\"20052006\",\"20062007\",\"20072008\",\"20082009\",\"20092010\",\"20102011\",\"20112012\"],\"xaxis\":\"x\",\"y\":[6931.0,7061.0,7057.0,6822.0,7200.0,8099.0,8348.0],\"yaxis\":\"y\",\"type\":\"scatter\"},{\"hovertemplate\":\"Gender=ctt_num<br>schoolyear=%{x}<br>Total Enrollment=%{y}<extra></extra>\",\"legendgroup\":\"ctt_num\",\"line\":{\"color\":\"#00cc96\",\"dash\":\"solid\"},\"marker\":{\"symbol\":\"circle\"},\"mode\":\"lines\",\"name\":\"ctt_num\",\"orientation\":\"v\",\"showlegend\":true,\"x\":[\"20052006\",\"20062007\",\"20072008\",\"20082009\",\"20092010\",\"20102011\",\"20112012\"],\"xaxis\":\"x\",\"y\":[731.0,946.0,1305.0,1623.0,1908.0,2402.0,2636.0],\"yaxis\":\"y\",\"type\":\"scatter\"}],                        {\"template\":{\"data\":{\"histogram2dcontour\":[{\"type\":\"histogram2dcontour\",\"colorbar\":{\"outlinewidth\":0,\"ticks\":\"\"},\"colorscale\":[[0.0,\"#0d0887\"],[0.1111111111111111,\"#46039f\"],[0.2222222222222222,\"#7201a8\"],[0.3333333333333333,\"#9c179e\"],[0.4444444444444444,\"#bd3786\"],[0.5555555555555556,\"#d8576b\"],[0.6666666666666666,\"#ed7953\"],[0.7777777777777778,\"#fb9f3a\"],[0.8888888888888888,\"#fdca26\"],[1.0,\"#f0f921\"]]}],\"choropleth\":[{\"type\":\"choropleth\",\"colorbar\":{\"outlinewidth\":0,\"ticks\":\"\"}}],\"histogram2d\":[{\"type\":\"histogram2d\",\"colorbar\":{\"outlinewidth\":0,\"ticks\":\"\"},\"colorscale\":[[0.0,\"#0d0887\"],[0.1111111111111111,\"#46039f\"],[0.2222222222222222,\"#7201a8\"],[0.3333333333333333,\"#9c179e\"],[0.4444444444444444,\"#bd3786\"],[0.5555555555555556,\"#d8576b\"],[0.6666666666666666,\"#ed7953\"],[0.7777777777777778,\"#fb9f3a\"],[0.8888888888888888,\"#fdca26\"],[1.0,\"#f0f921\"]]}],\"heatmap\":[{\"type\":\"heatmap\",\"colorbar\":{\"outlinewidth\":0,\"ticks\":\"\"},\"colorscale\":[[0.0,\"#0d0887\"],[0.1111111111111111,\"#46039f\"],[0.2222222222222222,\"#7201a8\"],[0.3333333333333333,\"#9c179e\"],[0.4444444444444444,\"#bd3786\"],[0.5555555555555556,\"#d8576b\"],[0.6666666666666666,\"#ed7953\"],[0.7777777777777778,\"#fb9f3a\"],[0.8888888888888888,\"#fdca26\"],[1.0,\"#f0f921\"]]}],\"heatmapgl\":[{\"type\":\"heatmapgl\",\"colorbar\":{\"outlinewidth\":0,\"ticks\":\"\"},\"colorscale\":[[0.0,\"#0d0887\"],[0.1111111111111111,\"#46039f\"],[0.2222222222222222,\"#7201a8\"],[0.3333333333333333,\"#9c179e\"],[0.4444444444444444,\"#bd3786\"],[0.5555555555555556,\"#d8576b\"],[0.6666666666666666,\"#ed7953\"],[0.7777777777777778,\"#fb9f3a\"],[0.8888888888888888,\"#fdca26\"],[1.0,\"#f0f921\"]]}],\"contourcarpet\":[{\"type\":\"contourcarpet\",\"colorbar\":{\"outlinewidth\":0,\"ticks\":\"\"}}],\"contour\":[{\"type\":\"contour\",\"colorbar\":{\"outlinewidth\":0,\"ticks\":\"\"},\"colorscale\":[[0.0,\"#0d0887\"],[0.1111111111111111,\"#46039f\"],[0.2222222222222222,\"#7201a8\"],[0.3333333333333333,\"#9c179e\"],[0.4444444444444444,\"#bd3786\"],[0.5555555555555556,\"#d8576b\"],[0.6666666666666666,\"#ed7953\"],[0.7777777777777778,\"#fb9f3a\"],[0.8888888888888888,\"#fdca26\"],[1.0,\"#f0f921\"]]}],\"surface\":[{\"type\":\"surface\",\"colorbar\":{\"outlinewidth\":0,\"ticks\":\"\"},\"colorscale\":[[0.0,\"#0d0887\"],[0.1111111111111111,\"#46039f\"],[0.2222222222222222,\"#7201a8\"],[0.3333333333333333,\"#9c179e\"],[0.4444444444444444,\"#bd3786\"],[0.5555555555555556,\"#d8576b\"],[0.6666666666666666,\"#ed7953\"],[0.7777777777777778,\"#fb9f3a\"],[0.8888888888888888,\"#fdca26\"],[1.0,\"#f0f921\"]]}],\"mesh3d\":[{\"type\":\"mesh3d\",\"colorbar\":{\"outlinewidth\":0,\"ticks\":\"\"}}],\"scatter\":[{\"fillpattern\":{\"fillmode\":\"overlay\",\"size\":10,\"solidity\":0.2},\"type\":\"scatter\"}],\"parcoords\":[{\"type\":\"parcoords\",\"line\":{\"colorbar\":{\"outlinewidth\":0,\"ticks\":\"\"}}}],\"scatterpolargl\":[{\"type\":\"scatterpolargl\",\"marker\":{\"colorbar\":{\"outlinewidth\":0,\"ticks\":\"\"}}}],\"bar\":[{\"error_x\":{\"color\":\"#2a3f5f\"},\"error_y\":{\"color\":\"#2a3f5f\"},\"marker\":{\"line\":{\"color\":\"#E5ECF6\",\"width\":0.5},\"pattern\":{\"fillmode\":\"overlay\",\"size\":10,\"solidity\":0.2}},\"type\":\"bar\"}],\"scattergeo\":[{\"type\":\"scattergeo\",\"marker\":{\"colorbar\":{\"outlinewidth\":0,\"ticks\":\"\"}}}],\"scatterpolar\":[{\"type\":\"scatterpolar\",\"marker\":{\"colorbar\":{\"outlinewidth\":0,\"ticks\":\"\"}}}],\"histogram\":[{\"marker\":{\"pattern\":{\"fillmode\":\"overlay\",\"size\":10,\"solidity\":0.2}},\"type\":\"histogram\"}],\"scattergl\":[{\"type\":\"scattergl\",\"marker\":{\"colorbar\":{\"outlinewidth\":0,\"ticks\":\"\"}}}],\"scatter3d\":[{\"type\":\"scatter3d\",\"line\":{\"colorbar\":{\"outlinewidth\":0,\"ticks\":\"\"}},\"marker\":{\"colorbar\":{\"outlinewidth\":0,\"ticks\":\"\"}}}],\"scattermapbox\":[{\"type\":\"scattermapbox\",\"marker\":{\"colorbar\":{\"outlinewidth\":0,\"ticks\":\"\"}}}],\"scatterternary\":[{\"type\":\"scatterternary\",\"marker\":{\"colorbar\":{\"outlinewidth\":0,\"ticks\":\"\"}}}],\"scattercarpet\":[{\"type\":\"scattercarpet\",\"marker\":{\"colorbar\":{\"outlinewidth\":0,\"ticks\":\"\"}}}],\"carpet\":[{\"aaxis\":{\"endlinecolor\":\"#2a3f5f\",\"gridcolor\":\"white\",\"linecolor\":\"white\",\"minorgridcolor\":\"white\",\"startlinecolor\":\"#2a3f5f\"},\"baxis\":{\"endlinecolor\":\"#2a3f5f\",\"gridcolor\":\"white\",\"linecolor\":\"white\",\"minorgridcolor\":\"white\",\"startlinecolor\":\"#2a3f5f\"},\"type\":\"carpet\"}],\"table\":[{\"cells\":{\"fill\":{\"color\":\"#EBF0F8\"},\"line\":{\"color\":\"white\"}},\"header\":{\"fill\":{\"color\":\"#C8D4E3\"},\"line\":{\"color\":\"white\"}},\"type\":\"table\"}],\"barpolar\":[{\"marker\":{\"line\":{\"color\":\"#E5ECF6\",\"width\":0.5},\"pattern\":{\"fillmode\":\"overlay\",\"size\":10,\"solidity\":0.2}},\"type\":\"barpolar\"}],\"pie\":[{\"automargin\":true,\"type\":\"pie\"}]},\"layout\":{\"autotypenumbers\":\"strict\",\"colorway\":[\"#636efa\",\"#EF553B\",\"#00cc96\",\"#ab63fa\",\"#FFA15A\",\"#19d3f3\",\"#FF6692\",\"#B6E880\",\"#FF97FF\",\"#FECB52\"],\"font\":{\"color\":\"#2a3f5f\"},\"hovermode\":\"closest\",\"hoverlabel\":{\"align\":\"left\"},\"paper_bgcolor\":\"white\",\"plot_bgcolor\":\"#E5ECF6\",\"polar\":{\"bgcolor\":\"#E5ECF6\",\"angularaxis\":{\"gridcolor\":\"white\",\"linecolor\":\"white\",\"ticks\":\"\"},\"radialaxis\":{\"gridcolor\":\"white\",\"linecolor\":\"white\",\"ticks\":\"\"}},\"ternary\":{\"bgcolor\":\"#E5ECF6\",\"aaxis\":{\"gridcolor\":\"white\",\"linecolor\":\"white\",\"ticks\":\"\"},\"baxis\":{\"gridcolor\":\"white\",\"linecolor\":\"white\",\"ticks\":\"\"},\"caxis\":{\"gridcolor\":\"white\",\"linecolor\":\"white\",\"ticks\":\"\"}},\"coloraxis\":{\"colorbar\":{\"outlinewidth\":0,\"ticks\":\"\"}},\"colorscale\":{\"sequential\":[[0.0,\"#0d0887\"],[0.1111111111111111,\"#46039f\"],[0.2222222222222222,\"#7201a8\"],[0.3333333333333333,\"#9c179e\"],[0.4444444444444444,\"#bd3786\"],[0.5555555555555556,\"#d8576b\"],[0.6666666666666666,\"#ed7953\"],[0.7777777777777778,\"#fb9f3a\"],[0.8888888888888888,\"#fdca26\"],[1.0,\"#f0f921\"]],\"sequentialminus\":[[0.0,\"#0d0887\"],[0.1111111111111111,\"#46039f\"],[0.2222222222222222,\"#7201a8\"],[0.3333333333333333,\"#9c179e\"],[0.4444444444444444,\"#bd3786\"],[0.5555555555555556,\"#d8576b\"],[0.6666666666666666,\"#ed7953\"],[0.7777777777777778,\"#fb9f3a\"],[0.8888888888888888,\"#fdca26\"],[1.0,\"#f0f921\"]],\"diverging\":[[0,\"#8e0152\"],[0.1,\"#c51b7d\"],[0.2,\"#de77ae\"],[0.3,\"#f1b6da\"],[0.4,\"#fde0ef\"],[0.5,\"#f7f7f7\"],[0.6,\"#e6f5d0\"],[0.7,\"#b8e186\"],[0.8,\"#7fbc41\"],[0.9,\"#4d9221\"],[1,\"#276419\"]]},\"xaxis\":{\"gridcolor\":\"white\",\"linecolor\":\"white\",\"ticks\":\"\",\"title\":{\"standoff\":15},\"zerolinecolor\":\"white\",\"automargin\":true,\"zerolinewidth\":2},\"yaxis\":{\"gridcolor\":\"white\",\"linecolor\":\"white\",\"ticks\":\"\",\"title\":{\"standoff\":15},\"zerolinecolor\":\"white\",\"automargin\":true,\"zerolinewidth\":2},\"scene\":{\"xaxis\":{\"backgroundcolor\":\"#E5ECF6\",\"gridcolor\":\"white\",\"linecolor\":\"white\",\"showbackground\":true,\"ticks\":\"\",\"zerolinecolor\":\"white\",\"gridwidth\":2},\"yaxis\":{\"backgroundcolor\":\"#E5ECF6\",\"gridcolor\":\"white\",\"linecolor\":\"white\",\"showbackground\":true,\"ticks\":\"\",\"zerolinecolor\":\"white\",\"gridwidth\":2},\"zaxis\":{\"backgroundcolor\":\"#E5ECF6\",\"gridcolor\":\"white\",\"linecolor\":\"white\",\"showbackground\":true,\"ticks\":\"\",\"zerolinecolor\":\"white\",\"gridwidth\":2}},\"shapedefaults\":{\"line\":{\"color\":\"#2a3f5f\"}},\"annotationdefaults\":{\"arrowcolor\":\"#2a3f5f\",\"arrowhead\":0,\"arrowwidth\":1},\"geo\":{\"bgcolor\":\"white\",\"landcolor\":\"#E5ECF6\",\"subunitcolor\":\"white\",\"showland\":true,\"showlakes\":true,\"lakecolor\":\"white\"},\"title\":{\"x\":0.05},\"mapbox\":{\"style\":\"light\"}}},\"xaxis\":{\"anchor\":\"y\",\"domain\":[0.0,1.0],\"title\":{\"text\":\"schoolyear\"}},\"yaxis\":{\"anchor\":\"x\",\"domain\":[0.0,1.0],\"title\":{\"text\":\"Total Enrollment\"}},\"legend\":{\"title\":{\"text\":\"Gender\"},\"tracegroupgap\":0},\"title\":{\"text\":\"Progress of Total Enrollments in different languages Over Years\"}},                        {\"responsive\": true}                    ).then(function(){\n",
       "                            \n",
       "var gd = document.getElementById('13c8a019-0757-475f-8bb3-9338cc9492f9');\n",
       "var x = new MutationObserver(function (mutations, observer) {{\n",
       "        var display = window.getComputedStyle(gd).display;\n",
       "        if (!display || display === 'none') {{\n",
       "            console.log([gd, 'removed!']);\n",
       "            Plotly.purge(gd);\n",
       "            observer.disconnect();\n",
       "        }}\n",
       "}});\n",
       "\n",
       "// Listen for the removal of the full notebook cells\n",
       "var notebookContainer = gd.closest('#notebook-container');\n",
       "if (notebookContainer) {{\n",
       "    x.observe(notebookContainer, {childList: true});\n",
       "}}\n",
       "\n",
       "// Listen for the clearing of the current output cell\n",
       "var outputEl = gd.closest('.output');\n",
       "if (outputEl) {{\n",
       "    x.observe(outputEl, {childList: true});\n",
       "}}\n",
       "\n",
       "                        })                };                });            </script>        </div>"
      ]
     },
     "metadata": {},
     "output_type": "display_data"
    }
   ],
   "source": [
    "import pandas as pd\n",
    "import plotly.express as px\n",
    "\n",
    "# Assuming data is the first dataset and all_years_20_schools is the second dataset\n",
    "\n",
    "# Convert relevant columns in the first dataset to numeric\n",
    "numeric_columns = ['ell_num', 'sped_num', 'ctt_num']\n",
    "data[numeric_columns] = data[numeric_columns].apply(pd.to_numeric, errors='coerce')\n",
    "\n",
    "# Merge datasets\n",
    "merged_data = pd.merge(data, all_years_20_schools, on=['schoolyear', 'Name'])\n",
    "\n",
    "# Group by schoolyear and sum enrollments for boys and girls\n",
    "gender_totals = merged_data.groupby('schoolyear')[['ell_num', 'sped_num', 'ctt_num']].sum().reset_index()\n",
    "\n",
    "# Plot line graph\n",
    "fig = px.line(gender_totals, x='schoolyear', y=['ell_num', 'sped_num', 'ctt_num'],\n",
    "              labels={'variable': 'Gender', 'value': 'Total Enrollment'},\n",
    "              title='Progress of Total Enrollments in different languages Over Years')\n",
    "fig.show()"
   ]
  },
  {
   "cell_type": "markdown",
   "metadata": {},
   "source": [
    "It appears that the number of students taking up english as their language has a very slight edge over the number of student taking up Spanish, meanwhile the population taking up Chinese seems to be growing at a slow but gradual rate. "
   ]
  },
  {
   "cell_type": "code",
   "execution_count": null,
   "metadata": {},
   "outputs": [],
   "source": []
  }
 ],
 "metadata": {
  "kernelspec": {
   "display_name": "Python 3 (ipykernel)",
   "language": "python",
   "name": "python3"
  },
  "language_info": {
   "codemirror_mode": {
    "name": "ipython",
    "version": 3
   },
   "file_extension": ".py",
   "mimetype": "text/x-python",
   "name": "python",
   "nbconvert_exporter": "python",
   "pygments_lexer": "ipython3",
   "version": "3.11.5"
  }
 },
 "nbformat": 4,
 "nbformat_minor": 4
}
